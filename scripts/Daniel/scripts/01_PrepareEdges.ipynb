{
 "cells": [
  {
   "cell_type": "markdown",
   "id": "d84b8ce3-ef32-43fa-a786-c24f28918acd",
   "metadata": {},
   "source": [
    "# Preparing edge table"
   ]
  },
  {
   "cell_type": "markdown",
   "id": "204ab03a",
   "metadata": {},
   "source": [
    "## Summary"
   ]
  },
  {
   "cell_type": "markdown",
   "id": "39ce4e25",
   "metadata": {},
   "source": [
    "- Import node table from Natalie.\n",
    "- Extract list of traits.\n",
    "- Identify sources of GWAS for the traits.\n",
    "- Save table with links to test, specifying whether a cis-analysis or a genome-wide analysis is needed."
   ]
  },
  {
   "cell_type": "markdown",
   "id": "ba26292a-ee1b-433f-9498-a2aa3916d3cf",
   "metadata": {},
   "source": [
    "## Libraries"
   ]
  },
  {
   "cell_type": "code",
   "execution_count": 2,
   "id": "17084bb0-87f5-40f6-80c9-c019bb65a957",
   "metadata": {
    "vscode": {
     "languageId": "r"
    }
   },
   "outputs": [
    {
     "name": "stderr",
     "output_type": "stream",
     "text": [
      "\n",
      "Attaching package: ‘dplyr’\n",
      "\n",
      "\n",
      "The following objects are masked from ‘package:stats’:\n",
      "\n",
      "    filter, lag\n",
      "\n",
      "\n",
      "The following objects are masked from ‘package:base’:\n",
      "\n",
      "    intersect, setdiff, setequal, union\n",
      "\n",
      "\n"
     ]
    }
   ],
   "source": [
    "library(readr)\n",
    "library(dplyr)\n",
    "library(tidyr)\n",
    "library(purrr)\n",
    "library(ggplot2)"
   ]
  },
  {
   "cell_type": "code",
   "execution_count": 3,
   "id": "0da0a817",
   "metadata": {
    "vscode": {
     "languageId": "r"
    }
   },
   "outputs": [],
   "source": [
    "projfold <- \"/Users/da1078co/Documents/Lund/PhD/Projects/BN\""
   ]
  },
  {
   "cell_type": "markdown",
   "id": "db3c7b2f-3bc4-491d-8168-f5eeae27d62c",
   "metadata": {},
   "source": [
    "## Edges to test - from Natalie"
   ]
  },
  {
   "cell_type": "code",
   "execution_count": 4,
   "id": "3b2e6f89",
   "metadata": {
    "vscode": {
     "languageId": "r"
    }
   },
   "outputs": [],
   "source": [
    "edge_tb0 <- read_tsv(\n",
    "  file.path(projfold, \"data\", \"edge_table_original.tsv\"),\n",
    "  show_col_types = FALSE\n",
    ")"
   ]
  },
  {
   "cell_type": "code",
   "execution_count": 5,
   "id": "10be6f7e",
   "metadata": {
    "vscode": {
     "languageId": "r"
    }
   },
   "outputs": [
    {
     "data": {
      "text/html": [
       "<table class=\"dataframe\">\n",
       "<caption>A tibble: 6 × 2</caption>\n",
       "<thead>\n",
       "\t<tr><th scope=col>node1</th><th scope=col>node2</th></tr>\n",
       "\t<tr><th scope=col>&lt;chr&gt;</th><th scope=col>&lt;chr&gt;</th></tr>\n",
       "</thead>\n",
       "<tbody>\n",
       "\t<tr><td>AGRP</td><td>CD4    </td></tr>\n",
       "\t<tr><td>AGRP</td><td>Glucose</td></tr>\n",
       "\t<tr><td>AGRP</td><td>TG     </td></tr>\n",
       "\t<tr><td>APOM</td><td>Clins  </td></tr>\n",
       "\t<tr><td>APOM</td><td>HDL    </td></tr>\n",
       "\t<tr><td>APOM</td><td>TG     </td></tr>\n",
       "</tbody>\n",
       "</table>\n"
      ],
      "text/latex": [
       "A tibble: 6 × 2\n",
       "\\begin{tabular}{ll}\n",
       " node1 & node2\\\\\n",
       " <chr> & <chr>\\\\\n",
       "\\hline\n",
       "\t AGRP & CD4    \\\\\n",
       "\t AGRP & Glucose\\\\\n",
       "\t AGRP & TG     \\\\\n",
       "\t APOM & Clins  \\\\\n",
       "\t APOM & HDL    \\\\\n",
       "\t APOM & TG     \\\\\n",
       "\\end{tabular}\n"
      ],
      "text/markdown": [
       "\n",
       "A tibble: 6 × 2\n",
       "\n",
       "| node1 &lt;chr&gt; | node2 &lt;chr&gt; |\n",
       "|---|---|\n",
       "| AGRP | CD4     |\n",
       "| AGRP | Glucose |\n",
       "| AGRP | TG      |\n",
       "| APOM | Clins   |\n",
       "| APOM | HDL     |\n",
       "| APOM | TG      |\n",
       "\n"
      ],
      "text/plain": [
       "  node1 node2  \n",
       "1 AGRP  CD4    \n",
       "2 AGRP  Glucose\n",
       "3 AGRP  TG     \n",
       "4 APOM  Clins  \n",
       "5 APOM  HDL    \n",
       "6 APOM  TG     "
      ]
     },
     "metadata": {},
     "output_type": "display_data"
    }
   ],
   "source": [
    "head(edge_tb0)"
   ]
  },
  {
   "cell_type": "markdown",
   "id": "de47f643",
   "metadata": {},
   "source": [
    "## List of traits"
   ]
  },
  {
   "cell_type": "code",
   "execution_count": 6,
   "id": "bb1c34ac",
   "metadata": {
    "vscode": {
     "languageId": "r"
    }
   },
   "outputs": [],
   "source": [
    "trait_tb0 <- tibble(\n",
    "  trait = c(\n",
    "    edge_tb0[, 1, drop = TRUE],\n",
    "    edge_tb0[, 2, drop = TRUE]\n",
    "  )\n",
    ") |>\n",
    "  unique() |>\n",
    "  arrange(trait)"
   ]
  },
  {
   "cell_type": "code",
   "execution_count": 7,
   "id": "3ba71a77",
   "metadata": {
    "vscode": {
     "languageId": "r"
    }
   },
   "outputs": [
    {
     "data": {
      "text/html": [
       "<style>\n",
       ".list-inline {list-style: none; margin:0; padding: 0}\n",
       ".list-inline>li {display: inline-block}\n",
       ".list-inline>li:not(:last-child)::after {content: \"\\00b7\"; padding: 0 .5ex}\n",
       "</style>\n",
       "<ol class=list-inline><li>'AGRP'</li><li>'APOM'</li><li>'BasalISR'</li><li>'CD4'</li><li>'CDH5'</li><li>'CTRC'</li><li>'CTSD'</li><li>'Clins'</li><li>'Clinsb'</li><li>'FAM3C'</li><li>'FGF21'</li><li>'Glucagonmin0'</li><li>'Glucose'</li><li>'GlucoseSens'</li><li>'HDL'</li><li>'HMOX1'</li><li>'HOMA_IR'</li><li>'HbA1c'</li><li>'IGFBP1'</li><li>'IGFBP2'</li><li>'Insulin'</li><li>'KITLG'</li><li>'LDLR'</li><li>'LEP'</li><li>'LPL'</li><li>'LiverFat'</li><li>'MATN2'</li><li>'MFGE8'</li><li>'NRP1'</li><li>'OGIS'</li><li>'PON3'</li><li>'PancFat'</li><li>'SAT'</li><li>'TG'</li><li>'TGM2'</li><li>'TotGLP1min0'</li><li>'TwoGlucose'</li><li>'TwoInsulin'</li><li>'VAT'</li></ol>\n"
      ],
      "text/latex": [
       "\\begin{enumerate*}\n",
       "\\item 'AGRP'\n",
       "\\item 'APOM'\n",
       "\\item 'BasalISR'\n",
       "\\item 'CD4'\n",
       "\\item 'CDH5'\n",
       "\\item 'CTRC'\n",
       "\\item 'CTSD'\n",
       "\\item 'Clins'\n",
       "\\item 'Clinsb'\n",
       "\\item 'FAM3C'\n",
       "\\item 'FGF21'\n",
       "\\item 'Glucagonmin0'\n",
       "\\item 'Glucose'\n",
       "\\item 'GlucoseSens'\n",
       "\\item 'HDL'\n",
       "\\item 'HMOX1'\n",
       "\\item 'HOMA\\_IR'\n",
       "\\item 'HbA1c'\n",
       "\\item 'IGFBP1'\n",
       "\\item 'IGFBP2'\n",
       "\\item 'Insulin'\n",
       "\\item 'KITLG'\n",
       "\\item 'LDLR'\n",
       "\\item 'LEP'\n",
       "\\item 'LPL'\n",
       "\\item 'LiverFat'\n",
       "\\item 'MATN2'\n",
       "\\item 'MFGE8'\n",
       "\\item 'NRP1'\n",
       "\\item 'OGIS'\n",
       "\\item 'PON3'\n",
       "\\item 'PancFat'\n",
       "\\item 'SAT'\n",
       "\\item 'TG'\n",
       "\\item 'TGM2'\n",
       "\\item 'TotGLP1min0'\n",
       "\\item 'TwoGlucose'\n",
       "\\item 'TwoInsulin'\n",
       "\\item 'VAT'\n",
       "\\end{enumerate*}\n"
      ],
      "text/markdown": [
       "1. 'AGRP'\n",
       "2. 'APOM'\n",
       "3. 'BasalISR'\n",
       "4. 'CD4'\n",
       "5. 'CDH5'\n",
       "6. 'CTRC'\n",
       "7. 'CTSD'\n",
       "8. 'Clins'\n",
       "9. 'Clinsb'\n",
       "10. 'FAM3C'\n",
       "11. 'FGF21'\n",
       "12. 'Glucagonmin0'\n",
       "13. 'Glucose'\n",
       "14. 'GlucoseSens'\n",
       "15. 'HDL'\n",
       "16. 'HMOX1'\n",
       "17. 'HOMA_IR'\n",
       "18. 'HbA1c'\n",
       "19. 'IGFBP1'\n",
       "20. 'IGFBP2'\n",
       "21. 'Insulin'\n",
       "22. 'KITLG'\n",
       "23. 'LDLR'\n",
       "24. 'LEP'\n",
       "25. 'LPL'\n",
       "26. 'LiverFat'\n",
       "27. 'MATN2'\n",
       "28. 'MFGE8'\n",
       "29. 'NRP1'\n",
       "30. 'OGIS'\n",
       "31. 'PON3'\n",
       "32. 'PancFat'\n",
       "33. 'SAT'\n",
       "34. 'TG'\n",
       "35. 'TGM2'\n",
       "36. 'TotGLP1min0'\n",
       "37. 'TwoGlucose'\n",
       "38. 'TwoInsulin'\n",
       "39. 'VAT'\n",
       "\n",
       "\n"
      ],
      "text/plain": [
       " [1] \"AGRP\"         \"APOM\"         \"BasalISR\"     \"CD4\"          \"CDH5\"        \n",
       " [6] \"CTRC\"         \"CTSD\"         \"Clins\"        \"Clinsb\"       \"FAM3C\"       \n",
       "[11] \"FGF21\"        \"Glucagonmin0\" \"Glucose\"      \"GlucoseSens\"  \"HDL\"         \n",
       "[16] \"HMOX1\"        \"HOMA_IR\"      \"HbA1c\"        \"IGFBP1\"       \"IGFBP2\"      \n",
       "[21] \"Insulin\"      \"KITLG\"        \"LDLR\"         \"LEP\"          \"LPL\"         \n",
       "[26] \"LiverFat\"     \"MATN2\"        \"MFGE8\"        \"NRP1\"         \"OGIS\"        \n",
       "[31] \"PON3\"         \"PancFat\"      \"SAT\"          \"TG\"           \"TGM2\"        \n",
       "[36] \"TotGLP1min0\"  \"TwoGlucose\"   \"TwoInsulin\"   \"VAT\"         "
      ]
     },
     "metadata": {},
     "output_type": "display_data"
    }
   ],
   "source": [
    "trait_tb0$trait"
   ]
  },
  {
   "cell_type": "markdown",
   "id": "15782a3a",
   "metadata": {},
   "source": [
    "## Gene traits"
   ]
  },
  {
   "cell_type": "code",
   "execution_count": 8,
   "id": "f8b39b17",
   "metadata": {
    "vscode": {
     "languageId": "r"
    }
   },
   "outputs": [],
   "source": [
    "gene_traits <- c(\n",
    "  \"AGRP\", \"APOM\", \"CD4\", \"CDH5\", \"CTRC\", \"CTSD\", \"FAM3C\",\n",
    "  \"FGF21\", \"HMOX1\", \"IGFBP1\", \"IGFBP2\", \"KITLG\", \"LDLR\",\n",
    "  \"LEP\", \"LPL\", \"MATN2\", \"MFGE8\", \"NRP1\", \"PON3\", \"TGM2\"\n",
    ")"
   ]
  },
  {
   "cell_type": "markdown",
   "id": "b4b81959",
   "metadata": {},
   "source": [
    "### GWAS source"
   ]
  },
  {
   "cell_type": "markdown",
   "id": "2ba84a0b",
   "metadata": {},
   "source": [
    "We will use UKB-PPP summary statistics for these genes."
   ]
  },
  {
   "cell_type": "markdown",
   "id": "8d90b185",
   "metadata": {},
   "source": [
    "The process to download the files corresponding to these genes is described in:\n",
    "\n",
    "- `03a_Download_pQTLPanel.py`\n",
    "- `03b_Process_pQTLPanel.ipynb`\n",
    "- `03c_Download_pQTL.ipynb`"
   ]
  },
  {
   "cell_type": "markdown",
   "id": "cc3ecf5a",
   "metadata": {},
   "source": [
    "### Gencode table to obtain gene coordinates"
   ]
  },
  {
   "cell_type": "code",
   "execution_count": 9,
   "id": "1d3e773a",
   "metadata": {
    "vscode": {
     "languageId": "r"
    }
   },
   "outputs": [
    {
     "data": {
      "text/html": [
       "<table class=\"dataframe\">\n",
       "<caption>A tibble: 6 × 8</caption>\n",
       "<thead>\n",
       "\t<tr><th scope=col>CHROM</th><th scope=col>source</th><th scope=col>start</th><th scope=col>end</th><th scope=col>strand</th><th scope=col>gene_id</th><th scope=col>gene_type</th><th scope=col>gene_name</th></tr>\n",
       "\t<tr><th scope=col>&lt;chr&gt;</th><th scope=col>&lt;chr&gt;</th><th scope=col>&lt;dbl&gt;</th><th scope=col>&lt;dbl&gt;</th><th scope=col>&lt;chr&gt;</th><th scope=col>&lt;chr&gt;</th><th scope=col>&lt;chr&gt;</th><th scope=col>&lt;chr&gt;</th></tr>\n",
       "</thead>\n",
       "<tbody>\n",
       "\t<tr><td>1</td><td>HAVANA</td><td>10370</td><td>13118</td><td>+</td><td>ENSG00000308415.1_1 </td><td>lncRNA                            </td><td>DDX11L2    </td></tr>\n",
       "\t<tr><td>1</td><td>HAVANA</td><td>11121</td><td>24894</td><td>+</td><td>ENSG00000290825.2_2 </td><td>lncRNA                            </td><td>DDX11L16   </td></tr>\n",
       "\t<tr><td>1</td><td>HAVANA</td><td>12010</td><td>13670</td><td>+</td><td>ENSG00000223972.6_6 </td><td>transcribed_unprocessed_pseudogene</td><td>DDX11L1    </td></tr>\n",
       "\t<tr><td>1</td><td>HAVANA</td><td>14356</td><td>30744</td><td>-</td><td>ENSG00000310526.1_1 </td><td>lncRNA                            </td><td>WASH7P     </td></tr>\n",
       "\t<tr><td>1</td><td>HAVANA</td><td>14696</td><td>24886</td><td>-</td><td>ENSG00000227232.6_7 </td><td>transcribed_unprocessed_pseudogene</td><td>WASH7P     </td></tr>\n",
       "\t<tr><td>1</td><td>HAVANA</td><td>28589</td><td>31109</td><td>+</td><td>ENSG00000243485.6_13</td><td>lncRNA                            </td><td>MIR1302-2HG</td></tr>\n",
       "</tbody>\n",
       "</table>\n"
      ],
      "text/latex": [
       "A tibble: 6 × 8\n",
       "\\begin{tabular}{llllllll}\n",
       " CHROM & source & start & end & strand & gene\\_id & gene\\_type & gene\\_name\\\\\n",
       " <chr> & <chr> & <dbl> & <dbl> & <chr> & <chr> & <chr> & <chr>\\\\\n",
       "\\hline\n",
       "\t 1 & HAVANA & 10370 & 13118 & + & ENSG00000308415.1\\_1  & lncRNA                             & DDX11L2    \\\\\n",
       "\t 1 & HAVANA & 11121 & 24894 & + & ENSG00000290825.2\\_2  & lncRNA                             & DDX11L16   \\\\\n",
       "\t 1 & HAVANA & 12010 & 13670 & + & ENSG00000223972.6\\_6  & transcribed\\_unprocessed\\_pseudogene & DDX11L1    \\\\\n",
       "\t 1 & HAVANA & 14356 & 30744 & - & ENSG00000310526.1\\_1  & lncRNA                             & WASH7P     \\\\\n",
       "\t 1 & HAVANA & 14696 & 24886 & - & ENSG00000227232.6\\_7  & transcribed\\_unprocessed\\_pseudogene & WASH7P     \\\\\n",
       "\t 1 & HAVANA & 28589 & 31109 & + & ENSG00000243485.6\\_13 & lncRNA                             & MIR1302-2HG\\\\\n",
       "\\end{tabular}\n"
      ],
      "text/markdown": [
       "\n",
       "A tibble: 6 × 8\n",
       "\n",
       "| CHROM &lt;chr&gt; | source &lt;chr&gt; | start &lt;dbl&gt; | end &lt;dbl&gt; | strand &lt;chr&gt; | gene_id &lt;chr&gt; | gene_type &lt;chr&gt; | gene_name &lt;chr&gt; |\n",
       "|---|---|---|---|---|---|---|---|\n",
       "| 1 | HAVANA | 10370 | 13118 | + | ENSG00000308415.1_1  | lncRNA                             | DDX11L2     |\n",
       "| 1 | HAVANA | 11121 | 24894 | + | ENSG00000290825.2_2  | lncRNA                             | DDX11L16    |\n",
       "| 1 | HAVANA | 12010 | 13670 | + | ENSG00000223972.6_6  | transcribed_unprocessed_pseudogene | DDX11L1     |\n",
       "| 1 | HAVANA | 14356 | 30744 | - | ENSG00000310526.1_1  | lncRNA                             | WASH7P      |\n",
       "| 1 | HAVANA | 14696 | 24886 | - | ENSG00000227232.6_7  | transcribed_unprocessed_pseudogene | WASH7P      |\n",
       "| 1 | HAVANA | 28589 | 31109 | + | ENSG00000243485.6_13 | lncRNA                             | MIR1302-2HG |\n",
       "\n"
      ],
      "text/plain": [
       "  CHROM source start end   strand gene_id             \n",
       "1 1     HAVANA 10370 13118 +      ENSG00000308415.1_1 \n",
       "2 1     HAVANA 11121 24894 +      ENSG00000290825.2_2 \n",
       "3 1     HAVANA 12010 13670 +      ENSG00000223972.6_6 \n",
       "4 1     HAVANA 14356 30744 -      ENSG00000310526.1_1 \n",
       "5 1     HAVANA 14696 24886 -      ENSG00000227232.6_7 \n",
       "6 1     HAVANA 28589 31109 +      ENSG00000243485.6_13\n",
       "  gene_type                          gene_name  \n",
       "1 lncRNA                             DDX11L2    \n",
       "2 lncRNA                             DDX11L16   \n",
       "3 transcribed_unprocessed_pseudogene DDX11L1    \n",
       "4 lncRNA                             WASH7P     \n",
       "5 transcribed_unprocessed_pseudogene WASH7P     \n",
       "6 lncRNA                             MIR1302-2HG"
      ]
     },
     "metadata": {},
     "output_type": "display_data"
    }
   ],
   "source": [
    "gencode <- read_tsv(\n",
    "  file.path(\n",
    "    \"/Users/da1078co/Documents/Data/GENCODE/\",\n",
    "    \"gencode.v47lift37.basic.annotation.gtf.gz\"\n",
    "  ),\n",
    "  comment = \"#\",\n",
    "  col_types = \"cccnn-c-c\",\n",
    "  col_names = c(\n",
    "    \"CHROM\", \"source\", \"gene_type\",\n",
    "    \"start\", \"end\", \"strand\", \"addinfo\"\n",
    "  )\n",
    ") |>\n",
    "  filter(gene_type == \"gene\") |>\n",
    "  select(-gene_type) |>\n",
    "  mutate(\n",
    "    CHROM = gsub(\"chr\", \"\", CHROM),\n",
    "    gene_id = gsub(\n",
    "      \"^gene_id \\\"([^\\\"]+)\\\";.*\",\n",
    "      \"\\\\1\",\n",
    "      addinfo\n",
    "    ),\n",
    "    gene_type = gsub(\n",
    "      \".*gene_type \\\"([^\\\"]+)\\\";.*\",\n",
    "      \"\\\\1\",\n",
    "      addinfo\n",
    "    ),\n",
    "    gene_name = gsub(\n",
    "      \".*gene_name \\\"([^\\\"]+)\\\";.*\",\n",
    "      \"\\\\1\",\n",
    "      addinfo\n",
    "    )\n",
    "  ) |>\n",
    "  select(-addinfo)\n",
    "head(gencode)"
   ]
  },
  {
   "cell_type": "markdown",
   "id": "a51ade98",
   "metadata": {},
   "source": [
    "### Adding cis regions"
   ]
  },
  {
   "cell_type": "code",
   "execution_count": 10,
   "id": "8b820b94",
   "metadata": {
    "vscode": {
     "languageId": "r"
    }
   },
   "outputs": [],
   "source": [
    "trait_tbg <- trait_tb0 |>\n",
    "  filter(trait %in% gene_traits) |>\n",
    "  inner_join(gencode, by = c(\"trait\" = \"gene_name\")) |>\n",
    "  select(trait, CHROM, start, end)"
   ]
  },
  {
   "cell_type": "code",
   "execution_count": 11,
   "id": "0c262c77",
   "metadata": {
    "vscode": {
     "languageId": "r"
    }
   },
   "outputs": [
    {
     "data": {
      "text/html": [
       "<table class=\"dataframe\">\n",
       "<caption>A tibble: 20 × 4</caption>\n",
       "<thead>\n",
       "\t<tr><th scope=col>trait</th><th scope=col>CHROM</th><th scope=col>start</th><th scope=col>end</th></tr>\n",
       "\t<tr><th scope=col>&lt;chr&gt;</th><th scope=col>&lt;chr&gt;</th><th scope=col>&lt;dbl&gt;</th><th scope=col>&lt;dbl&gt;</th></tr>\n",
       "</thead>\n",
       "<tbody>\n",
       "\t<tr><td>AGRP  </td><td>16</td><td> 67516474</td><td> 67517450</td></tr>\n",
       "\t<tr><td>APOM  </td><td>6 </td><td> 31620193</td><td> 31625987</td></tr>\n",
       "\t<tr><td>CD4   </td><td>12</td><td>  6896024</td><td>  6929965</td></tr>\n",
       "\t<tr><td>CDH5  </td><td>16</td><td> 66400593</td><td> 66438687</td></tr>\n",
       "\t<tr><td>CTRC  </td><td>1 </td><td> 15764938</td><td> 15775737</td></tr>\n",
       "\t<tr><td>CTSD  </td><td>11</td><td>  1773982</td><td>  1785803</td></tr>\n",
       "\t<tr><td>FAM3C </td><td>7 </td><td>120988932</td><td>121036418</td></tr>\n",
       "\t<tr><td>FGF21 </td><td>19</td><td> 49258781</td><td> 49261590</td></tr>\n",
       "\t<tr><td>HMOX1 </td><td>22</td><td> 35776354</td><td> 35790207</td></tr>\n",
       "\t<tr><td>IGFBP1</td><td>7 </td><td> 45927959</td><td> 45933259</td></tr>\n",
       "\t<tr><td>IGFBP2</td><td>2 </td><td>217497551</td><td>217529159</td></tr>\n",
       "\t<tr><td>KITLG </td><td>12</td><td> 88886570</td><td> 88974628</td></tr>\n",
       "\t<tr><td>LDLR  </td><td>19</td><td> 11200094</td><td> 11244496</td></tr>\n",
       "\t<tr><td>LEP   </td><td>7 </td><td>127881331</td><td>127897682</td></tr>\n",
       "\t<tr><td>LPL   </td><td>8 </td><td> 19759228</td><td> 19824770</td></tr>\n",
       "\t<tr><td>MATN2 </td><td>8 </td><td> 98881068</td><td> 99048952</td></tr>\n",
       "\t<tr><td>MFGE8 </td><td>15</td><td> 89441914</td><td> 89456699</td></tr>\n",
       "\t<tr><td>NRP1  </td><td>10</td><td> 33466420</td><td> 33625190</td></tr>\n",
       "\t<tr><td>PON3  </td><td>7 </td><td> 94989184</td><td> 95025687</td></tr>\n",
       "\t<tr><td>TGM2  </td><td>20</td><td> 36755787</td><td> 36794980</td></tr>\n",
       "</tbody>\n",
       "</table>\n"
      ],
      "text/latex": [
       "A tibble: 20 × 4\n",
       "\\begin{tabular}{llll}\n",
       " trait & CHROM & start & end\\\\\n",
       " <chr> & <chr> & <dbl> & <dbl>\\\\\n",
       "\\hline\n",
       "\t AGRP   & 16 &  67516474 &  67517450\\\\\n",
       "\t APOM   & 6  &  31620193 &  31625987\\\\\n",
       "\t CD4    & 12 &   6896024 &   6929965\\\\\n",
       "\t CDH5   & 16 &  66400593 &  66438687\\\\\n",
       "\t CTRC   & 1  &  15764938 &  15775737\\\\\n",
       "\t CTSD   & 11 &   1773982 &   1785803\\\\\n",
       "\t FAM3C  & 7  & 120988932 & 121036418\\\\\n",
       "\t FGF21  & 19 &  49258781 &  49261590\\\\\n",
       "\t HMOX1  & 22 &  35776354 &  35790207\\\\\n",
       "\t IGFBP1 & 7  &  45927959 &  45933259\\\\\n",
       "\t IGFBP2 & 2  & 217497551 & 217529159\\\\\n",
       "\t KITLG  & 12 &  88886570 &  88974628\\\\\n",
       "\t LDLR   & 19 &  11200094 &  11244496\\\\\n",
       "\t LEP    & 7  & 127881331 & 127897682\\\\\n",
       "\t LPL    & 8  &  19759228 &  19824770\\\\\n",
       "\t MATN2  & 8  &  98881068 &  99048952\\\\\n",
       "\t MFGE8  & 15 &  89441914 &  89456699\\\\\n",
       "\t NRP1   & 10 &  33466420 &  33625190\\\\\n",
       "\t PON3   & 7  &  94989184 &  95025687\\\\\n",
       "\t TGM2   & 20 &  36755787 &  36794980\\\\\n",
       "\\end{tabular}\n"
      ],
      "text/markdown": [
       "\n",
       "A tibble: 20 × 4\n",
       "\n",
       "| trait &lt;chr&gt; | CHROM &lt;chr&gt; | start &lt;dbl&gt; | end &lt;dbl&gt; |\n",
       "|---|---|---|---|\n",
       "| AGRP   | 16 |  67516474 |  67517450 |\n",
       "| APOM   | 6  |  31620193 |  31625987 |\n",
       "| CD4    | 12 |   6896024 |   6929965 |\n",
       "| CDH5   | 16 |  66400593 |  66438687 |\n",
       "| CTRC   | 1  |  15764938 |  15775737 |\n",
       "| CTSD   | 11 |   1773982 |   1785803 |\n",
       "| FAM3C  | 7  | 120988932 | 121036418 |\n",
       "| FGF21  | 19 |  49258781 |  49261590 |\n",
       "| HMOX1  | 22 |  35776354 |  35790207 |\n",
       "| IGFBP1 | 7  |  45927959 |  45933259 |\n",
       "| IGFBP2 | 2  | 217497551 | 217529159 |\n",
       "| KITLG  | 12 |  88886570 |  88974628 |\n",
       "| LDLR   | 19 |  11200094 |  11244496 |\n",
       "| LEP    | 7  | 127881331 | 127897682 |\n",
       "| LPL    | 8  |  19759228 |  19824770 |\n",
       "| MATN2  | 8  |  98881068 |  99048952 |\n",
       "| MFGE8  | 15 |  89441914 |  89456699 |\n",
       "| NRP1   | 10 |  33466420 |  33625190 |\n",
       "| PON3   | 7  |  94989184 |  95025687 |\n",
       "| TGM2   | 20 |  36755787 |  36794980 |\n",
       "\n"
      ],
      "text/plain": [
       "   trait  CHROM start     end      \n",
       "1  AGRP   16     67516474  67517450\n",
       "2  APOM   6      31620193  31625987\n",
       "3  CD4    12      6896024   6929965\n",
       "4  CDH5   16     66400593  66438687\n",
       "5  CTRC   1      15764938  15775737\n",
       "6  CTSD   11      1773982   1785803\n",
       "7  FAM3C  7     120988932 121036418\n",
       "8  FGF21  19     49258781  49261590\n",
       "9  HMOX1  22     35776354  35790207\n",
       "10 IGFBP1 7      45927959  45933259\n",
       "11 IGFBP2 2     217497551 217529159\n",
       "12 KITLG  12     88886570  88974628\n",
       "13 LDLR   19     11200094  11244496\n",
       "14 LEP    7     127881331 127897682\n",
       "15 LPL    8      19759228  19824770\n",
       "16 MATN2  8      98881068  99048952\n",
       "17 MFGE8  15     89441914  89456699\n",
       "18 NRP1   10     33466420  33625190\n",
       "19 PON3   7      94989184  95025687\n",
       "20 TGM2   20     36755787  36794980"
      ]
     },
     "metadata": {},
     "output_type": "display_data"
    }
   ],
   "source": [
    "trait_tbg"
   ]
  },
  {
   "cell_type": "markdown",
   "id": "9447c704",
   "metadata": {},
   "source": [
    "## Other traits"
   ]
  },
  {
   "cell_type": "code",
   "execution_count": 12,
   "id": "f0078270",
   "metadata": {
    "vscode": {
     "languageId": "r"
    }
   },
   "outputs": [
    {
     "data": {
      "text/html": [
       "<style>\n",
       ".list-inline {list-style: none; margin:0; padding: 0}\n",
       ".list-inline>li {display: inline-block}\n",
       ".list-inline>li:not(:last-child)::after {content: \"\\00b7\"; padding: 0 .5ex}\n",
       "</style>\n",
       "<ol class=list-inline><li>'BasalISR'</li><li>'Clins'</li><li>'Clinsb'</li><li>'Glucagonmin0'</li><li>'Glucose'</li><li>'GlucoseSens'</li><li>'HDL'</li><li>'HOMA_IR'</li><li>'HbA1c'</li><li>'Insulin'</li><li>'LiverFat'</li><li>'OGIS'</li><li>'PancFat'</li><li>'SAT'</li><li>'TG'</li><li>'TotGLP1min0'</li><li>'TwoGlucose'</li><li>'TwoInsulin'</li><li>'VAT'</li></ol>\n"
      ],
      "text/latex": [
       "\\begin{enumerate*}\n",
       "\\item 'BasalISR'\n",
       "\\item 'Clins'\n",
       "\\item 'Clinsb'\n",
       "\\item 'Glucagonmin0'\n",
       "\\item 'Glucose'\n",
       "\\item 'GlucoseSens'\n",
       "\\item 'HDL'\n",
       "\\item 'HOMA\\_IR'\n",
       "\\item 'HbA1c'\n",
       "\\item 'Insulin'\n",
       "\\item 'LiverFat'\n",
       "\\item 'OGIS'\n",
       "\\item 'PancFat'\n",
       "\\item 'SAT'\n",
       "\\item 'TG'\n",
       "\\item 'TotGLP1min0'\n",
       "\\item 'TwoGlucose'\n",
       "\\item 'TwoInsulin'\n",
       "\\item 'VAT'\n",
       "\\end{enumerate*}\n"
      ],
      "text/markdown": [
       "1. 'BasalISR'\n",
       "2. 'Clins'\n",
       "3. 'Clinsb'\n",
       "4. 'Glucagonmin0'\n",
       "5. 'Glucose'\n",
       "6. 'GlucoseSens'\n",
       "7. 'HDL'\n",
       "8. 'HOMA_IR'\n",
       "9. 'HbA1c'\n",
       "10. 'Insulin'\n",
       "11. 'LiverFat'\n",
       "12. 'OGIS'\n",
       "13. 'PancFat'\n",
       "14. 'SAT'\n",
       "15. 'TG'\n",
       "16. 'TotGLP1min0'\n",
       "17. 'TwoGlucose'\n",
       "18. 'TwoInsulin'\n",
       "19. 'VAT'\n",
       "\n",
       "\n"
      ],
      "text/plain": [
       " [1] \"BasalISR\"     \"Clins\"        \"Clinsb\"       \"Glucagonmin0\" \"Glucose\"     \n",
       " [6] \"GlucoseSens\"  \"HDL\"          \"HOMA_IR\"      \"HbA1c\"        \"Insulin\"     \n",
       "[11] \"LiverFat\"     \"OGIS\"         \"PancFat\"      \"SAT\"          \"TG\"          \n",
       "[16] \"TotGLP1min0\"  \"TwoGlucose\"   \"TwoInsulin\"   \"VAT\"         "
      ]
     },
     "metadata": {},
     "output_type": "display_data"
    }
   ],
   "source": [
    "trait_tbng <- trait_tb0 |>\n",
    "  filter(!trait %in% gene_traits)\n",
    "trait_tbng$trait"
   ]
  },
  {
   "cell_type": "markdown",
   "id": "9b9119d5",
   "metadata": {},
   "source": [
    "### GWAS sources"
   ]
  },
  {
   "cell_type": "markdown",
   "id": "c992aecd",
   "metadata": {
    "vscode": {
     "languageId": "r"
    }
   },
   "source": [
    "| Acronym      | Trait                            | GWAS source                                               |\n",
    "|--------------|----------------------------------|-----------------------------------------------------------|\n",
    "| BasalISR     | Basal insulin secretion rate     | IVGTT GWAS from Wood et al 2017                           |\n",
    "| Clins        | Insulin clearance                | Not found                                                 |\n",
    "| Clinsb       | Basal insulin clearance          | Not found                                                 |\n",
    "| Glucagonmin0 | Fasting glucagon                 | Not found                                                 |\n",
    "| Glucose      | Fasting glucose                  | MAGIC consortium - Chen et al 2021                        |\n",
    "| GlucoseSens  | Glucose sensitivity              | xinsdG30 from Madsen et al 2024                           |\n",
    "| HDL          | High-density lipoprotein         | HDL from GLGC - Graham et al 2021                         |\n",
    "| HOMA_IR      | Insulin resistance index         | MAGIC consortium - Dupuis et al 2011                      |\n",
    "| HbA1c        | Glycated hemoglobin              | MAGIC consortium - Chen et al 2021                        |\n",
    "| Insulin      | Fasting insulin                  | MAGIC consortium - Chen et al 2021                        |\n",
    "| LiverFat     | Liver fat content                | Liu et al 2021                                            |\n",
    "| OGIS         | Oral glucose insulin sensitivity | Not found                                                 |\n",
    "| PancFat      | Pancreatic fat content           | Liu et al 2021                                            |\n",
    "| SAT          | Subcutaneous adipose tissue      | Liu et al 2021                                            |\n",
    "| TG           | Triglycerides                    | GLGC consortium - Graham et al 2021                       |\n",
    "| TotGLP1min0  | Fasting GLP-1 levels             | Not found                                                 |\n",
    "| TwoGlucose   | OGTT two-hour glucose            | MAGIC consortium - Chen et al 2021                        |\n",
    "| TwoInsulin   | OGTT two-hour insulin            | MAGIC consortium - Chen et al 2021                        |\n",
    "| VAT          | Visceral adipose tissue          | Liu et al 2021                                            |"
   ]
  },
  {
   "cell_type": "markdown",
   "id": "3c027d79",
   "metadata": {},
   "source": [
    "Based on this table, only including traits for which we found GWAS summary statistics:"
   ]
  },
  {
   "cell_type": "code",
   "execution_count": 35,
   "id": "e474e695",
   "metadata": {
    "vscode": {
     "languageId": "r"
    }
   },
   "outputs": [],
   "source": [
    "tormv <- c(\n",
    "  \"Clins\", \"Clinsb\", \"Glucagonmin0\", \"OGIS\", \"TotGLP1min0\"\n",
    ")"
   ]
  },
  {
   "cell_type": "code",
   "execution_count": 36,
   "id": "2716cde9",
   "metadata": {
    "vscode": {
     "languageId": "r"
    }
   },
   "outputs": [],
   "source": [
    "trait_tbngf <- trait_tbng |>\n",
    "  filter(!trait %in% tormv)"
   ]
  },
  {
   "cell_type": "markdown",
   "id": "10183d9d",
   "metadata": {},
   "source": [
    "URLs used and download process are described in `03_Download_GWAS.sh`"
   ]
  },
  {
   "cell_type": "markdown",
   "id": "cd2678a4",
   "metadata": {},
   "source": [
    "## New table with edges to test"
   ]
  },
  {
   "cell_type": "code",
   "execution_count": 43,
   "id": "39e884d4",
   "metadata": {
    "vscode": {
     "languageId": "r"
    }
   },
   "outputs": [],
   "source": [
    "edge_tbf <- bind_rows(\n",
    "  # Testing links in both directions\n",
    "  tibble(\n",
    "    node1 = edge_tb0[, 1, drop = TRUE],\n",
    "    node2 = edge_tb0[, 2, drop = TRUE]\n",
    "  ),\n",
    "  tibble(\n",
    "    node1 = edge_tb0[, 2, drop = TRUE],\n",
    "    node2 = edge_tb0[, 1, drop = TRUE]\n",
    "  )\n",
    ") |>\n",
    "  # Only nodes for which we have GWAS summary statistics\n",
    "  filter(\n",
    "    !node1 %in% tormv,\n",
    "    !node2 %in% tormv\n",
    "  ) |>\n",
    "  # Specify type of analysis that should be carried out\n",
    "  mutate(\n",
    "    atype = ifelse(node1 %in% gene_traits, \"SMRHEIDI\", \"IVWMR\")\n",
    "  ) |>\n",
    "  # Adding chromosome and position information for gene traits\n",
    "  left_join(trait_tbg, by = c(\"node1\" = \"trait\"))"
   ]
  },
  {
   "cell_type": "code",
   "execution_count": 44,
   "id": "2635165b",
   "metadata": {
    "vscode": {
     "languageId": "r"
    }
   },
   "outputs": [
    {
     "data": {
      "text/html": [
       "<table class=\"dataframe\">\n",
       "<caption>A tibble: 124 × 6</caption>\n",
       "<thead>\n",
       "\t<tr><th scope=col>node1</th><th scope=col>node2</th><th scope=col>atype</th><th scope=col>CHROM</th><th scope=col>start</th><th scope=col>end</th></tr>\n",
       "\t<tr><th scope=col>&lt;chr&gt;</th><th scope=col>&lt;chr&gt;</th><th scope=col>&lt;chr&gt;</th><th scope=col>&lt;chr&gt;</th><th scope=col>&lt;dbl&gt;</th><th scope=col>&lt;dbl&gt;</th></tr>\n",
       "</thead>\n",
       "<tbody>\n",
       "\t<tr><td>AGRP       </td><td>CD4        </td><td>SMRHEIDI</td><td>16</td><td> 67516474</td><td> 67517450</td></tr>\n",
       "\t<tr><td>AGRP       </td><td>Glucose    </td><td>SMRHEIDI</td><td>16</td><td> 67516474</td><td> 67517450</td></tr>\n",
       "\t<tr><td>AGRP       </td><td>TG         </td><td>SMRHEIDI</td><td>16</td><td> 67516474</td><td> 67517450</td></tr>\n",
       "\t<tr><td>APOM       </td><td>HDL        </td><td>SMRHEIDI</td><td>6 </td><td> 31620193</td><td> 31625987</td></tr>\n",
       "\t<tr><td>APOM       </td><td>TG         </td><td>SMRHEIDI</td><td>6 </td><td> 31620193</td><td> 31625987</td></tr>\n",
       "\t<tr><td>BasalISR   </td><td>GlucoseSens</td><td>IVWMR   </td><td>NA</td><td>       NA</td><td>       NA</td></tr>\n",
       "\t<tr><td>BasalISR   </td><td>HDL        </td><td>IVWMR   </td><td>NA</td><td>       NA</td><td>       NA</td></tr>\n",
       "\t<tr><td>BasalISR   </td><td>HOMA_IR    </td><td>IVWMR   </td><td>NA</td><td>       NA</td><td>       NA</td></tr>\n",
       "\t<tr><td>BasalISR   </td><td>IGFBP1     </td><td>IVWMR   </td><td>NA</td><td>       NA</td><td>       NA</td></tr>\n",
       "\t<tr><td>BasalISR   </td><td>Insulin    </td><td>IVWMR   </td><td>NA</td><td>       NA</td><td>       NA</td></tr>\n",
       "\t<tr><td>BasalISR   </td><td>LEP        </td><td>IVWMR   </td><td>NA</td><td>       NA</td><td>       NA</td></tr>\n",
       "\t<tr><td>BasalISR   </td><td>LiverFat   </td><td>IVWMR   </td><td>NA</td><td>       NA</td><td>       NA</td></tr>\n",
       "\t<tr><td>BasalISR   </td><td>TG         </td><td>IVWMR   </td><td>NA</td><td>       NA</td><td>       NA</td></tr>\n",
       "\t<tr><td>BasalISR   </td><td>TwoGlucose </td><td>IVWMR   </td><td>NA</td><td>       NA</td><td>       NA</td></tr>\n",
       "\t<tr><td>BasalISR   </td><td>TwoInsulin </td><td>IVWMR   </td><td>NA</td><td>       NA</td><td>       NA</td></tr>\n",
       "\t<tr><td>BasalISR   </td><td>VAT        </td><td>IVWMR   </td><td>NA</td><td>       NA</td><td>       NA</td></tr>\n",
       "\t<tr><td>CD4        </td><td>CTRC       </td><td>SMRHEIDI</td><td>12</td><td>  6896024</td><td>  6929965</td></tr>\n",
       "\t<tr><td>CD4        </td><td>HDL        </td><td>SMRHEIDI</td><td>12</td><td>  6896024</td><td>  6929965</td></tr>\n",
       "\t<tr><td>CDH5       </td><td>CTRC       </td><td>SMRHEIDI</td><td>16</td><td> 66400593</td><td> 66438687</td></tr>\n",
       "\t<tr><td>CTRC       </td><td>PancFat    </td><td>SMRHEIDI</td><td>1 </td><td> 15764938</td><td> 15775737</td></tr>\n",
       "\t<tr><td>CTSD       </td><td>LDLR       </td><td>SMRHEIDI</td><td>11</td><td>  1773982</td><td>  1785803</td></tr>\n",
       "\t<tr><td>CTSD       </td><td>LiverFat   </td><td>SMRHEIDI</td><td>11</td><td>  1773982</td><td>  1785803</td></tr>\n",
       "\t<tr><td>FAM3C      </td><td>HbA1c      </td><td>SMRHEIDI</td><td>7 </td><td>120988932</td><td>121036418</td></tr>\n",
       "\t<tr><td>FGF21      </td><td>LiverFat   </td><td>SMRHEIDI</td><td>19</td><td> 49258781</td><td> 49261590</td></tr>\n",
       "\t<tr><td>Glucose    </td><td>HOMA_IR    </td><td>IVWMR   </td><td>NA</td><td>       NA</td><td>       NA</td></tr>\n",
       "\t<tr><td>Glucose    </td><td>TwoInsulin </td><td>IVWMR   </td><td>NA</td><td>       NA</td><td>       NA</td></tr>\n",
       "\t<tr><td>Glucose    </td><td>VAT        </td><td>IVWMR   </td><td>NA</td><td>       NA</td><td>       NA</td></tr>\n",
       "\t<tr><td>GlucoseSens</td><td>HbA1c      </td><td>IVWMR   </td><td>NA</td><td>       NA</td><td>       NA</td></tr>\n",
       "\t<tr><td>GlucoseSens</td><td>MATN2      </td><td>IVWMR   </td><td>NA</td><td>       NA</td><td>       NA</td></tr>\n",
       "\t<tr><td>GlucoseSens</td><td>TwoGlucose </td><td>IVWMR   </td><td>NA</td><td>       NA</td><td>       NA</td></tr>\n",
       "\t<tr><td>⋮</td><td>⋮</td><td>⋮</td><td>⋮</td><td>⋮</td><td>⋮</td></tr>\n",
       "\t<tr><td>KITLG     </td><td>HDL       </td><td>SMRHEIDI</td><td>12</td><td> 88886570</td><td> 88974628</td></tr>\n",
       "\t<tr><td>PON3      </td><td>HDL       </td><td>SMRHEIDI</td><td>7 </td><td> 94989184</td><td> 95025687</td></tr>\n",
       "\t<tr><td>TG        </td><td>HDL       </td><td>IVWMR   </td><td>NA</td><td>       NA</td><td>       NA</td></tr>\n",
       "\t<tr><td>LiverFat  </td><td>HMOX1     </td><td>IVWMR   </td><td>NA</td><td>       NA</td><td>       NA</td></tr>\n",
       "\t<tr><td>Insulin   </td><td>HOMA_IR   </td><td>IVWMR   </td><td>NA</td><td>       NA</td><td>       NA</td></tr>\n",
       "\t<tr><td>HMOX1     </td><td>HbA1c     </td><td>SMRHEIDI</td><td>22</td><td> 35776354</td><td> 35790207</td></tr>\n",
       "\t<tr><td>MFGE8     </td><td>HbA1c     </td><td>SMRHEIDI</td><td>15</td><td> 89441914</td><td> 89456699</td></tr>\n",
       "\t<tr><td>IGFBP2    </td><td>IGFBP1    </td><td>SMRHEIDI</td><td>2 </td><td>217497551</td><td>217529159</td></tr>\n",
       "\t<tr><td>LDLR      </td><td>IGFBP2    </td><td>SMRHEIDI</td><td>19</td><td> 11200094</td><td> 11244496</td></tr>\n",
       "\t<tr><td>LiverFat  </td><td>IGFBP2    </td><td>IVWMR   </td><td>NA</td><td>       NA</td><td>       NA</td></tr>\n",
       "\t<tr><td>PON3      </td><td>IGFBP2    </td><td>SMRHEIDI</td><td>7 </td><td> 94989184</td><td> 95025687</td></tr>\n",
       "\t<tr><td>TwoInsulin</td><td>Insulin   </td><td>IVWMR   </td><td>NA</td><td>       NA</td><td>       NA</td></tr>\n",
       "\t<tr><td>PON3      </td><td>LDLR      </td><td>SMRHEIDI</td><td>7 </td><td> 94989184</td><td> 95025687</td></tr>\n",
       "\t<tr><td>TG        </td><td>LDLR      </td><td>IVWMR   </td><td>NA</td><td>       NA</td><td>       NA</td></tr>\n",
       "\t<tr><td>LPL       </td><td>LEP       </td><td>SMRHEIDI</td><td>8 </td><td> 19759228</td><td> 19824770</td></tr>\n",
       "\t<tr><td>SAT       </td><td>LEP       </td><td>IVWMR   </td><td>NA</td><td>       NA</td><td>       NA</td></tr>\n",
       "\t<tr><td>VAT       </td><td>LEP       </td><td>IVWMR   </td><td>NA</td><td>       NA</td><td>       NA</td></tr>\n",
       "\t<tr><td>PON3      </td><td>LPL       </td><td>SMRHEIDI</td><td>7 </td><td> 94989184</td><td> 95025687</td></tr>\n",
       "\t<tr><td>TG        </td><td>LPL       </td><td>IVWMR   </td><td>NA</td><td>       NA</td><td>       NA</td></tr>\n",
       "\t<tr><td>VAT       </td><td>LPL       </td><td>IVWMR   </td><td>NA</td><td>       NA</td><td>       NA</td></tr>\n",
       "\t<tr><td>MFGE8     </td><td>MATN2     </td><td>SMRHEIDI</td><td>15</td><td> 89441914</td><td> 89456699</td></tr>\n",
       "\t<tr><td>TG        </td><td>MFGE8     </td><td>IVWMR   </td><td>NA</td><td>       NA</td><td>       NA</td></tr>\n",
       "\t<tr><td>TG        </td><td>NRP1      </td><td>IVWMR   </td><td>NA</td><td>       NA</td><td>       NA</td></tr>\n",
       "\t<tr><td>TwoInsulin</td><td>PON3      </td><td>IVWMR   </td><td>NA</td><td>       NA</td><td>       NA</td></tr>\n",
       "\t<tr><td>VAT       </td><td>PON3      </td><td>IVWMR   </td><td>NA</td><td>       NA</td><td>       NA</td></tr>\n",
       "\t<tr><td>TGM2      </td><td>PancFat   </td><td>SMRHEIDI</td><td>20</td><td> 36755787</td><td> 36794980</td></tr>\n",
       "\t<tr><td>VAT       </td><td>PancFat   </td><td>IVWMR   </td><td>NA</td><td>       NA</td><td>       NA</td></tr>\n",
       "\t<tr><td>VAT       </td><td>SAT       </td><td>IVWMR   </td><td>NA</td><td>       NA</td><td>       NA</td></tr>\n",
       "\t<tr><td>TwoGlucose</td><td>TG        </td><td>IVWMR   </td><td>NA</td><td>       NA</td><td>       NA</td></tr>\n",
       "\t<tr><td>TwoInsulin</td><td>TwoGlucose</td><td>IVWMR   </td><td>NA</td><td>       NA</td><td>       NA</td></tr>\n",
       "</tbody>\n",
       "</table>\n"
      ],
      "text/latex": [
       "A tibble: 124 × 6\n",
       "\\begin{tabular}{llllll}\n",
       " node1 & node2 & atype & CHROM & start & end\\\\\n",
       " <chr> & <chr> & <chr> & <chr> & <dbl> & <dbl>\\\\\n",
       "\\hline\n",
       "\t AGRP        & CD4         & SMRHEIDI & 16 &  67516474 &  67517450\\\\\n",
       "\t AGRP        & Glucose     & SMRHEIDI & 16 &  67516474 &  67517450\\\\\n",
       "\t AGRP        & TG          & SMRHEIDI & 16 &  67516474 &  67517450\\\\\n",
       "\t APOM        & HDL         & SMRHEIDI & 6  &  31620193 &  31625987\\\\\n",
       "\t APOM        & TG          & SMRHEIDI & 6  &  31620193 &  31625987\\\\\n",
       "\t BasalISR    & GlucoseSens & IVWMR    & NA &        NA &        NA\\\\\n",
       "\t BasalISR    & HDL         & IVWMR    & NA &        NA &        NA\\\\\n",
       "\t BasalISR    & HOMA\\_IR     & IVWMR    & NA &        NA &        NA\\\\\n",
       "\t BasalISR    & IGFBP1      & IVWMR    & NA &        NA &        NA\\\\\n",
       "\t BasalISR    & Insulin     & IVWMR    & NA &        NA &        NA\\\\\n",
       "\t BasalISR    & LEP         & IVWMR    & NA &        NA &        NA\\\\\n",
       "\t BasalISR    & LiverFat    & IVWMR    & NA &        NA &        NA\\\\\n",
       "\t BasalISR    & TG          & IVWMR    & NA &        NA &        NA\\\\\n",
       "\t BasalISR    & TwoGlucose  & IVWMR    & NA &        NA &        NA\\\\\n",
       "\t BasalISR    & TwoInsulin  & IVWMR    & NA &        NA &        NA\\\\\n",
       "\t BasalISR    & VAT         & IVWMR    & NA &        NA &        NA\\\\\n",
       "\t CD4         & CTRC        & SMRHEIDI & 12 &   6896024 &   6929965\\\\\n",
       "\t CD4         & HDL         & SMRHEIDI & 12 &   6896024 &   6929965\\\\\n",
       "\t CDH5        & CTRC        & SMRHEIDI & 16 &  66400593 &  66438687\\\\\n",
       "\t CTRC        & PancFat     & SMRHEIDI & 1  &  15764938 &  15775737\\\\\n",
       "\t CTSD        & LDLR        & SMRHEIDI & 11 &   1773982 &   1785803\\\\\n",
       "\t CTSD        & LiverFat    & SMRHEIDI & 11 &   1773982 &   1785803\\\\\n",
       "\t FAM3C       & HbA1c       & SMRHEIDI & 7  & 120988932 & 121036418\\\\\n",
       "\t FGF21       & LiverFat    & SMRHEIDI & 19 &  49258781 &  49261590\\\\\n",
       "\t Glucose     & HOMA\\_IR     & IVWMR    & NA &        NA &        NA\\\\\n",
       "\t Glucose     & TwoInsulin  & IVWMR    & NA &        NA &        NA\\\\\n",
       "\t Glucose     & VAT         & IVWMR    & NA &        NA &        NA\\\\\n",
       "\t GlucoseSens & HbA1c       & IVWMR    & NA &        NA &        NA\\\\\n",
       "\t GlucoseSens & MATN2       & IVWMR    & NA &        NA &        NA\\\\\n",
       "\t GlucoseSens & TwoGlucose  & IVWMR    & NA &        NA &        NA\\\\\n",
       "\t ⋮ & ⋮ & ⋮ & ⋮ & ⋮ & ⋮\\\\\n",
       "\t KITLG      & HDL        & SMRHEIDI & 12 &  88886570 &  88974628\\\\\n",
       "\t PON3       & HDL        & SMRHEIDI & 7  &  94989184 &  95025687\\\\\n",
       "\t TG         & HDL        & IVWMR    & NA &        NA &        NA\\\\\n",
       "\t LiverFat   & HMOX1      & IVWMR    & NA &        NA &        NA\\\\\n",
       "\t Insulin    & HOMA\\_IR    & IVWMR    & NA &        NA &        NA\\\\\n",
       "\t HMOX1      & HbA1c      & SMRHEIDI & 22 &  35776354 &  35790207\\\\\n",
       "\t MFGE8      & HbA1c      & SMRHEIDI & 15 &  89441914 &  89456699\\\\\n",
       "\t IGFBP2     & IGFBP1     & SMRHEIDI & 2  & 217497551 & 217529159\\\\\n",
       "\t LDLR       & IGFBP2     & SMRHEIDI & 19 &  11200094 &  11244496\\\\\n",
       "\t LiverFat   & IGFBP2     & IVWMR    & NA &        NA &        NA\\\\\n",
       "\t PON3       & IGFBP2     & SMRHEIDI & 7  &  94989184 &  95025687\\\\\n",
       "\t TwoInsulin & Insulin    & IVWMR    & NA &        NA &        NA\\\\\n",
       "\t PON3       & LDLR       & SMRHEIDI & 7  &  94989184 &  95025687\\\\\n",
       "\t TG         & LDLR       & IVWMR    & NA &        NA &        NA\\\\\n",
       "\t LPL        & LEP        & SMRHEIDI & 8  &  19759228 &  19824770\\\\\n",
       "\t SAT        & LEP        & IVWMR    & NA &        NA &        NA\\\\\n",
       "\t VAT        & LEP        & IVWMR    & NA &        NA &        NA\\\\\n",
       "\t PON3       & LPL        & SMRHEIDI & 7  &  94989184 &  95025687\\\\\n",
       "\t TG         & LPL        & IVWMR    & NA &        NA &        NA\\\\\n",
       "\t VAT        & LPL        & IVWMR    & NA &        NA &        NA\\\\\n",
       "\t MFGE8      & MATN2      & SMRHEIDI & 15 &  89441914 &  89456699\\\\\n",
       "\t TG         & MFGE8      & IVWMR    & NA &        NA &        NA\\\\\n",
       "\t TG         & NRP1       & IVWMR    & NA &        NA &        NA\\\\\n",
       "\t TwoInsulin & PON3       & IVWMR    & NA &        NA &        NA\\\\\n",
       "\t VAT        & PON3       & IVWMR    & NA &        NA &        NA\\\\\n",
       "\t TGM2       & PancFat    & SMRHEIDI & 20 &  36755787 &  36794980\\\\\n",
       "\t VAT        & PancFat    & IVWMR    & NA &        NA &        NA\\\\\n",
       "\t VAT        & SAT        & IVWMR    & NA &        NA &        NA\\\\\n",
       "\t TwoGlucose & TG         & IVWMR    & NA &        NA &        NA\\\\\n",
       "\t TwoInsulin & TwoGlucose & IVWMR    & NA &        NA &        NA\\\\\n",
       "\\end{tabular}\n"
      ],
      "text/markdown": [
       "\n",
       "A tibble: 124 × 6\n",
       "\n",
       "| node1 &lt;chr&gt; | node2 &lt;chr&gt; | atype &lt;chr&gt; | CHROM &lt;chr&gt; | start &lt;dbl&gt; | end &lt;dbl&gt; |\n",
       "|---|---|---|---|---|---|\n",
       "| AGRP        | CD4         | SMRHEIDI | 16 |  67516474 |  67517450 |\n",
       "| AGRP        | Glucose     | SMRHEIDI | 16 |  67516474 |  67517450 |\n",
       "| AGRP        | TG          | SMRHEIDI | 16 |  67516474 |  67517450 |\n",
       "| APOM        | HDL         | SMRHEIDI | 6  |  31620193 |  31625987 |\n",
       "| APOM        | TG          | SMRHEIDI | 6  |  31620193 |  31625987 |\n",
       "| BasalISR    | GlucoseSens | IVWMR    | NA |        NA |        NA |\n",
       "| BasalISR    | HDL         | IVWMR    | NA |        NA |        NA |\n",
       "| BasalISR    | HOMA_IR     | IVWMR    | NA |        NA |        NA |\n",
       "| BasalISR    | IGFBP1      | IVWMR    | NA |        NA |        NA |\n",
       "| BasalISR    | Insulin     | IVWMR    | NA |        NA |        NA |\n",
       "| BasalISR    | LEP         | IVWMR    | NA |        NA |        NA |\n",
       "| BasalISR    | LiverFat    | IVWMR    | NA |        NA |        NA |\n",
       "| BasalISR    | TG          | IVWMR    | NA |        NA |        NA |\n",
       "| BasalISR    | TwoGlucose  | IVWMR    | NA |        NA |        NA |\n",
       "| BasalISR    | TwoInsulin  | IVWMR    | NA |        NA |        NA |\n",
       "| BasalISR    | VAT         | IVWMR    | NA |        NA |        NA |\n",
       "| CD4         | CTRC        | SMRHEIDI | 12 |   6896024 |   6929965 |\n",
       "| CD4         | HDL         | SMRHEIDI | 12 |   6896024 |   6929965 |\n",
       "| CDH5        | CTRC        | SMRHEIDI | 16 |  66400593 |  66438687 |\n",
       "| CTRC        | PancFat     | SMRHEIDI | 1  |  15764938 |  15775737 |\n",
       "| CTSD        | LDLR        | SMRHEIDI | 11 |   1773982 |   1785803 |\n",
       "| CTSD        | LiverFat    | SMRHEIDI | 11 |   1773982 |   1785803 |\n",
       "| FAM3C       | HbA1c       | SMRHEIDI | 7  | 120988932 | 121036418 |\n",
       "| FGF21       | LiverFat    | SMRHEIDI | 19 |  49258781 |  49261590 |\n",
       "| Glucose     | HOMA_IR     | IVWMR    | NA |        NA |        NA |\n",
       "| Glucose     | TwoInsulin  | IVWMR    | NA |        NA |        NA |\n",
       "| Glucose     | VAT         | IVWMR    | NA |        NA |        NA |\n",
       "| GlucoseSens | HbA1c       | IVWMR    | NA |        NA |        NA |\n",
       "| GlucoseSens | MATN2       | IVWMR    | NA |        NA |        NA |\n",
       "| GlucoseSens | TwoGlucose  | IVWMR    | NA |        NA |        NA |\n",
       "| ⋮ | ⋮ | ⋮ | ⋮ | ⋮ | ⋮ |\n",
       "| KITLG      | HDL        | SMRHEIDI | 12 |  88886570 |  88974628 |\n",
       "| PON3       | HDL        | SMRHEIDI | 7  |  94989184 |  95025687 |\n",
       "| TG         | HDL        | IVWMR    | NA |        NA |        NA |\n",
       "| LiverFat   | HMOX1      | IVWMR    | NA |        NA |        NA |\n",
       "| Insulin    | HOMA_IR    | IVWMR    | NA |        NA |        NA |\n",
       "| HMOX1      | HbA1c      | SMRHEIDI | 22 |  35776354 |  35790207 |\n",
       "| MFGE8      | HbA1c      | SMRHEIDI | 15 |  89441914 |  89456699 |\n",
       "| IGFBP2     | IGFBP1     | SMRHEIDI | 2  | 217497551 | 217529159 |\n",
       "| LDLR       | IGFBP2     | SMRHEIDI | 19 |  11200094 |  11244496 |\n",
       "| LiverFat   | IGFBP2     | IVWMR    | NA |        NA |        NA |\n",
       "| PON3       | IGFBP2     | SMRHEIDI | 7  |  94989184 |  95025687 |\n",
       "| TwoInsulin | Insulin    | IVWMR    | NA |        NA |        NA |\n",
       "| PON3       | LDLR       | SMRHEIDI | 7  |  94989184 |  95025687 |\n",
       "| TG         | LDLR       | IVWMR    | NA |        NA |        NA |\n",
       "| LPL        | LEP        | SMRHEIDI | 8  |  19759228 |  19824770 |\n",
       "| SAT        | LEP        | IVWMR    | NA |        NA |        NA |\n",
       "| VAT        | LEP        | IVWMR    | NA |        NA |        NA |\n",
       "| PON3       | LPL        | SMRHEIDI | 7  |  94989184 |  95025687 |\n",
       "| TG         | LPL        | IVWMR    | NA |        NA |        NA |\n",
       "| VAT        | LPL        | IVWMR    | NA |        NA |        NA |\n",
       "| MFGE8      | MATN2      | SMRHEIDI | 15 |  89441914 |  89456699 |\n",
       "| TG         | MFGE8      | IVWMR    | NA |        NA |        NA |\n",
       "| TG         | NRP1       | IVWMR    | NA |        NA |        NA |\n",
       "| TwoInsulin | PON3       | IVWMR    | NA |        NA |        NA |\n",
       "| VAT        | PON3       | IVWMR    | NA |        NA |        NA |\n",
       "| TGM2       | PancFat    | SMRHEIDI | 20 |  36755787 |  36794980 |\n",
       "| VAT        | PancFat    | IVWMR    | NA |        NA |        NA |\n",
       "| VAT        | SAT        | IVWMR    | NA |        NA |        NA |\n",
       "| TwoGlucose | TG         | IVWMR    | NA |        NA |        NA |\n",
       "| TwoInsulin | TwoGlucose | IVWMR    | NA |        NA |        NA |\n",
       "\n"
      ],
      "text/plain": [
       "    node1       node2       atype    CHROM start     end      \n",
       "1   AGRP        CD4         SMRHEIDI 16     67516474  67517450\n",
       "2   AGRP        Glucose     SMRHEIDI 16     67516474  67517450\n",
       "3   AGRP        TG          SMRHEIDI 16     67516474  67517450\n",
       "4   APOM        HDL         SMRHEIDI 6      31620193  31625987\n",
       "5   APOM        TG          SMRHEIDI 6      31620193  31625987\n",
       "6   BasalISR    GlucoseSens IVWMR    NA           NA        NA\n",
       "7   BasalISR    HDL         IVWMR    NA           NA        NA\n",
       "8   BasalISR    HOMA_IR     IVWMR    NA           NA        NA\n",
       "9   BasalISR    IGFBP1      IVWMR    NA           NA        NA\n",
       "10  BasalISR    Insulin     IVWMR    NA           NA        NA\n",
       "11  BasalISR    LEP         IVWMR    NA           NA        NA\n",
       "12  BasalISR    LiverFat    IVWMR    NA           NA        NA\n",
       "13  BasalISR    TG          IVWMR    NA           NA        NA\n",
       "14  BasalISR    TwoGlucose  IVWMR    NA           NA        NA\n",
       "15  BasalISR    TwoInsulin  IVWMR    NA           NA        NA\n",
       "16  BasalISR    VAT         IVWMR    NA           NA        NA\n",
       "17  CD4         CTRC        SMRHEIDI 12      6896024   6929965\n",
       "18  CD4         HDL         SMRHEIDI 12      6896024   6929965\n",
       "19  CDH5        CTRC        SMRHEIDI 16     66400593  66438687\n",
       "20  CTRC        PancFat     SMRHEIDI 1      15764938  15775737\n",
       "21  CTSD        LDLR        SMRHEIDI 11      1773982   1785803\n",
       "22  CTSD        LiverFat    SMRHEIDI 11      1773982   1785803\n",
       "23  FAM3C       HbA1c       SMRHEIDI 7     120988932 121036418\n",
       "24  FGF21       LiverFat    SMRHEIDI 19     49258781  49261590\n",
       "25  Glucose     HOMA_IR     IVWMR    NA           NA        NA\n",
       "26  Glucose     TwoInsulin  IVWMR    NA           NA        NA\n",
       "27  Glucose     VAT         IVWMR    NA           NA        NA\n",
       "28  GlucoseSens HbA1c       IVWMR    NA           NA        NA\n",
       "29  GlucoseSens MATN2       IVWMR    NA           NA        NA\n",
       "30  GlucoseSens TwoGlucose  IVWMR    NA           NA        NA\n",
       "⋮   ⋮           ⋮           ⋮        ⋮     ⋮         ⋮        \n",
       "95  KITLG       HDL         SMRHEIDI 12     88886570  88974628\n",
       "96  PON3        HDL         SMRHEIDI 7      94989184  95025687\n",
       "97  TG          HDL         IVWMR    NA           NA        NA\n",
       "98  LiverFat    HMOX1       IVWMR    NA           NA        NA\n",
       "99  Insulin     HOMA_IR     IVWMR    NA           NA        NA\n",
       "100 HMOX1       HbA1c       SMRHEIDI 22     35776354  35790207\n",
       "101 MFGE8       HbA1c       SMRHEIDI 15     89441914  89456699\n",
       "102 IGFBP2      IGFBP1      SMRHEIDI 2     217497551 217529159\n",
       "103 LDLR        IGFBP2      SMRHEIDI 19     11200094  11244496\n",
       "104 LiverFat    IGFBP2      IVWMR    NA           NA        NA\n",
       "105 PON3        IGFBP2      SMRHEIDI 7      94989184  95025687\n",
       "106 TwoInsulin  Insulin     IVWMR    NA           NA        NA\n",
       "107 PON3        LDLR        SMRHEIDI 7      94989184  95025687\n",
       "108 TG          LDLR        IVWMR    NA           NA        NA\n",
       "109 LPL         LEP         SMRHEIDI 8      19759228  19824770\n",
       "110 SAT         LEP         IVWMR    NA           NA        NA\n",
       "111 VAT         LEP         IVWMR    NA           NA        NA\n",
       "112 PON3        LPL         SMRHEIDI 7      94989184  95025687\n",
       "113 TG          LPL         IVWMR    NA           NA        NA\n",
       "114 VAT         LPL         IVWMR    NA           NA        NA\n",
       "115 MFGE8       MATN2       SMRHEIDI 15     89441914  89456699\n",
       "116 TG          MFGE8       IVWMR    NA           NA        NA\n",
       "117 TG          NRP1        IVWMR    NA           NA        NA\n",
       "118 TwoInsulin  PON3        IVWMR    NA           NA        NA\n",
       "119 VAT         PON3        IVWMR    NA           NA        NA\n",
       "120 TGM2        PancFat     SMRHEIDI 20     36755787  36794980\n",
       "121 VAT         PancFat     IVWMR    NA           NA        NA\n",
       "122 VAT         SAT         IVWMR    NA           NA        NA\n",
       "123 TwoGlucose  TG          IVWMR    NA           NA        NA\n",
       "124 TwoInsulin  TwoGlucose  IVWMR    NA           NA        NA"
      ]
     },
     "metadata": {},
     "output_type": "display_data"
    }
   ],
   "source": [
    "edge_tbf"
   ]
  },
  {
   "cell_type": "markdown",
   "id": "d2e3ce59-4684-4f99-a552-0f8fb9cc0290",
   "metadata": {},
   "source": [
    "## Saving"
   ]
  },
  {
   "cell_type": "code",
   "execution_count": 45,
   "id": "5e24c953-3e73-4a02-8e74-b3531aeeb973",
   "metadata": {
    "vscode": {
     "languageId": "r"
    }
   },
   "outputs": [],
   "source": [
    "write_tsv(\n",
    "  edge_tbf,\n",
    "  file.path(projfold, \"data\", \"edge_table_totest.tsv\")\n",
    ")"
   ]
  }
 ],
 "metadata": {
  "kernelspec": {
   "display_name": "R",
   "language": "R",
   "name": "ir"
  },
  "language_info": {
   "codemirror_mode": "r",
   "file_extension": ".r",
   "mimetype": "text/x-r-source",
   "name": "R",
   "pygments_lexer": "r",
   "version": "4.4.3"
  }
 },
 "nbformat": 4,
 "nbformat_minor": 5
}
