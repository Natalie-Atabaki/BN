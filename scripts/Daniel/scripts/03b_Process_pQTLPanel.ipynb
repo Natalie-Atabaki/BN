{
 "cells": [
  {
   "cell_type": "markdown",
   "id": "baa74d66-4494-4ea3-ae84-5512a7c747a0",
   "metadata": {},
   "source": [
    "# pQTL panel"
   ]
  },
  {
   "cell_type": "code",
   "execution_count": 1,
   "id": "58d969cb-c9e9-4065-b947-2ce20affcf5b",
   "metadata": {
    "vscode": {
     "languageId": "r"
    }
   },
   "outputs": [
    {
     "name": "stderr",
     "output_type": "stream",
     "text": [
      "\n",
      "Attaching package: ‘dplyr’\n",
      "\n",
      "\n",
      "The following objects are masked from ‘package:stats’:\n",
      "\n",
      "    filter, lag\n",
      "\n",
      "\n",
      "The following objects are masked from ‘package:base’:\n",
      "\n",
      "    intersect, setdiff, setequal, union\n",
      "\n",
      "\n"
     ]
    }
   ],
   "source": [
    "library(readr)\n",
    "library(dplyr)\n",
    "library(tidyr)\n",
    "library(purrr)"
   ]
  },
  {
   "cell_type": "code",
   "execution_count": 2,
   "id": "194689db-afea-41b0-8c15-a5d51f76fd0d",
   "metadata": {
    "vscode": {
     "languageId": "r"
    }
   },
   "outputs": [],
   "source": [
    "projfold <- \"/Users/da1078co/Documents/Lund/PhD/Projects/BN\""
   ]
  },
  {
   "cell_type": "markdown",
   "id": "132d38e9",
   "metadata": {},
   "source": [
    "## Olink protein map"
   ]
  },
  {
   "cell_type": "markdown",
   "id": "2fa1735d",
   "metadata": {},
   "source": [
    "Note: gene start and end coordinates are in hg38."
   ]
  },
  {
   "cell_type": "code",
   "execution_count": 3,
   "id": "1571a662-619b-462d-ae75-23cabc7238dd",
   "metadata": {
    "vscode": {
     "languageId": "r"
    }
   },
   "outputs": [
    {
     "data": {
      "text/html": [
       "<table class=\"dataframe\">\n",
       "<caption>A tibble: 6 × 17</caption>\n",
       "<thead>\n",
       "\t<tr><th scope=col>UKBPPP_ProteinID</th><th scope=col>olink_target_fullname</th><th scope=col>OlinkID</th><th scope=col>UniProt</th><th scope=col>Assay</th><th scope=col>Panel</th><th scope=col>Panel_Lot_Nr</th><th scope=col>UniProt2</th><th scope=col>HGNC.symbol</th><th scope=col>ensembl_id</th><th scope=col>chr</th><th scope=col>gene_start</th><th scope=col>gene_end</th><th scope=col>Strand</th><th scope=col>Dilution_factor</th><th scope=col>block</th><th scope=col>expansion</th></tr>\n",
       "\t<tr><th scope=col>&lt;chr&gt;</th><th scope=col>&lt;chr&gt;</th><th scope=col>&lt;chr&gt;</th><th scope=col>&lt;chr&gt;</th><th scope=col>&lt;chr&gt;</th><th scope=col>&lt;chr&gt;</th><th scope=col>&lt;chr&gt;</th><th scope=col>&lt;chr&gt;</th><th scope=col>&lt;chr&gt;</th><th scope=col>&lt;chr&gt;</th><th scope=col>&lt;chr&gt;</th><th scope=col>&lt;dbl&gt;</th><th scope=col>&lt;dbl&gt;</th><th scope=col>&lt;dbl&gt;</th><th scope=col>&lt;chr&gt;</th><th scope=col>&lt;chr&gt;</th><th scope=col>&lt;chr&gt;</th></tr>\n",
       "</thead>\n",
       "<tbody>\n",
       "\t<tr><td>AARSD1:Q9BTE6:OID21311:v1 </td><td>Alanyl-tRNA editing protein Aarsd1  </td><td>OID21311</td><td>Q9BTE6</td><td>AARSD1 </td><td>Oncology       </td><td>B04412</td><td>Q9BTE6</td><td>AARSD1 </td><td>ENSG00000266967</td><td>17</td><td> 42950526</td><td> 42964498</td><td>-1</td><td>1:1 </td><td>B</td><td>no</td></tr>\n",
       "\t<tr><td>ABHD14B:Q96IU4:OID20921:v1</td><td>Protein ABHD14B                     </td><td>OID20921</td><td>Q96IU4</td><td>ABHD14B</td><td>Neurology      </td><td>B04414</td><td>Q96IU4</td><td>ABHD14B</td><td>ENSG00000114779</td><td>3 </td><td> 51968510</td><td> 51983409</td><td>-1</td><td>1:1 </td><td>B</td><td>no</td></tr>\n",
       "\t<tr><td>ABL1:P00519:OID21280:v1   </td><td>Tyrosine-protein kinase ABL1        </td><td>OID21280</td><td>P00519</td><td>ABL1   </td><td>Oncology       </td><td>B04412</td><td>P00519</td><td>ABL1   </td><td>ENSG00000097007</td><td>9 </td><td>130713016</td><td>130887675</td><td> 1</td><td>1:1 </td><td>B</td><td>no</td></tr>\n",
       "\t<tr><td>ACAA1:P09110:OID21269:v1  </td><td>3-ketoacyl-CoA thiolase, peroxisomal</td><td>OID21269</td><td>P09110</td><td>ACAA1  </td><td>Oncology       </td><td>B04412</td><td>P09110</td><td>ACAA1  </td><td>ENSG00000060971</td><td>3 </td><td> 38103129</td><td> 38137242</td><td>-1</td><td>1:1 </td><td>A</td><td>no</td></tr>\n",
       "\t<tr><td>ACAN:P16112:OID20159:v1   </td><td>Aggrecan core protein               </td><td>OID20159</td><td>P16112</td><td>ACAN   </td><td>Cardiometabolic</td><td>B04413</td><td>P16112</td><td>ACAN   </td><td>ENSG00000157766</td><td>15</td><td> 88803436</td><td> 88875353</td><td> 1</td><td>1:10</td><td>B</td><td>no</td></tr>\n",
       "\t<tr><td>ACE2:Q9BYF1:OID20105:v1   </td><td>Angiotensin-converting enzyme 2     </td><td>OID20105</td><td>Q9BYF1</td><td>ACE2   </td><td>Cardiometabolic</td><td>B04413</td><td>Q9BYF1</td><td>ACE2   </td><td>ENSG00000130234</td><td>X </td><td> 15494566</td><td> 15607236</td><td>-1</td><td>1:1 </td><td>A</td><td>no</td></tr>\n",
       "</tbody>\n",
       "</table>\n"
      ],
      "text/latex": [
       "A tibble: 6 × 17\n",
       "\\begin{tabular}{lllllllllllllllll}\n",
       " UKBPPP\\_ProteinID & olink\\_target\\_fullname & OlinkID & UniProt & Assay & Panel & Panel\\_Lot\\_Nr & UniProt2 & HGNC.symbol & ensembl\\_id & chr & gene\\_start & gene\\_end & Strand & Dilution\\_factor & block & expansion\\\\\n",
       " <chr> & <chr> & <chr> & <chr> & <chr> & <chr> & <chr> & <chr> & <chr> & <chr> & <chr> & <dbl> & <dbl> & <dbl> & <chr> & <chr> & <chr>\\\\\n",
       "\\hline\n",
       "\t AARSD1:Q9BTE6:OID21311:v1  & Alanyl-tRNA editing protein Aarsd1   & OID21311 & Q9BTE6 & AARSD1  & Oncology        & B04412 & Q9BTE6 & AARSD1  & ENSG00000266967 & 17 &  42950526 &  42964498 & -1 & 1:1  & B & no\\\\\n",
       "\t ABHD14B:Q96IU4:OID20921:v1 & Protein ABHD14B                      & OID20921 & Q96IU4 & ABHD14B & Neurology       & B04414 & Q96IU4 & ABHD14B & ENSG00000114779 & 3  &  51968510 &  51983409 & -1 & 1:1  & B & no\\\\\n",
       "\t ABL1:P00519:OID21280:v1    & Tyrosine-protein kinase ABL1         & OID21280 & P00519 & ABL1    & Oncology        & B04412 & P00519 & ABL1    & ENSG00000097007 & 9  & 130713016 & 130887675 &  1 & 1:1  & B & no\\\\\n",
       "\t ACAA1:P09110:OID21269:v1   & 3-ketoacyl-CoA thiolase, peroxisomal & OID21269 & P09110 & ACAA1   & Oncology        & B04412 & P09110 & ACAA1   & ENSG00000060971 & 3  &  38103129 &  38137242 & -1 & 1:1  & A & no\\\\\n",
       "\t ACAN:P16112:OID20159:v1    & Aggrecan core protein                & OID20159 & P16112 & ACAN    & Cardiometabolic & B04413 & P16112 & ACAN    & ENSG00000157766 & 15 &  88803436 &  88875353 &  1 & 1:10 & B & no\\\\\n",
       "\t ACE2:Q9BYF1:OID20105:v1    & Angiotensin-converting enzyme 2      & OID20105 & Q9BYF1 & ACE2    & Cardiometabolic & B04413 & Q9BYF1 & ACE2    & ENSG00000130234 & X  &  15494566 &  15607236 & -1 & 1:1  & A & no\\\\\n",
       "\\end{tabular}\n"
      ],
      "text/markdown": [
       "\n",
       "A tibble: 6 × 17\n",
       "\n",
       "| UKBPPP_ProteinID &lt;chr&gt; | olink_target_fullname &lt;chr&gt; | OlinkID &lt;chr&gt; | UniProt &lt;chr&gt; | Assay &lt;chr&gt; | Panel &lt;chr&gt; | Panel_Lot_Nr &lt;chr&gt; | UniProt2 &lt;chr&gt; | HGNC.symbol &lt;chr&gt; | ensembl_id &lt;chr&gt; | chr &lt;chr&gt; | gene_start &lt;dbl&gt; | gene_end &lt;dbl&gt; | Strand &lt;dbl&gt; | Dilution_factor &lt;chr&gt; | block &lt;chr&gt; | expansion &lt;chr&gt; |\n",
       "|---|---|---|---|---|---|---|---|---|---|---|---|---|---|---|---|---|\n",
       "| AARSD1:Q9BTE6:OID21311:v1  | Alanyl-tRNA editing protein Aarsd1   | OID21311 | Q9BTE6 | AARSD1  | Oncology        | B04412 | Q9BTE6 | AARSD1  | ENSG00000266967 | 17 |  42950526 |  42964498 | -1 | 1:1  | B | no |\n",
       "| ABHD14B:Q96IU4:OID20921:v1 | Protein ABHD14B                      | OID20921 | Q96IU4 | ABHD14B | Neurology       | B04414 | Q96IU4 | ABHD14B | ENSG00000114779 | 3  |  51968510 |  51983409 | -1 | 1:1  | B | no |\n",
       "| ABL1:P00519:OID21280:v1    | Tyrosine-protein kinase ABL1         | OID21280 | P00519 | ABL1    | Oncology        | B04412 | P00519 | ABL1    | ENSG00000097007 | 9  | 130713016 | 130887675 |  1 | 1:1  | B | no |\n",
       "| ACAA1:P09110:OID21269:v1   | 3-ketoacyl-CoA thiolase, peroxisomal | OID21269 | P09110 | ACAA1   | Oncology        | B04412 | P09110 | ACAA1   | ENSG00000060971 | 3  |  38103129 |  38137242 | -1 | 1:1  | A | no |\n",
       "| ACAN:P16112:OID20159:v1    | Aggrecan core protein                | OID20159 | P16112 | ACAN    | Cardiometabolic | B04413 | P16112 | ACAN    | ENSG00000157766 | 15 |  88803436 |  88875353 |  1 | 1:10 | B | no |\n",
       "| ACE2:Q9BYF1:OID20105:v1    | Angiotensin-converting enzyme 2      | OID20105 | Q9BYF1 | ACE2    | Cardiometabolic | B04413 | Q9BYF1 | ACE2    | ENSG00000130234 | X  |  15494566 |  15607236 | -1 | 1:1  | A | no |\n",
       "\n"
      ],
      "text/plain": [
       "  UKBPPP_ProteinID           olink_target_fullname                OlinkID \n",
       "1 AARSD1:Q9BTE6:OID21311:v1  Alanyl-tRNA editing protein Aarsd1   OID21311\n",
       "2 ABHD14B:Q96IU4:OID20921:v1 Protein ABHD14B                      OID20921\n",
       "3 ABL1:P00519:OID21280:v1    Tyrosine-protein kinase ABL1         OID21280\n",
       "4 ACAA1:P09110:OID21269:v1   3-ketoacyl-CoA thiolase, peroxisomal OID21269\n",
       "5 ACAN:P16112:OID20159:v1    Aggrecan core protein                OID20159\n",
       "6 ACE2:Q9BYF1:OID20105:v1    Angiotensin-converting enzyme 2      OID20105\n",
       "  UniProt Assay   Panel           Panel_Lot_Nr UniProt2 HGNC.symbol\n",
       "1 Q9BTE6  AARSD1  Oncology        B04412       Q9BTE6   AARSD1     \n",
       "2 Q96IU4  ABHD14B Neurology       B04414       Q96IU4   ABHD14B    \n",
       "3 P00519  ABL1    Oncology        B04412       P00519   ABL1       \n",
       "4 P09110  ACAA1   Oncology        B04412       P09110   ACAA1      \n",
       "5 P16112  ACAN    Cardiometabolic B04413       P16112   ACAN       \n",
       "6 Q9BYF1  ACE2    Cardiometabolic B04413       Q9BYF1   ACE2       \n",
       "  ensembl_id      chr gene_start gene_end  Strand Dilution_factor block\n",
       "1 ENSG00000266967 17   42950526   42964498 -1     1:1             B    \n",
       "2 ENSG00000114779 3    51968510   51983409 -1     1:1             B    \n",
       "3 ENSG00000097007 9   130713016  130887675  1     1:1             B    \n",
       "4 ENSG00000060971 3    38103129   38137242 -1     1:1             A    \n",
       "5 ENSG00000157766 15   88803436   88875353  1     1:10            B    \n",
       "6 ENSG00000130234 X    15494566   15607236 -1     1:1             A    \n",
       "  expansion\n",
       "1 no       \n",
       "2 no       \n",
       "3 no       \n",
       "4 no       \n",
       "5 no       \n",
       "6 no       "
      ]
     },
     "metadata": {},
     "output_type": "display_data"
    }
   ],
   "source": [
    "olinkmap <- read_tsv(\n",
    "  file.path(projfold, \"data\", \"olink_protein_map_3k_v1.tsv\"),\n",
    "  show_col_types = FALSE\n",
    ")\n",
    "head(olinkmap)"
   ]
  },
  {
   "cell_type": "markdown",
   "id": "135e5693",
   "metadata": {
    "vscode": {
     "languageId": "r"
    }
   },
   "source": [
    "## UKB-PPP file map"
   ]
  },
  {
   "cell_type": "code",
   "execution_count": 4,
   "id": "9b4b9d68-afc9-4ef6-ab4b-5a1a43bdf61d",
   "metadata": {
    "vscode": {
     "languageId": "r"
    }
   },
   "outputs": [
    {
     "data": {
      "text/html": [
       "<table class=\"dataframe\">\n",
       "<caption>A tibble: 6 × 2</caption>\n",
       "<thead>\n",
       "\t<tr><th scope=col>name</th><th scope=col>id</th></tr>\n",
       "\t<tr><th scope=col>&lt;chr&gt;</th><th scope=col>&lt;chr&gt;</th></tr>\n",
       "</thead>\n",
       "<tbody>\n",
       "\t<tr><td>A1BG_P04217_OID30771_v1_Inflammation_II.tar    </td><td>syn52363617</td></tr>\n",
       "\t<tr><td>AAMDC_Q9H7C9_OID30236_v1_Cardiometabolic_II.tar</td><td>syn52362400</td></tr>\n",
       "\t<tr><td>AARSD1_Q9BTE6_OID21311_v1_Oncology.tar         </td><td>syn51471562</td></tr>\n",
       "\t<tr><td>ABCA2_Q9BZC7_OID30146_v1_Cardiometabolic_II.tar</td><td>syn52361344</td></tr>\n",
       "\t<tr><td>ABHD14B_Q96IU4_OID20921_v1_Neurology.tar       </td><td>syn51470065</td></tr>\n",
       "\t<tr><td>ABL1_P00519_OID21280_v1_Oncology.tar           </td><td>syn51468700</td></tr>\n",
       "</tbody>\n",
       "</table>\n"
      ],
      "text/latex": [
       "A tibble: 6 × 2\n",
       "\\begin{tabular}{ll}\n",
       " name & id\\\\\n",
       " <chr> & <chr>\\\\\n",
       "\\hline\n",
       "\t A1BG\\_P04217\\_OID30771\\_v1\\_Inflammation\\_II.tar     & syn52363617\\\\\n",
       "\t AAMDC\\_Q9H7C9\\_OID30236\\_v1\\_Cardiometabolic\\_II.tar & syn52362400\\\\\n",
       "\t AARSD1\\_Q9BTE6\\_OID21311\\_v1\\_Oncology.tar          & syn51471562\\\\\n",
       "\t ABCA2\\_Q9BZC7\\_OID30146\\_v1\\_Cardiometabolic\\_II.tar & syn52361344\\\\\n",
       "\t ABHD14B\\_Q96IU4\\_OID20921\\_v1\\_Neurology.tar        & syn51470065\\\\\n",
       "\t ABL1\\_P00519\\_OID21280\\_v1\\_Oncology.tar            & syn51468700\\\\\n",
       "\\end{tabular}\n"
      ],
      "text/markdown": [
       "\n",
       "A tibble: 6 × 2\n",
       "\n",
       "| name &lt;chr&gt; | id &lt;chr&gt; |\n",
       "|---|---|\n",
       "| A1BG_P04217_OID30771_v1_Inflammation_II.tar     | syn52363617 |\n",
       "| AAMDC_Q9H7C9_OID30236_v1_Cardiometabolic_II.tar | syn52362400 |\n",
       "| AARSD1_Q9BTE6_OID21311_v1_Oncology.tar          | syn51471562 |\n",
       "| ABCA2_Q9BZC7_OID30146_v1_Cardiometabolic_II.tar | syn52361344 |\n",
       "| ABHD14B_Q96IU4_OID20921_v1_Neurology.tar        | syn51470065 |\n",
       "| ABL1_P00519_OID21280_v1_Oncology.tar            | syn51468700 |\n",
       "\n"
      ],
      "text/plain": [
       "  name                                            id         \n",
       "1 A1BG_P04217_OID30771_v1_Inflammation_II.tar     syn52363617\n",
       "2 AAMDC_Q9H7C9_OID30236_v1_Cardiometabolic_II.tar syn52362400\n",
       "3 AARSD1_Q9BTE6_OID21311_v1_Oncology.tar          syn51471562\n",
       "4 ABCA2_Q9BZC7_OID30146_v1_Cardiometabolic_II.tar syn52361344\n",
       "5 ABHD14B_Q96IU4_OID20921_v1_Neurology.tar        syn51470065\n",
       "6 ABL1_P00519_OID21280_v1_Oncology.tar            syn51468700"
      ]
     },
     "metadata": {},
     "output_type": "display_data"
    }
   ],
   "source": [
    "olinkfilemap <- read_tsv(\n",
    "  file.path(projfold, \"data\", \"olinkfilemapUKB.tsv\"),\n",
    "  show_col_types = FALSE\n",
    ")\n",
    "head(olinkfilemap)"
   ]
  },
  {
   "cell_type": "markdown",
   "id": "81ac2a7b",
   "metadata": {},
   "source": [
    "Extractin Olink ID"
   ]
  },
  {
   "cell_type": "code",
   "execution_count": 5,
   "id": "7018765a-e763-4cbb-be59-f13264469e76",
   "metadata": {
    "vscode": {
     "languageId": "r"
    }
   },
   "outputs": [
    {
     "data": {
      "text/html": [
       "<table class=\"dataframe\">\n",
       "<caption>A tibble: 6 × 3</caption>\n",
       "<thead>\n",
       "\t<tr><th scope=col>name</th><th scope=col>id</th><th scope=col>OlinkID</th></tr>\n",
       "\t<tr><th scope=col>&lt;chr&gt;</th><th scope=col>&lt;chr&gt;</th><th scope=col>&lt;chr&gt;</th></tr>\n",
       "</thead>\n",
       "<tbody>\n",
       "\t<tr><td>A1BG_P04217_OID30771_v1_Inflammation_II.tar    </td><td>syn52363617</td><td>OID30771</td></tr>\n",
       "\t<tr><td>AAMDC_Q9H7C9_OID30236_v1_Cardiometabolic_II.tar</td><td>syn52362400</td><td>OID30236</td></tr>\n",
       "\t<tr><td>AARSD1_Q9BTE6_OID21311_v1_Oncology.tar         </td><td>syn51471562</td><td>OID21311</td></tr>\n",
       "\t<tr><td>ABCA2_Q9BZC7_OID30146_v1_Cardiometabolic_II.tar</td><td>syn52361344</td><td>OID30146</td></tr>\n",
       "\t<tr><td>ABHD14B_Q96IU4_OID20921_v1_Neurology.tar       </td><td>syn51470065</td><td>OID20921</td></tr>\n",
       "\t<tr><td>ABL1_P00519_OID21280_v1_Oncology.tar           </td><td>syn51468700</td><td>OID21280</td></tr>\n",
       "</tbody>\n",
       "</table>\n"
      ],
      "text/latex": [
       "A tibble: 6 × 3\n",
       "\\begin{tabular}{lll}\n",
       " name & id & OlinkID\\\\\n",
       " <chr> & <chr> & <chr>\\\\\n",
       "\\hline\n",
       "\t A1BG\\_P04217\\_OID30771\\_v1\\_Inflammation\\_II.tar     & syn52363617 & OID30771\\\\\n",
       "\t AAMDC\\_Q9H7C9\\_OID30236\\_v1\\_Cardiometabolic\\_II.tar & syn52362400 & OID30236\\\\\n",
       "\t AARSD1\\_Q9BTE6\\_OID21311\\_v1\\_Oncology.tar          & syn51471562 & OID21311\\\\\n",
       "\t ABCA2\\_Q9BZC7\\_OID30146\\_v1\\_Cardiometabolic\\_II.tar & syn52361344 & OID30146\\\\\n",
       "\t ABHD14B\\_Q96IU4\\_OID20921\\_v1\\_Neurology.tar        & syn51470065 & OID20921\\\\\n",
       "\t ABL1\\_P00519\\_OID21280\\_v1\\_Oncology.tar            & syn51468700 & OID21280\\\\\n",
       "\\end{tabular}\n"
      ],
      "text/markdown": [
       "\n",
       "A tibble: 6 × 3\n",
       "\n",
       "| name &lt;chr&gt; | id &lt;chr&gt; | OlinkID &lt;chr&gt; |\n",
       "|---|---|---|\n",
       "| A1BG_P04217_OID30771_v1_Inflammation_II.tar     | syn52363617 | OID30771 |\n",
       "| AAMDC_Q9H7C9_OID30236_v1_Cardiometabolic_II.tar | syn52362400 | OID30236 |\n",
       "| AARSD1_Q9BTE6_OID21311_v1_Oncology.tar          | syn51471562 | OID21311 |\n",
       "| ABCA2_Q9BZC7_OID30146_v1_Cardiometabolic_II.tar | syn52361344 | OID30146 |\n",
       "| ABHD14B_Q96IU4_OID20921_v1_Neurology.tar        | syn51470065 | OID20921 |\n",
       "| ABL1_P00519_OID21280_v1_Oncology.tar            | syn51468700 | OID21280 |\n",
       "\n"
      ],
      "text/plain": [
       "  name                                            id          OlinkID \n",
       "1 A1BG_P04217_OID30771_v1_Inflammation_II.tar     syn52363617 OID30771\n",
       "2 AAMDC_Q9H7C9_OID30236_v1_Cardiometabolic_II.tar syn52362400 OID30236\n",
       "3 AARSD1_Q9BTE6_OID21311_v1_Oncology.tar          syn51471562 OID21311\n",
       "4 ABCA2_Q9BZC7_OID30146_v1_Cardiometabolic_II.tar syn52361344 OID30146\n",
       "5 ABHD14B_Q96IU4_OID20921_v1_Neurology.tar        syn51470065 OID20921\n",
       "6 ABL1_P00519_OID21280_v1_Oncology.tar            syn51468700 OID21280"
      ]
     },
     "metadata": {},
     "output_type": "display_data"
    }
   ],
   "source": [
    "olinkfilemap <- olinkfilemap %>%\n",
    "  mutate(OlinkID = gsub(\".*_(OID[^_]+)_.*\", \"\\\\1\", name))\n",
    "head(olinkfilemap)"
   ]
  },
  {
   "cell_type": "markdown",
   "id": "e5e1aa9f",
   "metadata": {},
   "source": [
    "## Edge table"
   ]
  },
  {
   "cell_type": "code",
   "execution_count": 7,
   "id": "acd09bdb",
   "metadata": {
    "vscode": {
     "languageId": "r"
    }
   },
   "outputs": [
    {
     "data": {
      "text/html": [
       "<table class=\"dataframe\">\n",
       "<caption>A tibble: 6 × 6</caption>\n",
       "<thead>\n",
       "\t<tr><th scope=col>node1</th><th scope=col>node2</th><th scope=col>atype</th><th scope=col>CHROM</th><th scope=col>start</th><th scope=col>end</th></tr>\n",
       "\t<tr><th scope=col>&lt;chr&gt;</th><th scope=col>&lt;chr&gt;</th><th scope=col>&lt;chr&gt;</th><th scope=col>&lt;dbl&gt;</th><th scope=col>&lt;dbl&gt;</th><th scope=col>&lt;dbl&gt;</th></tr>\n",
       "</thead>\n",
       "<tbody>\n",
       "\t<tr><td>AGRP    </td><td>CD4        </td><td>SMRHEIDI</td><td>16</td><td>67516474</td><td>67517450</td></tr>\n",
       "\t<tr><td>AGRP    </td><td>Glucose    </td><td>SMRHEIDI</td><td>16</td><td>67516474</td><td>67517450</td></tr>\n",
       "\t<tr><td>AGRP    </td><td>TG         </td><td>SMRHEIDI</td><td>16</td><td>67516474</td><td>67517450</td></tr>\n",
       "\t<tr><td>APOM    </td><td>HDL        </td><td>SMRHEIDI</td><td> 6</td><td>31620193</td><td>31625987</td></tr>\n",
       "\t<tr><td>APOM    </td><td>TG         </td><td>SMRHEIDI</td><td> 6</td><td>31620193</td><td>31625987</td></tr>\n",
       "\t<tr><td>BasalISR</td><td>GlucoseSens</td><td>IVWMR   </td><td>NA</td><td>      NA</td><td>      NA</td></tr>\n",
       "</tbody>\n",
       "</table>\n"
      ],
      "text/latex": [
       "A tibble: 6 × 6\n",
       "\\begin{tabular}{llllll}\n",
       " node1 & node2 & atype & CHROM & start & end\\\\\n",
       " <chr> & <chr> & <chr> & <dbl> & <dbl> & <dbl>\\\\\n",
       "\\hline\n",
       "\t AGRP     & CD4         & SMRHEIDI & 16 & 67516474 & 67517450\\\\\n",
       "\t AGRP     & Glucose     & SMRHEIDI & 16 & 67516474 & 67517450\\\\\n",
       "\t AGRP     & TG          & SMRHEIDI & 16 & 67516474 & 67517450\\\\\n",
       "\t APOM     & HDL         & SMRHEIDI &  6 & 31620193 & 31625987\\\\\n",
       "\t APOM     & TG          & SMRHEIDI &  6 & 31620193 & 31625987\\\\\n",
       "\t BasalISR & GlucoseSens & IVWMR    & NA &       NA &       NA\\\\\n",
       "\\end{tabular}\n"
      ],
      "text/markdown": [
       "\n",
       "A tibble: 6 × 6\n",
       "\n",
       "| node1 &lt;chr&gt; | node2 &lt;chr&gt; | atype &lt;chr&gt; | CHROM &lt;dbl&gt; | start &lt;dbl&gt; | end &lt;dbl&gt; |\n",
       "|---|---|---|---|---|---|\n",
       "| AGRP     | CD4         | SMRHEIDI | 16 | 67516474 | 67517450 |\n",
       "| AGRP     | Glucose     | SMRHEIDI | 16 | 67516474 | 67517450 |\n",
       "| AGRP     | TG          | SMRHEIDI | 16 | 67516474 | 67517450 |\n",
       "| APOM     | HDL         | SMRHEIDI |  6 | 31620193 | 31625987 |\n",
       "| APOM     | TG          | SMRHEIDI |  6 | 31620193 | 31625987 |\n",
       "| BasalISR | GlucoseSens | IVWMR    | NA |       NA |       NA |\n",
       "\n"
      ],
      "text/plain": [
       "  node1    node2       atype    CHROM start    end     \n",
       "1 AGRP     CD4         SMRHEIDI 16    67516474 67517450\n",
       "2 AGRP     Glucose     SMRHEIDI 16    67516474 67517450\n",
       "3 AGRP     TG          SMRHEIDI 16    67516474 67517450\n",
       "4 APOM     HDL         SMRHEIDI  6    31620193 31625987\n",
       "5 APOM     TG          SMRHEIDI  6    31620193 31625987\n",
       "6 BasalISR GlucoseSens IVWMR    NA          NA       NA"
      ]
     },
     "metadata": {},
     "output_type": "display_data"
    }
   ],
   "source": [
    "edge_tbf <- read_tsv(\n",
    "  file.path(projfold, \"data\", \"edge_table_totest.tsv\"),\n",
    "  show_col_types = FALSE\n",
    ")\n",
    "head(edge_tbf)"
   ]
  },
  {
   "cell_type": "markdown",
   "id": "ade26dac",
   "metadata": {},
   "source": [
    "## Query table"
   ]
  },
  {
   "cell_type": "code",
   "execution_count": 17,
   "id": "1ce6e26d",
   "metadata": {
    "vscode": {
     "languageId": "r"
    }
   },
   "outputs": [
    {
     "data": {
      "text/html": [
       "<table class=\"dataframe\">\n",
       "<caption>A tibble: 6 × 21</caption>\n",
       "<thead>\n",
       "\t<tr><th scope=col>HGNC.symbol</th><th scope=col>start_hg19</th><th scope=col>end_hg19</th><th scope=col>UKBPPP_ProteinID</th><th scope=col>olink_target_fullname</th><th scope=col>OlinkID</th><th scope=col>UniProt</th><th scope=col>Assay</th><th scope=col>Panel</th><th scope=col>Panel_Lot_Nr</th><th scope=col>⋯</th><th scope=col>ensembl_id</th><th scope=col>chr</th><th scope=col>gene_start</th><th scope=col>gene_end</th><th scope=col>Strand</th><th scope=col>Dilution_factor</th><th scope=col>block</th><th scope=col>expansion</th><th scope=col>name</th><th scope=col>id</th></tr>\n",
       "\t<tr><th scope=col>&lt;chr&gt;</th><th scope=col>&lt;dbl&gt;</th><th scope=col>&lt;dbl&gt;</th><th scope=col>&lt;chr&gt;</th><th scope=col>&lt;chr&gt;</th><th scope=col>&lt;chr&gt;</th><th scope=col>&lt;chr&gt;</th><th scope=col>&lt;chr&gt;</th><th scope=col>&lt;chr&gt;</th><th scope=col>&lt;chr&gt;</th><th scope=col>⋯</th><th scope=col>&lt;chr&gt;</th><th scope=col>&lt;chr&gt;</th><th scope=col>&lt;dbl&gt;</th><th scope=col>&lt;dbl&gt;</th><th scope=col>&lt;dbl&gt;</th><th scope=col>&lt;chr&gt;</th><th scope=col>&lt;chr&gt;</th><th scope=col>&lt;chr&gt;</th><th scope=col>&lt;chr&gt;</th><th scope=col>&lt;chr&gt;</th></tr>\n",
       "</thead>\n",
       "<tbody>\n",
       "\t<tr><td>AGRP</td><td>67516474</td><td>67517450</td><td>AGRP:O00253:OID20658:v1</td><td>Agouti-related protein         </td><td>OID20658</td><td>O00253</td><td>AGRP</td><td>Inflammation   </td><td>B04411</td><td>⋯</td><td>ENSG00000159723</td><td>16</td><td>67482571</td><td>67483547</td><td>-1</td><td>1:1   </td><td>C</td><td>no</td><td>AGRP_O00253_OID20658_v1_Inflammation.tar   </td><td>syn51471023</td></tr>\n",
       "\t<tr><td>APOM</td><td>31620193</td><td>31625987</td><td>APOM:O95445:OID20374:v1</td><td>Apolipoprotein M               </td><td>OID20374</td><td>O95445</td><td>APOM</td><td>Cardiometabolic</td><td>B04413</td><td>⋯</td><td>ENSG00000204444</td><td>6 </td><td>31652416</td><td>31658210</td><td> 1</td><td>1:1000</td><td>D</td><td>no</td><td>APOM_O95445_OID20374_v1_Cardiometabolic.tar</td><td>syn51471413</td></tr>\n",
       "\t<tr><td>CD4 </td><td> 6896024</td><td> 6929965</td><td>CD4:P01730:OID20584:v1 </td><td>T-cell surface glycoprotein CD4</td><td>OID20584</td><td>P01730</td><td>CD4 </td><td>Inflammation   </td><td>B04411</td><td>⋯</td><td>ENSG00000010610</td><td>12</td><td> 6786858</td><td> 6820799</td><td> 1</td><td>1:1   </td><td>B</td><td>no</td><td>CD4_P01730_OID20584_v1_Inflammation.tar    </td><td>syn51470975</td></tr>\n",
       "\t<tr><td>CDH5</td><td>66400593</td><td>66438687</td><td>CDH5:P33151:OID20243:v1</td><td>Cadherin-5                     </td><td>OID20243</td><td>P33151</td><td>CDH5</td><td>Cardiometabolic</td><td>B04413</td><td>⋯</td><td>ENSG00000179776</td><td>16</td><td>66366622</td><td>66404784</td><td> 1</td><td>1:100 </td><td>C</td><td>no</td><td>CDH5_P33151_OID20243_v1_Cardiometabolic.tar</td><td>syn51469161</td></tr>\n",
       "\t<tr><td>CTRC</td><td>15764938</td><td>15775737</td><td>CTRC:Q99895:OID20752:v1</td><td>Chymotrypsin-C                 </td><td>OID20752</td><td>Q99895</td><td>CTRC</td><td>Inflammation   </td><td>B04411</td><td>⋯</td><td>ENSG00000162438</td><td>1 </td><td>15438442</td><td>15449242</td><td> 1</td><td>1:10  </td><td>D</td><td>no</td><td>CTRC_Q99895_OID20752_v1_Inflammation.tar   </td><td>syn51471283</td></tr>\n",
       "\t<tr><td>CTSD</td><td> 1773982</td><td> 1785803</td><td>CTSD:P07339:OID20358:v1</td><td>Cathepsin D                    </td><td>OID20358</td><td>P07339</td><td>CTSD</td><td>Cardiometabolic</td><td>B04413</td><td>⋯</td><td>ENSG00000117984</td><td>11</td><td> 1752752</td><td> 1764573</td><td>-1</td><td>1:1000</td><td>D</td><td>no</td><td>CTSD_P07339_OID20358_v1_Cardiometabolic.tar</td><td>syn51469587</td></tr>\n",
       "</tbody>\n",
       "</table>\n"
      ],
      "text/latex": [
       "A tibble: 6 × 21\n",
       "\\begin{tabular}{lllllllllllllllllllll}\n",
       " HGNC.symbol & start\\_hg19 & end\\_hg19 & UKBPPP\\_ProteinID & olink\\_target\\_fullname & OlinkID & UniProt & Assay & Panel & Panel\\_Lot\\_Nr & ⋯ & ensembl\\_id & chr & gene\\_start & gene\\_end & Strand & Dilution\\_factor & block & expansion & name & id\\\\\n",
       " <chr> & <dbl> & <dbl> & <chr> & <chr> & <chr> & <chr> & <chr> & <chr> & <chr> & ⋯ & <chr> & <chr> & <dbl> & <dbl> & <dbl> & <chr> & <chr> & <chr> & <chr> & <chr>\\\\\n",
       "\\hline\n",
       "\t AGRP & 67516474 & 67517450 & AGRP:O00253:OID20658:v1 & Agouti-related protein          & OID20658 & O00253 & AGRP & Inflammation    & B04411 & ⋯ & ENSG00000159723 & 16 & 67482571 & 67483547 & -1 & 1:1    & C & no & AGRP\\_O00253\\_OID20658\\_v1\\_Inflammation.tar    & syn51471023\\\\\n",
       "\t APOM & 31620193 & 31625987 & APOM:O95445:OID20374:v1 & Apolipoprotein M                & OID20374 & O95445 & APOM & Cardiometabolic & B04413 & ⋯ & ENSG00000204444 & 6  & 31652416 & 31658210 &  1 & 1:1000 & D & no & APOM\\_O95445\\_OID20374\\_v1\\_Cardiometabolic.tar & syn51471413\\\\\n",
       "\t CD4  &  6896024 &  6929965 & CD4:P01730:OID20584:v1  & T-cell surface glycoprotein CD4 & OID20584 & P01730 & CD4  & Inflammation    & B04411 & ⋯ & ENSG00000010610 & 12 &  6786858 &  6820799 &  1 & 1:1    & B & no & CD4\\_P01730\\_OID20584\\_v1\\_Inflammation.tar     & syn51470975\\\\\n",
       "\t CDH5 & 66400593 & 66438687 & CDH5:P33151:OID20243:v1 & Cadherin-5                      & OID20243 & P33151 & CDH5 & Cardiometabolic & B04413 & ⋯ & ENSG00000179776 & 16 & 66366622 & 66404784 &  1 & 1:100  & C & no & CDH5\\_P33151\\_OID20243\\_v1\\_Cardiometabolic.tar & syn51469161\\\\\n",
       "\t CTRC & 15764938 & 15775737 & CTRC:Q99895:OID20752:v1 & Chymotrypsin-C                  & OID20752 & Q99895 & CTRC & Inflammation    & B04411 & ⋯ & ENSG00000162438 & 1  & 15438442 & 15449242 &  1 & 1:10   & D & no & CTRC\\_Q99895\\_OID20752\\_v1\\_Inflammation.tar    & syn51471283\\\\\n",
       "\t CTSD &  1773982 &  1785803 & CTSD:P07339:OID20358:v1 & Cathepsin D                     & OID20358 & P07339 & CTSD & Cardiometabolic & B04413 & ⋯ & ENSG00000117984 & 11 &  1752752 &  1764573 & -1 & 1:1000 & D & no & CTSD\\_P07339\\_OID20358\\_v1\\_Cardiometabolic.tar & syn51469587\\\\\n",
       "\\end{tabular}\n"
      ],
      "text/markdown": [
       "\n",
       "A tibble: 6 × 21\n",
       "\n",
       "| HGNC.symbol &lt;chr&gt; | start_hg19 &lt;dbl&gt; | end_hg19 &lt;dbl&gt; | UKBPPP_ProteinID &lt;chr&gt; | olink_target_fullname &lt;chr&gt; | OlinkID &lt;chr&gt; | UniProt &lt;chr&gt; | Assay &lt;chr&gt; | Panel &lt;chr&gt; | Panel_Lot_Nr &lt;chr&gt; | ⋯ ⋯ | ensembl_id &lt;chr&gt; | chr &lt;chr&gt; | gene_start &lt;dbl&gt; | gene_end &lt;dbl&gt; | Strand &lt;dbl&gt; | Dilution_factor &lt;chr&gt; | block &lt;chr&gt; | expansion &lt;chr&gt; | name &lt;chr&gt; | id &lt;chr&gt; |\n",
       "|---|---|---|---|---|---|---|---|---|---|---|---|---|---|---|---|---|---|---|---|---|\n",
       "| AGRP | 67516474 | 67517450 | AGRP:O00253:OID20658:v1 | Agouti-related protein          | OID20658 | O00253 | AGRP | Inflammation    | B04411 | ⋯ | ENSG00000159723 | 16 | 67482571 | 67483547 | -1 | 1:1    | C | no | AGRP_O00253_OID20658_v1_Inflammation.tar    | syn51471023 |\n",
       "| APOM | 31620193 | 31625987 | APOM:O95445:OID20374:v1 | Apolipoprotein M                | OID20374 | O95445 | APOM | Cardiometabolic | B04413 | ⋯ | ENSG00000204444 | 6  | 31652416 | 31658210 |  1 | 1:1000 | D | no | APOM_O95445_OID20374_v1_Cardiometabolic.tar | syn51471413 |\n",
       "| CD4  |  6896024 |  6929965 | CD4:P01730:OID20584:v1  | T-cell surface glycoprotein CD4 | OID20584 | P01730 | CD4  | Inflammation    | B04411 | ⋯ | ENSG00000010610 | 12 |  6786858 |  6820799 |  1 | 1:1    | B | no | CD4_P01730_OID20584_v1_Inflammation.tar     | syn51470975 |\n",
       "| CDH5 | 66400593 | 66438687 | CDH5:P33151:OID20243:v1 | Cadherin-5                      | OID20243 | P33151 | CDH5 | Cardiometabolic | B04413 | ⋯ | ENSG00000179776 | 16 | 66366622 | 66404784 |  1 | 1:100  | C | no | CDH5_P33151_OID20243_v1_Cardiometabolic.tar | syn51469161 |\n",
       "| CTRC | 15764938 | 15775737 | CTRC:Q99895:OID20752:v1 | Chymotrypsin-C                  | OID20752 | Q99895 | CTRC | Inflammation    | B04411 | ⋯ | ENSG00000162438 | 1  | 15438442 | 15449242 |  1 | 1:10   | D | no | CTRC_Q99895_OID20752_v1_Inflammation.tar    | syn51471283 |\n",
       "| CTSD |  1773982 |  1785803 | CTSD:P07339:OID20358:v1 | Cathepsin D                     | OID20358 | P07339 | CTSD | Cardiometabolic | B04413 | ⋯ | ENSG00000117984 | 11 |  1752752 |  1764573 | -1 | 1:1000 | D | no | CTSD_P07339_OID20358_v1_Cardiometabolic.tar | syn51469587 |\n",
       "\n"
      ],
      "text/plain": [
       "  HGNC.symbol start_hg19 end_hg19 UKBPPP_ProteinID       \n",
       "1 AGRP        67516474   67517450 AGRP:O00253:OID20658:v1\n",
       "2 APOM        31620193   31625987 APOM:O95445:OID20374:v1\n",
       "3 CD4          6896024    6929965 CD4:P01730:OID20584:v1 \n",
       "4 CDH5        66400593   66438687 CDH5:P33151:OID20243:v1\n",
       "5 CTRC        15764938   15775737 CTRC:Q99895:OID20752:v1\n",
       "6 CTSD         1773982    1785803 CTSD:P07339:OID20358:v1\n",
       "  olink_target_fullname           OlinkID  UniProt Assay Panel          \n",
       "1 Agouti-related protein          OID20658 O00253  AGRP  Inflammation   \n",
       "2 Apolipoprotein M                OID20374 O95445  APOM  Cardiometabolic\n",
       "3 T-cell surface glycoprotein CD4 OID20584 P01730  CD4   Inflammation   \n",
       "4 Cadherin-5                      OID20243 P33151  CDH5  Cardiometabolic\n",
       "5 Chymotrypsin-C                  OID20752 Q99895  CTRC  Inflammation   \n",
       "6 Cathepsin D                     OID20358 P07339  CTSD  Cardiometabolic\n",
       "  Panel_Lot_Nr ⋯ ensembl_id      chr gene_start gene_end Strand Dilution_factor\n",
       "1 B04411       ⋯ ENSG00000159723 16  67482571   67483547 -1     1:1            \n",
       "2 B04413       ⋯ ENSG00000204444 6   31652416   31658210  1     1:1000         \n",
       "3 B04411       ⋯ ENSG00000010610 12   6786858    6820799  1     1:1            \n",
       "4 B04413       ⋯ ENSG00000179776 16  66366622   66404784  1     1:100          \n",
       "5 B04411       ⋯ ENSG00000162438 1   15438442   15449242  1     1:10           \n",
       "6 B04413       ⋯ ENSG00000117984 11   1752752    1764573 -1     1:1000         \n",
       "  block expansion name                                        id         \n",
       "1 C     no        AGRP_O00253_OID20658_v1_Inflammation.tar    syn51471023\n",
       "2 D     no        APOM_O95445_OID20374_v1_Cardiometabolic.tar syn51471413\n",
       "3 B     no        CD4_P01730_OID20584_v1_Inflammation.tar     syn51470975\n",
       "4 C     no        CDH5_P33151_OID20243_v1_Cardiometabolic.tar syn51469161\n",
       "5 D     no        CTRC_Q99895_OID20752_v1_Inflammation.tar    syn51471283\n",
       "6 D     no        CTSD_P07339_OID20358_v1_Cardiometabolic.tar syn51469587"
      ]
     },
     "metadata": {},
     "output_type": "display_data"
    }
   ],
   "source": [
    "protquery_ukbppp <- edge_tbf |>\n",
    "  filter(atype == \"SMRHEIDI\") |>\n",
    "  select(\n",
    "    HGNC.symbol = node1,\n",
    "    start_hg19 = start, end_hg19 = end\n",
    "  ) |>\n",
    "  unique() |>\n",
    "  inner_join(olinkmap, by = \"HGNC.symbol\") |>\n",
    "  inner_join(olinkfilemap, by = c(\"OlinkID\"))\n",
    "head(protquery_ukbppp)"
   ]
  },
  {
   "cell_type": "code",
   "execution_count": 18,
   "id": "8c8d76ba",
   "metadata": {
    "vscode": {
     "languageId": "r"
    }
   },
   "outputs": [
    {
     "data": {
      "text/html": [
       "<style>\n",
       ".list-inline {list-style: none; margin:0; padding: 0}\n",
       ".list-inline>li {display: inline-block}\n",
       ".list-inline>li:not(:last-child)::after {content: \"\\00b7\"; padding: 0 .5ex}\n",
       "</style>\n",
       "<ol class=list-inline><li>'AGRP'</li><li>'APOM'</li><li>'CD4'</li><li>'CDH5'</li><li>'CTRC'</li><li>'CTSD'</li><li>'FAM3C'</li><li>'FGF21'</li><li>'HMOX1'</li><li>'IGFBP1'</li><li>'IGFBP2'</li><li>'LDLR'</li><li>'LEP'</li><li>'LPL'</li><li>'MATN2'</li><li>'MFGE8'</li><li>'NRP1'</li><li>'PON3'</li><li>'KITLG'</li><li>'TGM2'</li></ol>\n"
      ],
      "text/latex": [
       "\\begin{enumerate*}\n",
       "\\item 'AGRP'\n",
       "\\item 'APOM'\n",
       "\\item 'CD4'\n",
       "\\item 'CDH5'\n",
       "\\item 'CTRC'\n",
       "\\item 'CTSD'\n",
       "\\item 'FAM3C'\n",
       "\\item 'FGF21'\n",
       "\\item 'HMOX1'\n",
       "\\item 'IGFBP1'\n",
       "\\item 'IGFBP2'\n",
       "\\item 'LDLR'\n",
       "\\item 'LEP'\n",
       "\\item 'LPL'\n",
       "\\item 'MATN2'\n",
       "\\item 'MFGE8'\n",
       "\\item 'NRP1'\n",
       "\\item 'PON3'\n",
       "\\item 'KITLG'\n",
       "\\item 'TGM2'\n",
       "\\end{enumerate*}\n"
      ],
      "text/markdown": [
       "1. 'AGRP'\n",
       "2. 'APOM'\n",
       "3. 'CD4'\n",
       "4. 'CDH5'\n",
       "5. 'CTRC'\n",
       "6. 'CTSD'\n",
       "7. 'FAM3C'\n",
       "8. 'FGF21'\n",
       "9. 'HMOX1'\n",
       "10. 'IGFBP1'\n",
       "11. 'IGFBP2'\n",
       "12. 'LDLR'\n",
       "13. 'LEP'\n",
       "14. 'LPL'\n",
       "15. 'MATN2'\n",
       "16. 'MFGE8'\n",
       "17. 'NRP1'\n",
       "18. 'PON3'\n",
       "19. 'KITLG'\n",
       "20. 'TGM2'\n",
       "\n",
       "\n"
      ],
      "text/plain": [
       " [1] \"AGRP\"   \"APOM\"   \"CD4\"    \"CDH5\"   \"CTRC\"   \"CTSD\"   \"FAM3C\"  \"FGF21\" \n",
       " [9] \"HMOX1\"  \"IGFBP1\" \"IGFBP2\" \"LDLR\"   \"LEP\"    \"LPL\"    \"MATN2\"  \"MFGE8\" \n",
       "[17] \"NRP1\"   \"PON3\"   \"KITLG\"  \"TGM2\"  "
      ]
     },
     "metadata": {},
     "output_type": "display_data"
    }
   ],
   "source": [
    "unique(protquery_ukbppp$HGNC.symbol)"
   ]
  },
  {
   "cell_type": "markdown",
   "id": "eca737fe",
   "metadata": {},
   "source": [
    "## Saving query table"
   ]
  },
  {
   "cell_type": "code",
   "execution_count": 19,
   "id": "5880050f-6720-47d0-b4e5-87fa12efd71f",
   "metadata": {
    "vscode": {
     "languageId": "r"
    }
   },
   "outputs": [],
   "source": [
    "write_tsv(\n",
    "  protquery_ukbppp,\n",
    "  file.path(projfold, \"data\", \"protquery_ukbppp.tsv\")\n",
    ")"
   ]
  }
 ],
 "metadata": {
  "kernelspec": {
   "display_name": "R",
   "language": "R",
   "name": "ir"
  },
  "language_info": {
   "codemirror_mode": "r",
   "file_extension": ".r",
   "mimetype": "text/x-r-source",
   "name": "R",
   "pygments_lexer": "r",
   "version": "4.4.3"
  }
 },
 "nbformat": 4,
 "nbformat_minor": 5
}
