{
 "cells": [
  {
   "cell_type": "markdown",
   "id": "3d5b85fc-8baf-40da-a922-b8a2b78f6ecc",
   "metadata": {},
   "source": [
    "# Results from edge testing"
   ]
  },
  {
   "cell_type": "markdown",
   "id": "0b85a14a-a02e-4726-9f2a-6d7d7a506e4c",
   "metadata": {},
   "source": [
    "## Libraries"
   ]
  },
  {
   "cell_type": "code",
   "execution_count": 1,
   "id": "0257157e-6195-4bc2-af94-255a4a7d40ac",
   "metadata": {
    "vscode": {
     "languageId": "r"
    }
   },
   "outputs": [],
   "source": [
    "library(readr)\n",
    "library(dplyr, warn.conflicts = FALSE)\n",
    "library(tidyr)\n",
    "library(purrr)\n",
    "library(ggplot2)"
   ]
  },
  {
   "cell_type": "markdown",
   "id": "091ef75b",
   "metadata": {},
   "source": [
    "## Plot resolution"
   ]
  },
  {
   "cell_type": "code",
   "execution_count": 2,
   "id": "d8398d23-5ee5-4de2-b67c-3a214965b95d",
   "metadata": {
    "vscode": {
     "languageId": "r"
    }
   },
   "outputs": [],
   "source": [
    "options(repr.plot.res = 300)"
   ]
  },
  {
   "cell_type": "markdown",
   "id": "773c4f19",
   "metadata": {},
   "source": [
    "## Working directory"
   ]
  },
  {
   "cell_type": "code",
   "execution_count": 3,
   "id": "cf5ac5aa",
   "metadata": {
    "vscode": {
     "languageId": "r"
    }
   },
   "outputs": [],
   "source": [
    "projfold <- \"/Users/da1078co/Documents/Lund/PhD/Projects/BN\""
   ]
  },
  {
   "cell_type": "markdown",
   "id": "98544f69",
   "metadata": {},
   "source": [
    "## Table of edges tested"
   ]
  },
  {
   "cell_type": "code",
   "execution_count": 4,
   "id": "be6ccb0a-cce2-4e5e-84a9-8c000049c7bc",
   "metadata": {
    "vscode": {
     "languageId": "r"
    }
   },
   "outputs": [
    {
     "data": {
      "text/html": [
       "<table class=\"dataframe\">\n",
       "<caption>A tibble: 6 x 6</caption>\n",
       "<thead>\n",
       "\t<tr><th scope=col>node1</th><th scope=col>node2</th><th scope=col>atype</th><th scope=col>CHROM</th><th scope=col>start</th><th scope=col>end</th></tr>\n",
       "\t<tr><th scope=col>&lt;chr&gt;</th><th scope=col>&lt;chr&gt;</th><th scope=col>&lt;chr&gt;</th><th scope=col>&lt;dbl&gt;</th><th scope=col>&lt;dbl&gt;</th><th scope=col>&lt;dbl&gt;</th></tr>\n",
       "</thead>\n",
       "<tbody>\n",
       "\t<tr><td>AGRP    </td><td>CD4        </td><td>SMRHEIDI</td><td>16</td><td>67516474</td><td>67517450</td></tr>\n",
       "\t<tr><td>AGRP    </td><td>Glucose    </td><td>SMRHEIDI</td><td>16</td><td>67516474</td><td>67517450</td></tr>\n",
       "\t<tr><td>AGRP    </td><td>TG         </td><td>SMRHEIDI</td><td>16</td><td>67516474</td><td>67517450</td></tr>\n",
       "\t<tr><td>APOM    </td><td>HDL        </td><td>SMRHEIDI</td><td> 6</td><td>31620193</td><td>31625987</td></tr>\n",
       "\t<tr><td>APOM    </td><td>TG         </td><td>SMRHEIDI</td><td> 6</td><td>31620193</td><td>31625987</td></tr>\n",
       "\t<tr><td>BasalISR</td><td>GlucoseSens</td><td>IVWMR   </td><td>NA</td><td>      NA</td><td>      NA</td></tr>\n",
       "</tbody>\n",
       "</table>\n"
      ],
      "text/latex": [
       "A tibble: 6 x 6\n",
       "\\begin{tabular}{llllll}\n",
       " node1 & node2 & atype & CHROM & start & end\\\\\n",
       " <chr> & <chr> & <chr> & <dbl> & <dbl> & <dbl>\\\\\n",
       "\\hline\n",
       "\t AGRP     & CD4         & SMRHEIDI & 16 & 67516474 & 67517450\\\\\n",
       "\t AGRP     & Glucose     & SMRHEIDI & 16 & 67516474 & 67517450\\\\\n",
       "\t AGRP     & TG          & SMRHEIDI & 16 & 67516474 & 67517450\\\\\n",
       "\t APOM     & HDL         & SMRHEIDI &  6 & 31620193 & 31625987\\\\\n",
       "\t APOM     & TG          & SMRHEIDI &  6 & 31620193 & 31625987\\\\\n",
       "\t BasalISR & GlucoseSens & IVWMR    & NA &       NA &       NA\\\\\n",
       "\\end{tabular}\n"
      ],
      "text/markdown": [
       "\n",
       "A tibble: 6 x 6\n",
       "\n",
       "| node1 &lt;chr&gt; | node2 &lt;chr&gt; | atype &lt;chr&gt; | CHROM &lt;dbl&gt; | start &lt;dbl&gt; | end &lt;dbl&gt; |\n",
       "|---|---|---|---|---|---|\n",
       "| AGRP     | CD4         | SMRHEIDI | 16 | 67516474 | 67517450 |\n",
       "| AGRP     | Glucose     | SMRHEIDI | 16 | 67516474 | 67517450 |\n",
       "| AGRP     | TG          | SMRHEIDI | 16 | 67516474 | 67517450 |\n",
       "| APOM     | HDL         | SMRHEIDI |  6 | 31620193 | 31625987 |\n",
       "| APOM     | TG          | SMRHEIDI |  6 | 31620193 | 31625987 |\n",
       "| BasalISR | GlucoseSens | IVWMR    | NA |       NA |       NA |\n",
       "\n"
      ],
      "text/plain": [
       "  node1    node2       atype    CHROM start    end     \n",
       "1 AGRP     CD4         SMRHEIDI 16    67516474 67517450\n",
       "2 AGRP     Glucose     SMRHEIDI 16    67516474 67517450\n",
       "3 AGRP     TG          SMRHEIDI 16    67516474 67517450\n",
       "4 APOM     HDL         SMRHEIDI  6    31620193 31625987\n",
       "5 APOM     TG          SMRHEIDI  6    31620193 31625987\n",
       "6 BasalISR GlucoseSens IVWMR    NA          NA       NA"
      ]
     },
     "metadata": {},
     "output_type": "display_data"
    }
   ],
   "source": [
    "edge_table_totest <- read_tsv(\n",
    "  file.path(projfold, \"data\", \"edge_table_totest.tsv\"),\n",
    "  show_col_types = FALSE\n",
    ")\n",
    "head(edge_table_totest)"
   ]
  },
  {
   "cell_type": "markdown",
   "id": "dbe289e1",
   "metadata": {},
   "source": [
    "## Importing results"
   ]
  },
  {
   "cell_type": "code",
   "execution_count": 5,
   "id": "11c6aab1-8d6e-4f74-94e2-5b9d49809a1e",
   "metadata": {
    "vscode": {
     "languageId": "r"
    }
   },
   "outputs": [
    {
     "name": "stdout",
     "output_type": "stream",
     "text": [
      "\u001b[90m# A tibble: 124 x 7\u001b[39m\n",
      "   node1    node2       atype    CHROM    start      end RESOBJ          \n",
      "   \u001b[3m\u001b[90m<chr>\u001b[39m\u001b[23m    \u001b[3m\u001b[90m<chr>\u001b[39m\u001b[23m       \u001b[3m\u001b[90m<chr>\u001b[39m\u001b[23m    \u001b[3m\u001b[90m<dbl>\u001b[39m\u001b[23m    \u001b[3m\u001b[90m<dbl>\u001b[39m\u001b[23m    \u001b[3m\u001b[90m<dbl>\u001b[39m\u001b[23m \u001b[3m\u001b[90m<list>\u001b[39m\u001b[23m          \n",
      "\u001b[90m 1\u001b[39m AGRP     CD4         SMRHEIDI    16 67\u001b[4m5\u001b[24m\u001b[4m1\u001b[24m\u001b[4m6\u001b[24m474 67\u001b[4m5\u001b[24m\u001b[4m1\u001b[24m\u001b[4m7\u001b[24m450 \u001b[90m<named list [3]>\u001b[39m\n",
      "\u001b[90m 2\u001b[39m AGRP     Glucose     SMRHEIDI    16 67\u001b[4m5\u001b[24m\u001b[4m1\u001b[24m\u001b[4m6\u001b[24m474 67\u001b[4m5\u001b[24m\u001b[4m1\u001b[24m\u001b[4m7\u001b[24m450 \u001b[90m<named list [3]>\u001b[39m\n",
      "\u001b[90m 3\u001b[39m AGRP     TG          SMRHEIDI    16 67\u001b[4m5\u001b[24m\u001b[4m1\u001b[24m\u001b[4m6\u001b[24m474 67\u001b[4m5\u001b[24m\u001b[4m1\u001b[24m\u001b[4m7\u001b[24m450 \u001b[90m<named list [3]>\u001b[39m\n",
      "\u001b[90m 4\u001b[39m APOM     HDL         SMRHEIDI     6 31\u001b[4m6\u001b[24m\u001b[4m2\u001b[24m\u001b[4m0\u001b[24m193 31\u001b[4m6\u001b[24m\u001b[4m2\u001b[24m\u001b[4m5\u001b[24m987 \u001b[90m<named list [3]>\u001b[39m\n",
      "\u001b[90m 5\u001b[39m APOM     TG          SMRHEIDI     6 31\u001b[4m6\u001b[24m\u001b[4m2\u001b[24m\u001b[4m0\u001b[24m193 31\u001b[4m6\u001b[24m\u001b[4m2\u001b[24m\u001b[4m5\u001b[24m987 \u001b[90m<named list [3]>\u001b[39m\n",
      "\u001b[90m 6\u001b[39m BasalISR GlucoseSens IVWMR       \u001b[31mNA\u001b[39m       \u001b[31mNA\u001b[39m       \u001b[31mNA\u001b[39m \u001b[90m<named list [3]>\u001b[39m\n",
      "\u001b[90m 7\u001b[39m BasalISR HDL         IVWMR       \u001b[31mNA\u001b[39m       \u001b[31mNA\u001b[39m       \u001b[31mNA\u001b[39m \u001b[90m<named list [3]>\u001b[39m\n",
      "\u001b[90m 8\u001b[39m BasalISR HOMA_IR     IVWMR       \u001b[31mNA\u001b[39m       \u001b[31mNA\u001b[39m       \u001b[31mNA\u001b[39m \u001b[90m<named list [3]>\u001b[39m\n",
      "\u001b[90m 9\u001b[39m BasalISR IGFBP1      IVWMR       \u001b[31mNA\u001b[39m       \u001b[31mNA\u001b[39m       \u001b[31mNA\u001b[39m \u001b[90m<named list [3]>\u001b[39m\n",
      "\u001b[90m10\u001b[39m BasalISR Insulin     IVWMR       \u001b[31mNA\u001b[39m       \u001b[31mNA\u001b[39m       \u001b[31mNA\u001b[39m \u001b[90m<named list [3]>\u001b[39m\n",
      "\u001b[90m# i 114 more rows\u001b[39m\n"
     ]
    }
   ],
   "source": [
    "edge_table_results <- edge_table_totest |>\n",
    "  mutate(\n",
    "    RESOBJ = map2(\n",
    "      node1, node2,\n",
    "      ~read_rds(\n",
    "        file.path(\n",
    "          projfold, \"data\", \"EdgeTests\",\n",
    "          paste0(.x, \"_\", .y, \".rds\")\n",
    "        )\n",
    "      )\n",
    "    )\n",
    "  )\n",
    "print(edge_table_results)"
   ]
  },
  {
   "cell_type": "markdown",
   "id": "eea320ea",
   "metadata": {
    "vscode": {
     "languageId": "r"
    }
   },
   "source": [
    "## IVW-MR results"
   ]
  },
  {
   "cell_type": "code",
   "execution_count": 53,
   "id": "e0894b85",
   "metadata": {
    "vscode": {
     "languageId": "r"
    }
   },
   "outputs": [
    {
     "data": {
      "text/html": [
       "<table class=\"dataframe\">\n",
       "<caption>A tibble: 6 x 17</caption>\n",
       "<thead>\n",
       "\t<tr><th scope=col>node1</th><th scope=col>node2</th><th scope=col>BETA_IVW</th><th scope=col>SE_IVW</th><th scope=col>BETA_Egger</th><th scope=col>SE_Egger</th><th scope=col>B0_Egger</th><th scope=col>B0SE_Egger</th><th scope=col>PVAL_IVW</th><th scope=col>QDF_IVW</th><th scope=col>QSTAT_IVW</th><th scope=col>QPVAL_IVW</th><th scope=col>PVAL_Egger</th><th scope=col>PVAL_B0Egger</th><th scope=col>QSTAT_Egger</th><th scope=col>QPVAL_Egger</th><th scope=col>failure</th></tr>\n",
       "\t<tr><th scope=col>&lt;chr&gt;</th><th scope=col>&lt;chr&gt;</th><th scope=col>&lt;dbl&gt;</th><th scope=col>&lt;dbl&gt;</th><th scope=col>&lt;dbl&gt;</th><th scope=col>&lt;dbl&gt;</th><th scope=col>&lt;dbl&gt;</th><th scope=col>&lt;dbl&gt;</th><th scope=col>&lt;dbl&gt;</th><th scope=col>&lt;dbl&gt;</th><th scope=col>&lt;dbl&gt;</th><th scope=col>&lt;dbl&gt;</th><th scope=col>&lt;dbl&gt;</th><th scope=col>&lt;dbl&gt;</th><th scope=col>&lt;dbl&gt;</th><th scope=col>&lt;dbl&gt;</th><th scope=col>&lt;chr&gt;</th></tr>\n",
       "</thead>\n",
       "<tbody>\n",
       "\t<tr><td>BasalISR</td><td>GlucoseSens</td><td>NA</td><td>NA</td><td>NA</td><td>NA</td><td>NA</td><td>NA</td><td>NA</td><td>NA</td><td>NA</td><td>NA</td><td>NA</td><td>NA</td><td>NA</td><td>NA</td><td>NoValidIns</td></tr>\n",
       "\t<tr><td>BasalISR</td><td>HDL        </td><td>NA</td><td>NA</td><td>NA</td><td>NA</td><td>NA</td><td>NA</td><td>NA</td><td>NA</td><td>NA</td><td>NA</td><td>NA</td><td>NA</td><td>NA</td><td>NA</td><td>NoValidIns</td></tr>\n",
       "\t<tr><td>BasalISR</td><td>HOMA_IR    </td><td>NA</td><td>NA</td><td>NA</td><td>NA</td><td>NA</td><td>NA</td><td>NA</td><td>NA</td><td>NA</td><td>NA</td><td>NA</td><td>NA</td><td>NA</td><td>NA</td><td>NoValidIns</td></tr>\n",
       "\t<tr><td>BasalISR</td><td>IGFBP1     </td><td>NA</td><td>NA</td><td>NA</td><td>NA</td><td>NA</td><td>NA</td><td>NA</td><td>NA</td><td>NA</td><td>NA</td><td>NA</td><td>NA</td><td>NA</td><td>NA</td><td>NoValidIns</td></tr>\n",
       "\t<tr><td>BasalISR</td><td>Insulin    </td><td>NA</td><td>NA</td><td>NA</td><td>NA</td><td>NA</td><td>NA</td><td>NA</td><td>NA</td><td>NA</td><td>NA</td><td>NA</td><td>NA</td><td>NA</td><td>NA</td><td>NoValidIns</td></tr>\n",
       "\t<tr><td>BasalISR</td><td>LEP        </td><td>NA</td><td>NA</td><td>NA</td><td>NA</td><td>NA</td><td>NA</td><td>NA</td><td>NA</td><td>NA</td><td>NA</td><td>NA</td><td>NA</td><td>NA</td><td>NA</td><td>NoValidIns</td></tr>\n",
       "</tbody>\n",
       "</table>\n"
      ],
      "text/latex": [
       "A tibble: 6 x 17\n",
       "\\begin{tabular}{lllllllllllllllll}\n",
       " node1 & node2 & BETA\\_IVW & SE\\_IVW & BETA\\_Egger & SE\\_Egger & B0\\_Egger & B0SE\\_Egger & PVAL\\_IVW & QDF\\_IVW & QSTAT\\_IVW & QPVAL\\_IVW & PVAL\\_Egger & PVAL\\_B0Egger & QSTAT\\_Egger & QPVAL\\_Egger & failure\\\\\n",
       " <chr> & <chr> & <dbl> & <dbl> & <dbl> & <dbl> & <dbl> & <dbl> & <dbl> & <dbl> & <dbl> & <dbl> & <dbl> & <dbl> & <dbl> & <dbl> & <chr>\\\\\n",
       "\\hline\n",
       "\t BasalISR & GlucoseSens & NA & NA & NA & NA & NA & NA & NA & NA & NA & NA & NA & NA & NA & NA & NoValidIns\\\\\n",
       "\t BasalISR & HDL         & NA & NA & NA & NA & NA & NA & NA & NA & NA & NA & NA & NA & NA & NA & NoValidIns\\\\\n",
       "\t BasalISR & HOMA\\_IR     & NA & NA & NA & NA & NA & NA & NA & NA & NA & NA & NA & NA & NA & NA & NoValidIns\\\\\n",
       "\t BasalISR & IGFBP1      & NA & NA & NA & NA & NA & NA & NA & NA & NA & NA & NA & NA & NA & NA & NoValidIns\\\\\n",
       "\t BasalISR & Insulin     & NA & NA & NA & NA & NA & NA & NA & NA & NA & NA & NA & NA & NA & NA & NoValidIns\\\\\n",
       "\t BasalISR & LEP         & NA & NA & NA & NA & NA & NA & NA & NA & NA & NA & NA & NA & NA & NA & NoValidIns\\\\\n",
       "\\end{tabular}\n"
      ],
      "text/markdown": [
       "\n",
       "A tibble: 6 x 17\n",
       "\n",
       "| node1 &lt;chr&gt; | node2 &lt;chr&gt; | BETA_IVW &lt;dbl&gt; | SE_IVW &lt;dbl&gt; | BETA_Egger &lt;dbl&gt; | SE_Egger &lt;dbl&gt; | B0_Egger &lt;dbl&gt; | B0SE_Egger &lt;dbl&gt; | PVAL_IVW &lt;dbl&gt; | QDF_IVW &lt;dbl&gt; | QSTAT_IVW &lt;dbl&gt; | QPVAL_IVW &lt;dbl&gt; | PVAL_Egger &lt;dbl&gt; | PVAL_B0Egger &lt;dbl&gt; | QSTAT_Egger &lt;dbl&gt; | QPVAL_Egger &lt;dbl&gt; | failure &lt;chr&gt; |\n",
       "|---|---|---|---|---|---|---|---|---|---|---|---|---|---|---|---|---|\n",
       "| BasalISR | GlucoseSens | NA | NA | NA | NA | NA | NA | NA | NA | NA | NA | NA | NA | NA | NA | NoValidIns |\n",
       "| BasalISR | HDL         | NA | NA | NA | NA | NA | NA | NA | NA | NA | NA | NA | NA | NA | NA | NoValidIns |\n",
       "| BasalISR | HOMA_IR     | NA | NA | NA | NA | NA | NA | NA | NA | NA | NA | NA | NA | NA | NA | NoValidIns |\n",
       "| BasalISR | IGFBP1      | NA | NA | NA | NA | NA | NA | NA | NA | NA | NA | NA | NA | NA | NA | NoValidIns |\n",
       "| BasalISR | Insulin     | NA | NA | NA | NA | NA | NA | NA | NA | NA | NA | NA | NA | NA | NA | NoValidIns |\n",
       "| BasalISR | LEP         | NA | NA | NA | NA | NA | NA | NA | NA | NA | NA | NA | NA | NA | NA | NoValidIns |\n",
       "\n"
      ],
      "text/plain": [
       "  node1    node2       BETA_IVW SE_IVW BETA_Egger SE_Egger B0_Egger B0SE_Egger\n",
       "1 BasalISR GlucoseSens NA       NA     NA         NA       NA       NA        \n",
       "2 BasalISR HDL         NA       NA     NA         NA       NA       NA        \n",
       "3 BasalISR HOMA_IR     NA       NA     NA         NA       NA       NA        \n",
       "4 BasalISR IGFBP1      NA       NA     NA         NA       NA       NA        \n",
       "5 BasalISR Insulin     NA       NA     NA         NA       NA       NA        \n",
       "6 BasalISR LEP         NA       NA     NA         NA       NA       NA        \n",
       "  PVAL_IVW QDF_IVW QSTAT_IVW QPVAL_IVW PVAL_Egger PVAL_B0Egger QSTAT_Egger\n",
       "1 NA       NA      NA        NA        NA         NA           NA         \n",
       "2 NA       NA      NA        NA        NA         NA           NA         \n",
       "3 NA       NA      NA        NA        NA         NA           NA         \n",
       "4 NA       NA      NA        NA        NA         NA           NA         \n",
       "5 NA       NA      NA        NA        NA         NA           NA         \n",
       "6 NA       NA      NA        NA        NA         NA           NA         \n",
       "  QPVAL_Egger failure   \n",
       "1 NA          NoValidIns\n",
       "2 NA          NoValidIns\n",
       "3 NA          NoValidIns\n",
       "4 NA          NoValidIns\n",
       "5 NA          NoValidIns\n",
       "6 NA          NoValidIns"
      ]
     },
     "metadata": {},
     "output_type": "display_data"
    }
   ],
   "source": [
    "ivwmr_res <- edge_table_results |>\n",
    "  filter(atype == \"IVWMR\") |>\n",
    "  transmute(\n",
    "    node1, node2,\n",
    "    resdf = map(RESOBJ, \"resdf\"),\n",
    "    failure = map_chr(RESOBJ, \"failure\")\n",
    "  ) |>\n",
    "  unnest(resdf, keep_empty = TRUE)\n",
    "head(ivwmr_res)"
   ]
  },
  {
   "cell_type": "markdown",
   "id": "ec5413d2",
   "metadata": {},
   "source": [
    "### Top hits"
   ]
  },
  {
   "cell_type": "code",
   "execution_count": 55,
   "id": "a8da4263",
   "metadata": {
    "vscode": {
     "languageId": "r"
    }
   },
   "outputs": [
    {
     "data": {
      "text/html": [
       "<table class=\"dataframe\">\n",
       "<caption>A tibble: 19 x 17</caption>\n",
       "<thead>\n",
       "\t<tr><th scope=col>node1</th><th scope=col>node2</th><th scope=col>BETA_IVW</th><th scope=col>SE_IVW</th><th scope=col>BETA_Egger</th><th scope=col>SE_Egger</th><th scope=col>B0_Egger</th><th scope=col>B0SE_Egger</th><th scope=col>PVAL_IVW</th><th scope=col>QDF_IVW</th><th scope=col>QSTAT_IVW</th><th scope=col>QPVAL_IVW</th><th scope=col>PVAL_Egger</th><th scope=col>PVAL_B0Egger</th><th scope=col>QSTAT_Egger</th><th scope=col>QPVAL_Egger</th><th scope=col>failure</th></tr>\n",
       "\t<tr><th scope=col>&lt;chr&gt;</th><th scope=col>&lt;chr&gt;</th><th scope=col>&lt;dbl&gt;</th><th scope=col>&lt;dbl&gt;</th><th scope=col>&lt;dbl&gt;</th><th scope=col>&lt;dbl&gt;</th><th scope=col>&lt;dbl&gt;</th><th scope=col>&lt;dbl&gt;</th><th scope=col>&lt;dbl&gt;</th><th scope=col>&lt;dbl&gt;</th><th scope=col>&lt;dbl&gt;</th><th scope=col>&lt;dbl&gt;</th><th scope=col>&lt;dbl&gt;</th><th scope=col>&lt;dbl&gt;</th><th scope=col>&lt;dbl&gt;</th><th scope=col>&lt;dbl&gt;</th><th scope=col>&lt;chr&gt;</th></tr>\n",
       "</thead>\n",
       "<tbody>\n",
       "\t<tr><td>GlucoseSens</td><td>TwoGlucose </td><td>-0.3778016</td><td>0.08658913</td><td>-0.09772932</td><td>0.34798705</td><td>-2.343968e-02</td><td>0.0281959101</td><td> 1.282011e-05</td><td>  25</td><td>  349.57680</td><td> 5.921153e-59</td><td> 7.788317e-01</td><td>0.40579576</td><td>  339.79241</td><td> 1.495420e-57</td><td>None</td></tr>\n",
       "\t<tr><td>GlucoseSens</td><td>TwoInsulin </td><td>-0.1136843</td><td>0.03903676</td><td> 0.13156737</td><td>0.14757355</td><td>-2.110891e-02</td><td>0.0122826222</td><td> 3.588506e-03</td><td>  25</td><td>   74.49777</td><td> 8.094330e-07</td><td> 3.726408e-01</td><td>0.08568731</td><td>   66.33427</td><td> 7.740310e-06</td><td>None</td></tr>\n",
       "\t<tr><td>HDL        </td><td>HMOX1      </td><td> 0.2596590</td><td>0.01821216</td><td> 0.27943164</td><td>0.02778461</td><td>-5.057991e-04</td><td>0.0005367581</td><td> 4.029232e-46</td><td>1905</td><td> 4377.64878</td><td>1.781124e-195</td><td> 8.551002e-24</td><td>0.34602775</td><td> 4375.60812</td><td>2.091128e-195</td><td>None</td></tr>\n",
       "\t<tr><td>HDL        </td><td>KITLG      </td><td> 0.4279042</td><td>0.02262080</td><td> 0.44308321</td><td>0.03346147</td><td>-4.093801e-04</td><td>0.0006649114</td><td> 8.357105e-80</td><td>1916</td><td> 7179.14960</td><td> 0.000000e+00</td><td> 5.046668e-40</td><td>0.53809834</td><td> 7177.72876</td><td> 0.000000e+00</td><td>None</td></tr>\n",
       "\t<tr><td>HDL        </td><td>TG         </td><td>-0.4668793</td><td>0.01413778</td><td>-0.42494337</td><td>0.02198839</td><td>-1.021248e-03</td><td>0.0004105072</td><td>3.733666e-239</td><td>1915</td><td>81968.38027</td><td> 0.000000e+00</td><td> 3.258778e-83</td><td>0.01285467</td><td>81704.18627</td><td> 0.000000e+00</td><td>None</td></tr>\n",
       "\t<tr><td>HbA1c      </td><td>HMOX1      </td><td>-0.7562603</td><td>0.10530194</td><td>-0.79411882</td><td>0.20172554</td><td> 7.012788e-04</td><td>0.0031827088</td><td> 6.878620e-13</td><td> 128</td><td>  525.11552</td><td> 1.603325e-49</td><td> 8.263387e-05</td><td>0.82560619</td><td>  524.91485</td><td> 8.474495e-50</td><td>None</td></tr>\n",
       "\t<tr><td>PancFat    </td><td>VAT        </td><td> 0.1355421</td><td>0.04774186</td><td> 0.52606486</td><td>0.26878888</td><td>-2.535291e-02</td><td>0.0172017553</td><td> 4.524621e-03</td><td>  10</td><td>   20.11747</td><td> 2.816096e-02</td><td> 5.032777e-02</td><td>0.14052034</td><td>   16.20598</td><td> 6.270286e-02</td><td>None</td></tr>\n",
       "\t<tr><td>TG         </td><td>AGRP       </td><td> 0.6004209</td><td>0.01504190</td><td> 0.60295572</td><td>0.02276487</td><td>-6.591698e-05</td><td>0.0004442515</td><td> 0.000000e+00</td><td>1699</td><td> 2379.26517</td><td> 1.123701e-25</td><td>1.396609e-154</td><td>0.88204476</td><td> 2379.23432</td><td> 9.520201e-26</td><td>None</td></tr>\n",
       "\t<tr><td>HDL        </td><td>APOM       </td><td> 0.4649855</td><td>0.01821590</td><td> 0.44969577</td><td>0.02792748</td><td> 3.879255e-04</td><td>0.0005370429</td><td>1.005484e-143</td><td>1912</td><td> 4449.09493</td><td>5.120696e-203</td><td> 2.459327e-58</td><td>0.47008780</td><td> 4447.88051</td><td>4.744904e-203</td><td>None</td></tr>\n",
       "\t<tr><td>GlucoseSens</td><td>BasalISR   </td><td> 0.9742457</td><td>0.16002504</td><td> 1.11687253</td><td>0.62836384</td><td>-1.174085e-02</td><td>0.0499524165</td><td> 1.142705e-09</td><td>  25</td><td>   43.72974</td><td> 1.162502e-02</td><td> 7.549757e-02</td><td>0.81417714</td><td>   43.62931</td><td> 8.422837e-03</td><td>None</td></tr>\n",
       "\t<tr><td>PancFat    </td><td>CTRC       </td><td>-0.7160373</td><td>0.14098043</td><td>-0.67140424</td><td>0.88353736</td><td>-2.895632e-03</td><td>0.0565043482</td><td> 3.794595e-07</td><td>  10</td><td>  157.17945</td><td> 1.237516e-28</td><td> 4.473115e-01</td><td>0.95912935</td><td>  157.13360</td><td> 2.924783e-29</td><td>None</td></tr>\n",
       "\t<tr><td>LiverFat   </td><td>CTSD       </td><td> 0.2692243</td><td>0.04130609</td><td> 0.27239882</td><td>0.06635752</td><td>-5.281835e-04</td><td>0.0084441860</td><td> 7.135212e-11</td><td>  15</td><td>   64.81993</td><td> 3.674373e-08</td><td> 4.042834e-05</td><td>0.95012488</td><td>   64.80182</td><td> 1.659546e-08</td><td>None</td></tr>\n",
       "\t<tr><td>TwoGlucose </td><td>GlucoseSens</td><td>-0.5563140</td><td>0.14903493</td><td>-0.43584577</td><td>0.45467483</td><td>-8.970865e-03</td><td>0.0318517474</td><td> 1.893813e-04</td><td>  14</td><td>  194.42092</td><td> 7.556849e-34</td><td> 3.377664e-01</td><td>0.77821622</td><td>  193.24180</td><td> 3.325983e-34</td><td>None</td></tr>\n",
       "\t<tr><td>LiverFat   </td><td>HMOX1      </td><td> 0.1976352</td><td>0.02350933</td><td> 0.22013157</td><td>0.03694777</td><td>-3.744107e-03</td><td>0.0047033196</td><td> 4.218105e-17</td><td>  15</td><td>   20.16697</td><td> 1.656206e-01</td><td> 2.554798e-09</td><td>0.42599937</td><td>   19.29365</td><td> 1.540293e-01</td><td>None</td></tr>\n",
       "\t<tr><td>Insulin    </td><td>HOMA_IR    </td><td> 0.6957928</td><td>0.04819041</td><td> 0.58731016</td><td>0.16450644</td><td> 1.812496e-03</td><td>0.0026263535</td><td> 2.966123e-47</td><td>  41</td><td>   42.27891</td><td> 4.155440e-01</td><td> 3.567977e-04</td><td>0.49011955</td><td>   41.78143</td><td> 3.933340e-01</td><td>None</td></tr>\n",
       "\t<tr><td>TG         </td><td>LDLR       </td><td> 0.9400680</td><td>0.01774751</td><td> 0.91677511</td><td>0.02669253</td><td> 6.127544e-04</td><td>0.0005245395</td><td> 0.000000e+00</td><td>1696</td><td> 3412.68501</td><td>7.403760e-118</td><td>1.629509e-258</td><td>0.24273580</td><td> 3409.93969</td><td>1.041832e-117</td><td>None</td></tr>\n",
       "\t<tr><td>TG         </td><td>MFGE8      </td><td> 0.7124285</td><td>0.01708620</td><td> 0.72062832</td><td>0.02601588</td><td>-2.126388e-04</td><td>0.0005086549</td><td> 0.000000e+00</td><td>1686</td><td> 3097.88861</td><td> 2.256780e-86</td><td>7.069407e-169</td><td>0.67591680</td><td> 3097.56734</td><td> 1.789779e-86</td><td>None</td></tr>\n",
       "\t<tr><td>TG         </td><td>NRP1       </td><td>-0.3380391</td><td>0.02125276</td><td>-0.31032100</td><td>0.03285919</td><td>-6.984877e-04</td><td>0.0006315553</td><td> 5.789567e-57</td><td>1687</td><td> 4642.68178</td><td>8.388556e-274</td><td> 3.589384e-21</td><td>0.26873508</td><td> 4639.31596</td><td>1.476988e-273</td><td>None</td></tr>\n",
       "\t<tr><td>VAT        </td><td>PancFat    </td><td> 0.7475773</td><td>0.17083593</td><td> 0.55095838</td><td>1.35613565</td><td> 8.843886e-03</td><td>0.0603939694</td><td> 1.208792e-05</td><td>   5</td><td>   19.44488</td><td> 1.587738e-03</td><td> 6.845436e-01</td><td>0.88357676</td><td>   19.34119</td><td> 6.734456e-04</td><td>None</td></tr>\n",
       "</tbody>\n",
       "</table>\n"
      ],
      "text/latex": [
       "A tibble: 19 x 17\n",
       "\\begin{tabular}{lllllllllllllllll}\n",
       " node1 & node2 & BETA\\_IVW & SE\\_IVW & BETA\\_Egger & SE\\_Egger & B0\\_Egger & B0SE\\_Egger & PVAL\\_IVW & QDF\\_IVW & QSTAT\\_IVW & QPVAL\\_IVW & PVAL\\_Egger & PVAL\\_B0Egger & QSTAT\\_Egger & QPVAL\\_Egger & failure\\\\\n",
       " <chr> & <chr> & <dbl> & <dbl> & <dbl> & <dbl> & <dbl> & <dbl> & <dbl> & <dbl> & <dbl> & <dbl> & <dbl> & <dbl> & <dbl> & <dbl> & <chr>\\\\\n",
       "\\hline\n",
       "\t GlucoseSens & TwoGlucose  & -0.3778016 & 0.08658913 & -0.09772932 & 0.34798705 & -2.343968e-02 & 0.0281959101 &  1.282011e-05 &   25 &   349.57680 &  5.921153e-59 &  7.788317e-01 & 0.40579576 &   339.79241 &  1.495420e-57 & None\\\\\n",
       "\t GlucoseSens & TwoInsulin  & -0.1136843 & 0.03903676 &  0.13156737 & 0.14757355 & -2.110891e-02 & 0.0122826222 &  3.588506e-03 &   25 &    74.49777 &  8.094330e-07 &  3.726408e-01 & 0.08568731 &    66.33427 &  7.740310e-06 & None\\\\\n",
       "\t HDL         & HMOX1       &  0.2596590 & 0.01821216 &  0.27943164 & 0.02778461 & -5.057991e-04 & 0.0005367581 &  4.029232e-46 & 1905 &  4377.64878 & 1.781124e-195 &  8.551002e-24 & 0.34602775 &  4375.60812 & 2.091128e-195 & None\\\\\n",
       "\t HDL         & KITLG       &  0.4279042 & 0.02262080 &  0.44308321 & 0.03346147 & -4.093801e-04 & 0.0006649114 &  8.357105e-80 & 1916 &  7179.14960 &  0.000000e+00 &  5.046668e-40 & 0.53809834 &  7177.72876 &  0.000000e+00 & None\\\\\n",
       "\t HDL         & TG          & -0.4668793 & 0.01413778 & -0.42494337 & 0.02198839 & -1.021248e-03 & 0.0004105072 & 3.733666e-239 & 1915 & 81968.38027 &  0.000000e+00 &  3.258778e-83 & 0.01285467 & 81704.18627 &  0.000000e+00 & None\\\\\n",
       "\t HbA1c       & HMOX1       & -0.7562603 & 0.10530194 & -0.79411882 & 0.20172554 &  7.012788e-04 & 0.0031827088 &  6.878620e-13 &  128 &   525.11552 &  1.603325e-49 &  8.263387e-05 & 0.82560619 &   524.91485 &  8.474495e-50 & None\\\\\n",
       "\t PancFat     & VAT         &  0.1355421 & 0.04774186 &  0.52606486 & 0.26878888 & -2.535291e-02 & 0.0172017553 &  4.524621e-03 &   10 &    20.11747 &  2.816096e-02 &  5.032777e-02 & 0.14052034 &    16.20598 &  6.270286e-02 & None\\\\\n",
       "\t TG          & AGRP        &  0.6004209 & 0.01504190 &  0.60295572 & 0.02276487 & -6.591698e-05 & 0.0004442515 &  0.000000e+00 & 1699 &  2379.26517 &  1.123701e-25 & 1.396609e-154 & 0.88204476 &  2379.23432 &  9.520201e-26 & None\\\\\n",
       "\t HDL         & APOM        &  0.4649855 & 0.01821590 &  0.44969577 & 0.02792748 &  3.879255e-04 & 0.0005370429 & 1.005484e-143 & 1912 &  4449.09493 & 5.120696e-203 &  2.459327e-58 & 0.47008780 &  4447.88051 & 4.744904e-203 & None\\\\\n",
       "\t GlucoseSens & BasalISR    &  0.9742457 & 0.16002504 &  1.11687253 & 0.62836384 & -1.174085e-02 & 0.0499524165 &  1.142705e-09 &   25 &    43.72974 &  1.162502e-02 &  7.549757e-02 & 0.81417714 &    43.62931 &  8.422837e-03 & None\\\\\n",
       "\t PancFat     & CTRC        & -0.7160373 & 0.14098043 & -0.67140424 & 0.88353736 & -2.895632e-03 & 0.0565043482 &  3.794595e-07 &   10 &   157.17945 &  1.237516e-28 &  4.473115e-01 & 0.95912935 &   157.13360 &  2.924783e-29 & None\\\\\n",
       "\t LiverFat    & CTSD        &  0.2692243 & 0.04130609 &  0.27239882 & 0.06635752 & -5.281835e-04 & 0.0084441860 &  7.135212e-11 &   15 &    64.81993 &  3.674373e-08 &  4.042834e-05 & 0.95012488 &    64.80182 &  1.659546e-08 & None\\\\\n",
       "\t TwoGlucose  & GlucoseSens & -0.5563140 & 0.14903493 & -0.43584577 & 0.45467483 & -8.970865e-03 & 0.0318517474 &  1.893813e-04 &   14 &   194.42092 &  7.556849e-34 &  3.377664e-01 & 0.77821622 &   193.24180 &  3.325983e-34 & None\\\\\n",
       "\t LiverFat    & HMOX1       &  0.1976352 & 0.02350933 &  0.22013157 & 0.03694777 & -3.744107e-03 & 0.0047033196 &  4.218105e-17 &   15 &    20.16697 &  1.656206e-01 &  2.554798e-09 & 0.42599937 &    19.29365 &  1.540293e-01 & None\\\\\n",
       "\t Insulin     & HOMA\\_IR     &  0.6957928 & 0.04819041 &  0.58731016 & 0.16450644 &  1.812496e-03 & 0.0026263535 &  2.966123e-47 &   41 &    42.27891 &  4.155440e-01 &  3.567977e-04 & 0.49011955 &    41.78143 &  3.933340e-01 & None\\\\\n",
       "\t TG          & LDLR        &  0.9400680 & 0.01774751 &  0.91677511 & 0.02669253 &  6.127544e-04 & 0.0005245395 &  0.000000e+00 & 1696 &  3412.68501 & 7.403760e-118 & 1.629509e-258 & 0.24273580 &  3409.93969 & 1.041832e-117 & None\\\\\n",
       "\t TG          & MFGE8       &  0.7124285 & 0.01708620 &  0.72062832 & 0.02601588 & -2.126388e-04 & 0.0005086549 &  0.000000e+00 & 1686 &  3097.88861 &  2.256780e-86 & 7.069407e-169 & 0.67591680 &  3097.56734 &  1.789779e-86 & None\\\\\n",
       "\t TG          & NRP1        & -0.3380391 & 0.02125276 & -0.31032100 & 0.03285919 & -6.984877e-04 & 0.0006315553 &  5.789567e-57 & 1687 &  4642.68178 & 8.388556e-274 &  3.589384e-21 & 0.26873508 &  4639.31596 & 1.476988e-273 & None\\\\\n",
       "\t VAT         & PancFat     &  0.7475773 & 0.17083593 &  0.55095838 & 1.35613565 &  8.843886e-03 & 0.0603939694 &  1.208792e-05 &    5 &    19.44488 &  1.587738e-03 &  6.845436e-01 & 0.88357676 &    19.34119 &  6.734456e-04 & None\\\\\n",
       "\\end{tabular}\n"
      ],
      "text/markdown": [
       "\n",
       "A tibble: 19 x 17\n",
       "\n",
       "| node1 &lt;chr&gt; | node2 &lt;chr&gt; | BETA_IVW &lt;dbl&gt; | SE_IVW &lt;dbl&gt; | BETA_Egger &lt;dbl&gt; | SE_Egger &lt;dbl&gt; | B0_Egger &lt;dbl&gt; | B0SE_Egger &lt;dbl&gt; | PVAL_IVW &lt;dbl&gt; | QDF_IVW &lt;dbl&gt; | QSTAT_IVW &lt;dbl&gt; | QPVAL_IVW &lt;dbl&gt; | PVAL_Egger &lt;dbl&gt; | PVAL_B0Egger &lt;dbl&gt; | QSTAT_Egger &lt;dbl&gt; | QPVAL_Egger &lt;dbl&gt; | failure &lt;chr&gt; |\n",
       "|---|---|---|---|---|---|---|---|---|---|---|---|---|---|---|---|---|\n",
       "| GlucoseSens | TwoGlucose  | -0.3778016 | 0.08658913 | -0.09772932 | 0.34798705 | -2.343968e-02 | 0.0281959101 |  1.282011e-05 |   25 |   349.57680 |  5.921153e-59 |  7.788317e-01 | 0.40579576 |   339.79241 |  1.495420e-57 | None |\n",
       "| GlucoseSens | TwoInsulin  | -0.1136843 | 0.03903676 |  0.13156737 | 0.14757355 | -2.110891e-02 | 0.0122826222 |  3.588506e-03 |   25 |    74.49777 |  8.094330e-07 |  3.726408e-01 | 0.08568731 |    66.33427 |  7.740310e-06 | None |\n",
       "| HDL         | HMOX1       |  0.2596590 | 0.01821216 |  0.27943164 | 0.02778461 | -5.057991e-04 | 0.0005367581 |  4.029232e-46 | 1905 |  4377.64878 | 1.781124e-195 |  8.551002e-24 | 0.34602775 |  4375.60812 | 2.091128e-195 | None |\n",
       "| HDL         | KITLG       |  0.4279042 | 0.02262080 |  0.44308321 | 0.03346147 | -4.093801e-04 | 0.0006649114 |  8.357105e-80 | 1916 |  7179.14960 |  0.000000e+00 |  5.046668e-40 | 0.53809834 |  7177.72876 |  0.000000e+00 | None |\n",
       "| HDL         | TG          | -0.4668793 | 0.01413778 | -0.42494337 | 0.02198839 | -1.021248e-03 | 0.0004105072 | 3.733666e-239 | 1915 | 81968.38027 |  0.000000e+00 |  3.258778e-83 | 0.01285467 | 81704.18627 |  0.000000e+00 | None |\n",
       "| HbA1c       | HMOX1       | -0.7562603 | 0.10530194 | -0.79411882 | 0.20172554 |  7.012788e-04 | 0.0031827088 |  6.878620e-13 |  128 |   525.11552 |  1.603325e-49 |  8.263387e-05 | 0.82560619 |   524.91485 |  8.474495e-50 | None |\n",
       "| PancFat     | VAT         |  0.1355421 | 0.04774186 |  0.52606486 | 0.26878888 | -2.535291e-02 | 0.0172017553 |  4.524621e-03 |   10 |    20.11747 |  2.816096e-02 |  5.032777e-02 | 0.14052034 |    16.20598 |  6.270286e-02 | None |\n",
       "| TG          | AGRP        |  0.6004209 | 0.01504190 |  0.60295572 | 0.02276487 | -6.591698e-05 | 0.0004442515 |  0.000000e+00 | 1699 |  2379.26517 |  1.123701e-25 | 1.396609e-154 | 0.88204476 |  2379.23432 |  9.520201e-26 | None |\n",
       "| HDL         | APOM        |  0.4649855 | 0.01821590 |  0.44969577 | 0.02792748 |  3.879255e-04 | 0.0005370429 | 1.005484e-143 | 1912 |  4449.09493 | 5.120696e-203 |  2.459327e-58 | 0.47008780 |  4447.88051 | 4.744904e-203 | None |\n",
       "| GlucoseSens | BasalISR    |  0.9742457 | 0.16002504 |  1.11687253 | 0.62836384 | -1.174085e-02 | 0.0499524165 |  1.142705e-09 |   25 |    43.72974 |  1.162502e-02 |  7.549757e-02 | 0.81417714 |    43.62931 |  8.422837e-03 | None |\n",
       "| PancFat     | CTRC        | -0.7160373 | 0.14098043 | -0.67140424 | 0.88353736 | -2.895632e-03 | 0.0565043482 |  3.794595e-07 |   10 |   157.17945 |  1.237516e-28 |  4.473115e-01 | 0.95912935 |   157.13360 |  2.924783e-29 | None |\n",
       "| LiverFat    | CTSD        |  0.2692243 | 0.04130609 |  0.27239882 | 0.06635752 | -5.281835e-04 | 0.0084441860 |  7.135212e-11 |   15 |    64.81993 |  3.674373e-08 |  4.042834e-05 | 0.95012488 |    64.80182 |  1.659546e-08 | None |\n",
       "| TwoGlucose  | GlucoseSens | -0.5563140 | 0.14903493 | -0.43584577 | 0.45467483 | -8.970865e-03 | 0.0318517474 |  1.893813e-04 |   14 |   194.42092 |  7.556849e-34 |  3.377664e-01 | 0.77821622 |   193.24180 |  3.325983e-34 | None |\n",
       "| LiverFat    | HMOX1       |  0.1976352 | 0.02350933 |  0.22013157 | 0.03694777 | -3.744107e-03 | 0.0047033196 |  4.218105e-17 |   15 |    20.16697 |  1.656206e-01 |  2.554798e-09 | 0.42599937 |    19.29365 |  1.540293e-01 | None |\n",
       "| Insulin     | HOMA_IR     |  0.6957928 | 0.04819041 |  0.58731016 | 0.16450644 |  1.812496e-03 | 0.0026263535 |  2.966123e-47 |   41 |    42.27891 |  4.155440e-01 |  3.567977e-04 | 0.49011955 |    41.78143 |  3.933340e-01 | None |\n",
       "| TG          | LDLR        |  0.9400680 | 0.01774751 |  0.91677511 | 0.02669253 |  6.127544e-04 | 0.0005245395 |  0.000000e+00 | 1696 |  3412.68501 | 7.403760e-118 | 1.629509e-258 | 0.24273580 |  3409.93969 | 1.041832e-117 | None |\n",
       "| TG          | MFGE8       |  0.7124285 | 0.01708620 |  0.72062832 | 0.02601588 | -2.126388e-04 | 0.0005086549 |  0.000000e+00 | 1686 |  3097.88861 |  2.256780e-86 | 7.069407e-169 | 0.67591680 |  3097.56734 |  1.789779e-86 | None |\n",
       "| TG          | NRP1        | -0.3380391 | 0.02125276 | -0.31032100 | 0.03285919 | -6.984877e-04 | 0.0006315553 |  5.789567e-57 | 1687 |  4642.68178 | 8.388556e-274 |  3.589384e-21 | 0.26873508 |  4639.31596 | 1.476988e-273 | None |\n",
       "| VAT         | PancFat     |  0.7475773 | 0.17083593 |  0.55095838 | 1.35613565 |  8.843886e-03 | 0.0603939694 |  1.208792e-05 |    5 |    19.44488 |  1.587738e-03 |  6.845436e-01 | 0.88357676 |    19.34119 |  6.734456e-04 | None |\n",
       "\n"
      ],
      "text/plain": [
       "   node1       node2       BETA_IVW   SE_IVW     BETA_Egger  SE_Egger  \n",
       "1  GlucoseSens TwoGlucose  -0.3778016 0.08658913 -0.09772932 0.34798705\n",
       "2  GlucoseSens TwoInsulin  -0.1136843 0.03903676  0.13156737 0.14757355\n",
       "3  HDL         HMOX1        0.2596590 0.01821216  0.27943164 0.02778461\n",
       "4  HDL         KITLG        0.4279042 0.02262080  0.44308321 0.03346147\n",
       "5  HDL         TG          -0.4668793 0.01413778 -0.42494337 0.02198839\n",
       "6  HbA1c       HMOX1       -0.7562603 0.10530194 -0.79411882 0.20172554\n",
       "7  PancFat     VAT          0.1355421 0.04774186  0.52606486 0.26878888\n",
       "8  TG          AGRP         0.6004209 0.01504190  0.60295572 0.02276487\n",
       "9  HDL         APOM         0.4649855 0.01821590  0.44969577 0.02792748\n",
       "10 GlucoseSens BasalISR     0.9742457 0.16002504  1.11687253 0.62836384\n",
       "11 PancFat     CTRC        -0.7160373 0.14098043 -0.67140424 0.88353736\n",
       "12 LiverFat    CTSD         0.2692243 0.04130609  0.27239882 0.06635752\n",
       "13 TwoGlucose  GlucoseSens -0.5563140 0.14903493 -0.43584577 0.45467483\n",
       "14 LiverFat    HMOX1        0.1976352 0.02350933  0.22013157 0.03694777\n",
       "15 Insulin     HOMA_IR      0.6957928 0.04819041  0.58731016 0.16450644\n",
       "16 TG          LDLR         0.9400680 0.01774751  0.91677511 0.02669253\n",
       "17 TG          MFGE8        0.7124285 0.01708620  0.72062832 0.02601588\n",
       "18 TG          NRP1        -0.3380391 0.02125276 -0.31032100 0.03285919\n",
       "19 VAT         PancFat      0.7475773 0.17083593  0.55095838 1.35613565\n",
       "   B0_Egger      B0SE_Egger   PVAL_IVW      QDF_IVW QSTAT_IVW   QPVAL_IVW    \n",
       "1  -2.343968e-02 0.0281959101  1.282011e-05   25      349.57680  5.921153e-59\n",
       "2  -2.110891e-02 0.0122826222  3.588506e-03   25       74.49777  8.094330e-07\n",
       "3  -5.057991e-04 0.0005367581  4.029232e-46 1905     4377.64878 1.781124e-195\n",
       "4  -4.093801e-04 0.0006649114  8.357105e-80 1916     7179.14960  0.000000e+00\n",
       "5  -1.021248e-03 0.0004105072 3.733666e-239 1915    81968.38027  0.000000e+00\n",
       "6   7.012788e-04 0.0031827088  6.878620e-13  128      525.11552  1.603325e-49\n",
       "7  -2.535291e-02 0.0172017553  4.524621e-03   10       20.11747  2.816096e-02\n",
       "8  -6.591698e-05 0.0004442515  0.000000e+00 1699     2379.26517  1.123701e-25\n",
       "9   3.879255e-04 0.0005370429 1.005484e-143 1912     4449.09493 5.120696e-203\n",
       "10 -1.174085e-02 0.0499524165  1.142705e-09   25       43.72974  1.162502e-02\n",
       "11 -2.895632e-03 0.0565043482  3.794595e-07   10      157.17945  1.237516e-28\n",
       "12 -5.281835e-04 0.0084441860  7.135212e-11   15       64.81993  3.674373e-08\n",
       "13 -8.970865e-03 0.0318517474  1.893813e-04   14      194.42092  7.556849e-34\n",
       "14 -3.744107e-03 0.0047033196  4.218105e-17   15       20.16697  1.656206e-01\n",
       "15  1.812496e-03 0.0026263535  2.966123e-47   41       42.27891  4.155440e-01\n",
       "16  6.127544e-04 0.0005245395  0.000000e+00 1696     3412.68501 7.403760e-118\n",
       "17 -2.126388e-04 0.0005086549  0.000000e+00 1686     3097.88861  2.256780e-86\n",
       "18 -6.984877e-04 0.0006315553  5.789567e-57 1687     4642.68178 8.388556e-274\n",
       "19  8.843886e-03 0.0603939694  1.208792e-05    5       19.44488  1.587738e-03\n",
       "   PVAL_Egger    PVAL_B0Egger QSTAT_Egger QPVAL_Egger   failure\n",
       "1   7.788317e-01 0.40579576     339.79241  1.495420e-57 None   \n",
       "2   3.726408e-01 0.08568731      66.33427  7.740310e-06 None   \n",
       "3   8.551002e-24 0.34602775    4375.60812 2.091128e-195 None   \n",
       "4   5.046668e-40 0.53809834    7177.72876  0.000000e+00 None   \n",
       "5   3.258778e-83 0.01285467   81704.18627  0.000000e+00 None   \n",
       "6   8.263387e-05 0.82560619     524.91485  8.474495e-50 None   \n",
       "7   5.032777e-02 0.14052034      16.20598  6.270286e-02 None   \n",
       "8  1.396609e-154 0.88204476    2379.23432  9.520201e-26 None   \n",
       "9   2.459327e-58 0.47008780    4447.88051 4.744904e-203 None   \n",
       "10  7.549757e-02 0.81417714      43.62931  8.422837e-03 None   \n",
       "11  4.473115e-01 0.95912935     157.13360  2.924783e-29 None   \n",
       "12  4.042834e-05 0.95012488      64.80182  1.659546e-08 None   \n",
       "13  3.377664e-01 0.77821622     193.24180  3.325983e-34 None   \n",
       "14  2.554798e-09 0.42599937      19.29365  1.540293e-01 None   \n",
       "15  3.567977e-04 0.49011955      41.78143  3.933340e-01 None   \n",
       "16 1.629509e-258 0.24273580    3409.93969 1.041832e-117 None   \n",
       "17 7.069407e-169 0.67591680    3097.56734  1.789779e-86 None   \n",
       "18  3.589384e-21 0.26873508    4639.31596 1.476988e-273 None   \n",
       "19  6.845436e-01 0.88357676      19.34119  6.734456e-04 None   "
      ]
     },
     "metadata": {},
     "output_type": "display_data"
    }
   ],
   "source": [
    "ivwmr_res |>\n",
    "  filter(PVAL_IVW < 0.01, PVAL_B0Egger > 0.01)"
   ]
  },
  {
   "cell_type": "markdown",
   "id": "691e003b",
   "metadata": {},
   "source": [
    "### Saving"
   ]
  },
  {
   "cell_type": "code",
   "execution_count": 56,
   "id": "2f37f8af",
   "metadata": {
    "vscode": {
     "languageId": "r"
    }
   },
   "outputs": [],
   "source": [
    "write_tsv(\n",
    "  ivwmr_res,\n",
    "  file.path(projfold, \"data\", \"ivwmr_res.tsv\")\n",
    ")"
   ]
  },
  {
   "cell_type": "markdown",
   "id": "ec37d316",
   "metadata": {},
   "source": [
    "## SMR-HEIDI results"
   ]
  },
  {
   "cell_type": "code",
   "execution_count": 8,
   "id": "6b476f78",
   "metadata": {
    "vscode": {
     "languageId": "r"
    }
   },
   "outputs": [
    {
     "data": {
      "text/html": [
       "<table class=\"dataframe\">\n",
       "<caption>A tibble: 6 x 21</caption>\n",
       "<thead>\n",
       "\t<tr><th scope=col>node1</th><th scope=col>node2</th><th scope=col>CHROM</th><th scope=col>POS</th><th scope=col>RSID</th><th scope=col>EA</th><th scope=col>NEA</th><th scope=col>EAF_EXP</th><th scope=col>BETA_EXP</th><th scope=col>SE_EXP</th><th scope=col>...</th><th scope=col>EAF_OUT</th><th scope=col>BETA_OUT</th><th scope=col>SE_OUT</th><th scope=col>PVAL_OUT</th><th scope=col>beta_smr</th><th scope=col>se_smr</th><th scope=col>pval_smr</th><th scope=col>pval_heidi</th><th scope=col>nsnp_heidi</th><th scope=col>failure</th></tr>\n",
       "\t<tr><th scope=col>&lt;chr&gt;</th><th scope=col>&lt;chr&gt;</th><th scope=col>&lt;dbl&gt;</th><th scope=col>&lt;dbl&gt;</th><th scope=col>&lt;chr&gt;</th><th scope=col>&lt;chr&gt;</th><th scope=col>&lt;chr&gt;</th><th scope=col>&lt;dbl&gt;</th><th scope=col>&lt;dbl&gt;</th><th scope=col>&lt;dbl&gt;</th><th scope=col>...</th><th scope=col>&lt;dbl&gt;</th><th scope=col>&lt;dbl&gt;</th><th scope=col>&lt;dbl&gt;</th><th scope=col>&lt;dbl&gt;</th><th scope=col>&lt;dbl&gt;</th><th scope=col>&lt;dbl&gt;</th><th scope=col>&lt;dbl&gt;</th><th scope=col>&lt;dbl&gt;</th><th scope=col>&lt;dbl&gt;</th><th scope=col>&lt;chr&gt;</th></tr>\n",
       "</thead>\n",
       "<tbody>\n",
       "\t<tr><td>AGRP</td><td>CD4    </td><td>16</td><td>67475802</td><td>rs77115810</td><td>G</td><td>A</td><td>0.984698</td><td>0.259008</td><td>0.0301088</td><td>...</td><td>0.9847965</td><td>-0.040638600</td><td>0.03008010</td><td>0.176691</td><td>-0.156900945</td><td>0.117559310</td><td>0.181989778</td><td>2.956012e-01</td><td> 6</td><td>None</td></tr>\n",
       "\t<tr><td>AGRP</td><td>Glucose</td><td>16</td><td>67475802</td><td>rs77115810</td><td>G</td><td>A</td><td>0.984698</td><td>0.259008</td><td>0.0301088</td><td>...</td><td>0.9820000</td><td> 0.010600000</td><td>0.00960000</td><td>0.459500</td><td> 0.040925377</td><td>0.037368567</td><td>0.273436967</td><td>6.629666e-01</td><td> 6</td><td>None</td></tr>\n",
       "\t<tr><td>AGRP</td><td>TG     </td><td>16</td><td>67475802</td><td>rs77115810</td><td>G</td><td>A</td><td>0.984698</td><td>0.259008</td><td>0.0301088</td><td>...</td><td>0.9864000</td><td> 0.018400000</td><td>0.00580000</td><td>0.001514</td><td> 0.071040277</td><td>0.023867342</td><td>0.002915936</td><td>8.376875e-02</td><td> 6</td><td>None</td></tr>\n",
       "\t<tr><td>APOM</td><td>HDL    </td><td> 6</td><td>31633552</td><td>rs805258  </td><td>C</td><td>T</td><td>0.970408</td><td>0.784462</td><td>0.0217097</td><td>...</td><td>0.9559000</td><td>-0.005200000</td><td>0.00310000</td><td>0.087020</td><td>-0.006628747</td><td>0.003956009</td><td>0.093813658</td><td>4.502747e-03</td><td>20</td><td>None</td></tr>\n",
       "\t<tr><td>APOM</td><td>TG     </td><td> 6</td><td>31633552</td><td>rs805258  </td><td>C</td><td>T</td><td>0.970408</td><td>0.784462</td><td>0.0217097</td><td>...</td><td>0.9568000</td><td> 0.002700000</td><td>0.00310000</td><td>0.389100</td><td> 0.003441849</td><td>0.003952901</td><td>0.383909873</td><td>4.471731e-09</td><td>20</td><td>None</td></tr>\n",
       "\t<tr><td>CD4 </td><td>CTRC   </td><td>12</td><td> 6896546</td><td>rs73053728</td><td>A</td><td>G</td><td>0.697681</td><td>0.359292</td><td>0.0080763</td><td>...</td><td>0.6977240</td><td>-0.000966975</td><td>0.00751418</td><td>0.897605</td><td>-0.002691335</td><td>0.020913940</td><td>0.897605989</td><td>7.803992e-01</td><td>20</td><td>None</td></tr>\n",
       "</tbody>\n",
       "</table>\n"
      ],
      "text/latex": [
       "A tibble: 6 x 21\n",
       "\\begin{tabular}{lllllllllllllllllllll}\n",
       " node1 & node2 & CHROM & POS & RSID & EA & NEA & EAF\\_EXP & BETA\\_EXP & SE\\_EXP & ... & EAF\\_OUT & BETA\\_OUT & SE\\_OUT & PVAL\\_OUT & beta\\_smr & se\\_smr & pval\\_smr & pval\\_heidi & nsnp\\_heidi & failure\\\\\n",
       " <chr> & <chr> & <dbl> & <dbl> & <chr> & <chr> & <chr> & <dbl> & <dbl> & <dbl> & ... & <dbl> & <dbl> & <dbl> & <dbl> & <dbl> & <dbl> & <dbl> & <dbl> & <dbl> & <chr>\\\\\n",
       "\\hline\n",
       "\t AGRP & CD4     & 16 & 67475802 & rs77115810 & G & A & 0.984698 & 0.259008 & 0.0301088 & ... & 0.9847965 & -0.040638600 & 0.03008010 & 0.176691 & -0.156900945 & 0.117559310 & 0.181989778 & 2.956012e-01 &  6 & None\\\\\n",
       "\t AGRP & Glucose & 16 & 67475802 & rs77115810 & G & A & 0.984698 & 0.259008 & 0.0301088 & ... & 0.9820000 &  0.010600000 & 0.00960000 & 0.459500 &  0.040925377 & 0.037368567 & 0.273436967 & 6.629666e-01 &  6 & None\\\\\n",
       "\t AGRP & TG      & 16 & 67475802 & rs77115810 & G & A & 0.984698 & 0.259008 & 0.0301088 & ... & 0.9864000 &  0.018400000 & 0.00580000 & 0.001514 &  0.071040277 & 0.023867342 & 0.002915936 & 8.376875e-02 &  6 & None\\\\\n",
       "\t APOM & HDL     &  6 & 31633552 & rs805258   & C & T & 0.970408 & 0.784462 & 0.0217097 & ... & 0.9559000 & -0.005200000 & 0.00310000 & 0.087020 & -0.006628747 & 0.003956009 & 0.093813658 & 4.502747e-03 & 20 & None\\\\\n",
       "\t APOM & TG      &  6 & 31633552 & rs805258   & C & T & 0.970408 & 0.784462 & 0.0217097 & ... & 0.9568000 &  0.002700000 & 0.00310000 & 0.389100 &  0.003441849 & 0.003952901 & 0.383909873 & 4.471731e-09 & 20 & None\\\\\n",
       "\t CD4  & CTRC    & 12 &  6896546 & rs73053728 & A & G & 0.697681 & 0.359292 & 0.0080763 & ... & 0.6977240 & -0.000966975 & 0.00751418 & 0.897605 & -0.002691335 & 0.020913940 & 0.897605989 & 7.803992e-01 & 20 & None\\\\\n",
       "\\end{tabular}\n"
      ],
      "text/markdown": [
       "\n",
       "A tibble: 6 x 21\n",
       "\n",
       "| node1 &lt;chr&gt; | node2 &lt;chr&gt; | CHROM &lt;dbl&gt; | POS &lt;dbl&gt; | RSID &lt;chr&gt; | EA &lt;chr&gt; | NEA &lt;chr&gt; | EAF_EXP &lt;dbl&gt; | BETA_EXP &lt;dbl&gt; | SE_EXP &lt;dbl&gt; | ... ... | EAF_OUT &lt;dbl&gt; | BETA_OUT &lt;dbl&gt; | SE_OUT &lt;dbl&gt; | PVAL_OUT &lt;dbl&gt; | beta_smr &lt;dbl&gt; | se_smr &lt;dbl&gt; | pval_smr &lt;dbl&gt; | pval_heidi &lt;dbl&gt; | nsnp_heidi &lt;dbl&gt; | failure &lt;chr&gt; |\n",
       "|---|---|---|---|---|---|---|---|---|---|---|---|---|---|---|---|---|---|---|---|---|\n",
       "| AGRP | CD4     | 16 | 67475802 | rs77115810 | G | A | 0.984698 | 0.259008 | 0.0301088 | ... | 0.9847965 | -0.040638600 | 0.03008010 | 0.176691 | -0.156900945 | 0.117559310 | 0.181989778 | 2.956012e-01 |  6 | None |\n",
       "| AGRP | Glucose | 16 | 67475802 | rs77115810 | G | A | 0.984698 | 0.259008 | 0.0301088 | ... | 0.9820000 |  0.010600000 | 0.00960000 | 0.459500 |  0.040925377 | 0.037368567 | 0.273436967 | 6.629666e-01 |  6 | None |\n",
       "| AGRP | TG      | 16 | 67475802 | rs77115810 | G | A | 0.984698 | 0.259008 | 0.0301088 | ... | 0.9864000 |  0.018400000 | 0.00580000 | 0.001514 |  0.071040277 | 0.023867342 | 0.002915936 | 8.376875e-02 |  6 | None |\n",
       "| APOM | HDL     |  6 | 31633552 | rs805258   | C | T | 0.970408 | 0.784462 | 0.0217097 | ... | 0.9559000 | -0.005200000 | 0.00310000 | 0.087020 | -0.006628747 | 0.003956009 | 0.093813658 | 4.502747e-03 | 20 | None |\n",
       "| APOM | TG      |  6 | 31633552 | rs805258   | C | T | 0.970408 | 0.784462 | 0.0217097 | ... | 0.9568000 |  0.002700000 | 0.00310000 | 0.389100 |  0.003441849 | 0.003952901 | 0.383909873 | 4.471731e-09 | 20 | None |\n",
       "| CD4  | CTRC    | 12 |  6896546 | rs73053728 | A | G | 0.697681 | 0.359292 | 0.0080763 | ... | 0.6977240 | -0.000966975 | 0.00751418 | 0.897605 | -0.002691335 | 0.020913940 | 0.897605989 | 7.803992e-01 | 20 | None |\n",
       "\n"
      ],
      "text/plain": [
       "  node1 node2   CHROM POS      RSID       EA NEA EAF_EXP  BETA_EXP SE_EXP   \n",
       "1 AGRP  CD4     16    67475802 rs77115810 G  A   0.984698 0.259008 0.0301088\n",
       "2 AGRP  Glucose 16    67475802 rs77115810 G  A   0.984698 0.259008 0.0301088\n",
       "3 AGRP  TG      16    67475802 rs77115810 G  A   0.984698 0.259008 0.0301088\n",
       "4 APOM  HDL      6    31633552 rs805258   C  T   0.970408 0.784462 0.0217097\n",
       "5 APOM  TG       6    31633552 rs805258   C  T   0.970408 0.784462 0.0217097\n",
       "6 CD4   CTRC    12     6896546 rs73053728 A  G   0.697681 0.359292 0.0080763\n",
       "  ... EAF_OUT   BETA_OUT     SE_OUT     PVAL_OUT beta_smr     se_smr     \n",
       "1 ... 0.9847965 -0.040638600 0.03008010 0.176691 -0.156900945 0.117559310\n",
       "2 ... 0.9820000  0.010600000 0.00960000 0.459500  0.040925377 0.037368567\n",
       "3 ... 0.9864000  0.018400000 0.00580000 0.001514  0.071040277 0.023867342\n",
       "4 ... 0.9559000 -0.005200000 0.00310000 0.087020 -0.006628747 0.003956009\n",
       "5 ... 0.9568000  0.002700000 0.00310000 0.389100  0.003441849 0.003952901\n",
       "6 ... 0.6977240 -0.000966975 0.00751418 0.897605 -0.002691335 0.020913940\n",
       "  pval_smr    pval_heidi   nsnp_heidi failure\n",
       "1 0.181989778 2.956012e-01  6         None   \n",
       "2 0.273436967 6.629666e-01  6         None   \n",
       "3 0.002915936 8.376875e-02  6         None   \n",
       "4 0.093813658 4.502747e-03 20         None   \n",
       "5 0.383909873 4.471731e-09 20         None   \n",
       "6 0.897605989 7.803992e-01 20         None   "
      ]
     },
     "metadata": {},
     "output_type": "display_data"
    }
   ],
   "source": [
    "smrheidi_res <- edge_table_results |>\n",
    "  filter(atype == \"SMRHEIDI\") |>\n",
    "  transmute(\n",
    "    node1, node2,\n",
    "    resdf = map(RESOBJ, \"resdf\"),\n",
    "    failure = map_chr(RESOBJ, \"failure\")\n",
    "  ) |>\n",
    "  unnest(resdf, keep_empty = TRUE)\n",
    "head(smrheidi_res)"
   ]
  },
  {
   "cell_type": "markdown",
   "id": "f83fc239",
   "metadata": {},
   "source": [
    "### Top hits"
   ]
  },
  {
   "cell_type": "code",
   "execution_count": 58,
   "id": "fae394d1",
   "metadata": {
    "vscode": {
     "languageId": "r"
    }
   },
   "outputs": [
    {
     "data": {
      "text/html": [
       "<table class=\"dataframe\">\n",
       "<caption>A tibble: 4 x 21</caption>\n",
       "<thead>\n",
       "\t<tr><th scope=col>node1</th><th scope=col>node2</th><th scope=col>CHROM</th><th scope=col>POS</th><th scope=col>RSID</th><th scope=col>EA</th><th scope=col>NEA</th><th scope=col>EAF_EXP</th><th scope=col>BETA_EXP</th><th scope=col>SE_EXP</th><th scope=col>...</th><th scope=col>EAF_OUT</th><th scope=col>BETA_OUT</th><th scope=col>SE_OUT</th><th scope=col>PVAL_OUT</th><th scope=col>beta_smr</th><th scope=col>se_smr</th><th scope=col>pval_smr</th><th scope=col>pval_heidi</th><th scope=col>nsnp_heidi</th><th scope=col>failure</th></tr>\n",
       "\t<tr><th scope=col>&lt;chr&gt;</th><th scope=col>&lt;chr&gt;</th><th scope=col>&lt;dbl&gt;</th><th scope=col>&lt;dbl&gt;</th><th scope=col>&lt;chr&gt;</th><th scope=col>&lt;chr&gt;</th><th scope=col>&lt;chr&gt;</th><th scope=col>&lt;dbl&gt;</th><th scope=col>&lt;dbl&gt;</th><th scope=col>&lt;dbl&gt;</th><th scope=col>...</th><th scope=col>&lt;dbl&gt;</th><th scope=col>&lt;dbl&gt;</th><th scope=col>&lt;dbl&gt;</th><th scope=col>&lt;dbl&gt;</th><th scope=col>&lt;dbl&gt;</th><th scope=col>&lt;dbl&gt;</th><th scope=col>&lt;dbl&gt;</th><th scope=col>&lt;dbl&gt;</th><th scope=col>&lt;dbl&gt;</th><th scope=col>&lt;chr&gt;</th></tr>\n",
       "</thead>\n",
       "<tbody>\n",
       "\t<tr><td>AGRP</td><td>TG        </td><td>16</td><td>67475802</td><td>rs77115810</td><td>G</td><td>A</td><td>0.984698</td><td>0.259008</td><td>0.03010880</td><td>...</td><td>0.986400</td><td> 0.0184000</td><td>0.0058000</td><td>1.51400e-03</td><td> 0.07104028</td><td>0.023867342</td><td>2.915936e-03</td><td>0.08376875</td><td> 6</td><td>None</td></tr>\n",
       "\t<tr><td>CDH5</td><td>CTRC      </td><td>16</td><td>66432381</td><td>rs16956504</td><td>C</td><td>T</td><td>0.104400</td><td>0.308351</td><td>0.01113240</td><td>...</td><td>0.104448</td><td> 0.0366406</td><td>0.0112865</td><td>1.16869e-03</td><td> 0.11882757</td><td>0.036853317</td><td>1.262640e-03</td><td>0.03690469</td><td>20</td><td>None</td></tr>\n",
       "\t<tr><td>PON3</td><td>TwoInsulin</td><td> 7</td><td>94955528</td><td>rs757158  </td><td>C</td><td>T</td><td>0.570003</td><td>0.286312</td><td>0.00738436</td><td>...</td><td>0.522100</td><td>-0.0199635</td><td>0.0064887</td><td>2.09300e-03</td><td>-0.06972638</td><td>0.022734277</td><td>2.162075e-03</td><td>0.33995094</td><td>20</td><td>None</td></tr>\n",
       "\t<tr><td>PON3</td><td>HDL       </td><td> 7</td><td>94955528</td><td>rs757158  </td><td>C</td><td>T</td><td>0.570003</td><td>0.286312</td><td>0.00738436</td><td>...</td><td>0.518000</td><td>-0.0082000</td><td>0.0013000</td><td>2.52700e-10</td><td>-0.02864008</td><td>0.004600193</td><td>4.789709e-10</td><td>0.24141686</td><td>20</td><td>None</td></tr>\n",
       "</tbody>\n",
       "</table>\n"
      ],
      "text/latex": [
       "A tibble: 4 x 21\n",
       "\\begin{tabular}{lllllllllllllllllllll}\n",
       " node1 & node2 & CHROM & POS & RSID & EA & NEA & EAF\\_EXP & BETA\\_EXP & SE\\_EXP & ... & EAF\\_OUT & BETA\\_OUT & SE\\_OUT & PVAL\\_OUT & beta\\_smr & se\\_smr & pval\\_smr & pval\\_heidi & nsnp\\_heidi & failure\\\\\n",
       " <chr> & <chr> & <dbl> & <dbl> & <chr> & <chr> & <chr> & <dbl> & <dbl> & <dbl> & ... & <dbl> & <dbl> & <dbl> & <dbl> & <dbl> & <dbl> & <dbl> & <dbl> & <dbl> & <chr>\\\\\n",
       "\\hline\n",
       "\t AGRP & TG         & 16 & 67475802 & rs77115810 & G & A & 0.984698 & 0.259008 & 0.03010880 & ... & 0.986400 &  0.0184000 & 0.0058000 & 1.51400e-03 &  0.07104028 & 0.023867342 & 2.915936e-03 & 0.08376875 &  6 & None\\\\\n",
       "\t CDH5 & CTRC       & 16 & 66432381 & rs16956504 & C & T & 0.104400 & 0.308351 & 0.01113240 & ... & 0.104448 &  0.0366406 & 0.0112865 & 1.16869e-03 &  0.11882757 & 0.036853317 & 1.262640e-03 & 0.03690469 & 20 & None\\\\\n",
       "\t PON3 & TwoInsulin &  7 & 94955528 & rs757158   & C & T & 0.570003 & 0.286312 & 0.00738436 & ... & 0.522100 & -0.0199635 & 0.0064887 & 2.09300e-03 & -0.06972638 & 0.022734277 & 2.162075e-03 & 0.33995094 & 20 & None\\\\\n",
       "\t PON3 & HDL        &  7 & 94955528 & rs757158   & C & T & 0.570003 & 0.286312 & 0.00738436 & ... & 0.518000 & -0.0082000 & 0.0013000 & 2.52700e-10 & -0.02864008 & 0.004600193 & 4.789709e-10 & 0.24141686 & 20 & None\\\\\n",
       "\\end{tabular}\n"
      ],
      "text/markdown": [
       "\n",
       "A tibble: 4 x 21\n",
       "\n",
       "| node1 &lt;chr&gt; | node2 &lt;chr&gt; | CHROM &lt;dbl&gt; | POS &lt;dbl&gt; | RSID &lt;chr&gt; | EA &lt;chr&gt; | NEA &lt;chr&gt; | EAF_EXP &lt;dbl&gt; | BETA_EXP &lt;dbl&gt; | SE_EXP &lt;dbl&gt; | ... ... | EAF_OUT &lt;dbl&gt; | BETA_OUT &lt;dbl&gt; | SE_OUT &lt;dbl&gt; | PVAL_OUT &lt;dbl&gt; | beta_smr &lt;dbl&gt; | se_smr &lt;dbl&gt; | pval_smr &lt;dbl&gt; | pval_heidi &lt;dbl&gt; | nsnp_heidi &lt;dbl&gt; | failure &lt;chr&gt; |\n",
       "|---|---|---|---|---|---|---|---|---|---|---|---|---|---|---|---|---|---|---|---|---|\n",
       "| AGRP | TG         | 16 | 67475802 | rs77115810 | G | A | 0.984698 | 0.259008 | 0.03010880 | ... | 0.986400 |  0.0184000 | 0.0058000 | 1.51400e-03 |  0.07104028 | 0.023867342 | 2.915936e-03 | 0.08376875 |  6 | None |\n",
       "| CDH5 | CTRC       | 16 | 66432381 | rs16956504 | C | T | 0.104400 | 0.308351 | 0.01113240 | ... | 0.104448 |  0.0366406 | 0.0112865 | 1.16869e-03 |  0.11882757 | 0.036853317 | 1.262640e-03 | 0.03690469 | 20 | None |\n",
       "| PON3 | TwoInsulin |  7 | 94955528 | rs757158   | C | T | 0.570003 | 0.286312 | 0.00738436 | ... | 0.522100 | -0.0199635 | 0.0064887 | 2.09300e-03 | -0.06972638 | 0.022734277 | 2.162075e-03 | 0.33995094 | 20 | None |\n",
       "| PON3 | HDL        |  7 | 94955528 | rs757158   | C | T | 0.570003 | 0.286312 | 0.00738436 | ... | 0.518000 | -0.0082000 | 0.0013000 | 2.52700e-10 | -0.02864008 | 0.004600193 | 4.789709e-10 | 0.24141686 | 20 | None |\n",
       "\n"
      ],
      "text/plain": [
       "  node1 node2      CHROM POS      RSID       EA NEA EAF_EXP  BETA_EXP\n",
       "1 AGRP  TG         16    67475802 rs77115810 G  A   0.984698 0.259008\n",
       "2 CDH5  CTRC       16    66432381 rs16956504 C  T   0.104400 0.308351\n",
       "3 PON3  TwoInsulin  7    94955528 rs757158   C  T   0.570003 0.286312\n",
       "4 PON3  HDL         7    94955528 rs757158   C  T   0.570003 0.286312\n",
       "  SE_EXP     ... EAF_OUT  BETA_OUT   SE_OUT    PVAL_OUT    beta_smr   \n",
       "1 0.03010880 ... 0.986400  0.0184000 0.0058000 1.51400e-03  0.07104028\n",
       "2 0.01113240 ... 0.104448  0.0366406 0.0112865 1.16869e-03  0.11882757\n",
       "3 0.00738436 ... 0.522100 -0.0199635 0.0064887 2.09300e-03 -0.06972638\n",
       "4 0.00738436 ... 0.518000 -0.0082000 0.0013000 2.52700e-10 -0.02864008\n",
       "  se_smr      pval_smr     pval_heidi nsnp_heidi failure\n",
       "1 0.023867342 2.915936e-03 0.08376875  6         None   \n",
       "2 0.036853317 1.262640e-03 0.03690469 20         None   \n",
       "3 0.022734277 2.162075e-03 0.33995094 20         None   \n",
       "4 0.004600193 4.789709e-10 0.24141686 20         None   "
      ]
     },
     "metadata": {},
     "output_type": "display_data"
    }
   ],
   "source": [
    "smrheidi_res |>\n",
    "  filter(pval_smr < 0.01, pval_heidi > 0.01)"
   ]
  },
  {
   "cell_type": "markdown",
   "id": "3e1243a5",
   "metadata": {},
   "source": [
    "### Saving"
   ]
  },
  {
   "cell_type": "code",
   "execution_count": 59,
   "id": "2c76c407-c664-4901-a3f2-829e26e255d1",
   "metadata": {
    "vscode": {
     "languageId": "r"
    }
   },
   "outputs": [],
   "source": [
    "write_tsv(\n",
    "  smrheidi_res,\n",
    "  file.path(projfold, \"data\", \"smrheidi_res.tsv\")\n",
    ")"
   ]
  }
 ],
 "metadata": {
  "kernelspec": {
   "display_name": "R",
   "language": "R",
   "name": "ir"
  },
  "language_info": {
   "codemirror_mode": "r",
   "file_extension": ".r",
   "mimetype": "text/x-r-source",
   "name": "R",
   "pygments_lexer": "r",
   "version": "4.4.3"
  }
 },
 "nbformat": 4,
 "nbformat_minor": 5
}
