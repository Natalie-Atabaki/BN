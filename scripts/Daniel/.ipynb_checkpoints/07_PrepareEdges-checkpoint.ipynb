{
 "cells": [
  {
   "cell_type": "markdown",
   "id": "d84b8ce3-ef32-43fa-a786-c24f28918acd",
   "metadata": {},
   "source": [
    "# Preparing edge table to test"
   ]
  },
  {
   "cell_type": "markdown",
   "id": "ba26292a-ee1b-433f-9498-a2aa3916d3cf",
   "metadata": {},
   "source": [
    "## Libraries"
   ]
  },
  {
   "cell_type": "code",
   "execution_count": 1,
   "id": "17084bb0-87f5-40f6-80c9-c019bb65a957",
   "metadata": {},
   "outputs": [],
   "source": [
    "suppressMessages({\n",
    "  library(here)\n",
    "  library(readr)\n",
    "  library(dplyr)\n",
    "  library(tidyr)\n",
    "  library(purrr)\n",
    "  library(ggplot2)\n",
    "})"
   ]
  },
  {
   "cell_type": "markdown",
   "id": "db3c7b2f-3bc4-491d-8168-f5eeae27d62c",
   "metadata": {},
   "source": [
    "## Edge table to test"
   ]
  },
  {
   "cell_type": "markdown",
   "id": "8ac8706a-f4bb-4d16-b3ed-ff798a295a7f",
   "metadata": {},
   "source": [
    "This table has been modified from `edge_table_original` manually to match the GWAS data available:"
   ]
  },
  {
   "cell_type": "code",
   "execution_count": 2,
   "id": "1984668a-40fd-487e-a87d-6a87609c0236",
   "metadata": {},
   "outputs": [
    {
     "data": {
      "text/html": [
       "<table class=\"dataframe\">\n",
       "<caption>A tibble: 6 × 3</caption>\n",
       "<thead>\n",
       "\t<tr><th scope=col>NODE1</th><th scope=col>CIS</th><th scope=col>NODE2</th></tr>\n",
       "\t<tr><th scope=col>&lt;chr&gt;</th><th scope=col>&lt;lgl&gt;</th><th scope=col>&lt;chr&gt;</th></tr>\n",
       "</thead>\n",
       "<tbody>\n",
       "\t<tr><td>FG </td><td>FALSE</td><td>AGRP </td></tr>\n",
       "\t<tr><td>IFC</td><td>FALSE</td><td>PON3 </td></tr>\n",
       "\t<tr><td>HDL</td><td>FALSE</td><td>HMOX1</td></tr>\n",
       "\t<tr><td>HDL</td><td>FALSE</td><td>APOM </td></tr>\n",
       "\t<tr><td>TG </td><td>FALSE</td><td>APOM </td></tr>\n",
       "\t<tr><td>TG </td><td>FALSE</td><td>LDLR </td></tr>\n",
       "</tbody>\n",
       "</table>\n"
      ],
      "text/latex": [
       "A tibble: 6 × 3\n",
       "\\begin{tabular}{lll}\n",
       " NODE1 & CIS & NODE2\\\\\n",
       " <chr> & <lgl> & <chr>\\\\\n",
       "\\hline\n",
       "\t FG  & FALSE & AGRP \\\\\n",
       "\t IFC & FALSE & PON3 \\\\\n",
       "\t HDL & FALSE & HMOX1\\\\\n",
       "\t HDL & FALSE & APOM \\\\\n",
       "\t TG  & FALSE & APOM \\\\\n",
       "\t TG  & FALSE & LDLR \\\\\n",
       "\\end{tabular}\n"
      ],
      "text/markdown": [
       "\n",
       "A tibble: 6 × 3\n",
       "\n",
       "| NODE1 &lt;chr&gt; | CIS &lt;lgl&gt; | NODE2 &lt;chr&gt; |\n",
       "|---|---|---|\n",
       "| FG  | FALSE | AGRP  |\n",
       "| IFC | FALSE | PON3  |\n",
       "| HDL | FALSE | HMOX1 |\n",
       "| HDL | FALSE | APOM  |\n",
       "| TG  | FALSE | APOM  |\n",
       "| TG  | FALSE | LDLR  |\n",
       "\n"
      ],
      "text/plain": [
       "  NODE1 CIS   NODE2\n",
       "1 FG    FALSE AGRP \n",
       "2 IFC   FALSE PON3 \n",
       "3 HDL   FALSE HMOX1\n",
       "4 HDL   FALSE APOM \n",
       "5 TG    FALSE APOM \n",
       "6 TG    FALSE LDLR "
      ]
     },
     "metadata": {},
     "output_type": "display_data"
    }
   ],
   "source": [
    "edge_table_harmon <- read_tsv(here('data/edge_table_harmon.tsv'), show_col_types = FALSE)\n",
    "head(edge_table_harmon)"
   ]
  },
  {
   "cell_type": "markdown",
   "id": "18eab164-da18-456e-9908-226d8ed7849c",
   "metadata": {},
   "source": [
    "## Gencode table"
   ]
  },
  {
   "cell_type": "code",
   "execution_count": 3,
   "id": "5f11873c-9f83-4081-ab89-18ebc6bd8c1a",
   "metadata": {},
   "outputs": [
    {
     "data": {
      "text/html": [
       "<table class=\"dataframe\">\n",
       "<caption>A tibble: 6 × 8</caption>\n",
       "<thead>\n",
       "\t<tr><th scope=col>CHROM</th><th scope=col>source</th><th scope=col>start</th><th scope=col>end</th><th scope=col>strand</th><th scope=col>gene_id</th><th scope=col>gene_type</th><th scope=col>gene_name</th></tr>\n",
       "\t<tr><th scope=col>&lt;chr&gt;</th><th scope=col>&lt;chr&gt;</th><th scope=col>&lt;dbl&gt;</th><th scope=col>&lt;dbl&gt;</th><th scope=col>&lt;chr&gt;</th><th scope=col>&lt;chr&gt;</th><th scope=col>&lt;chr&gt;</th><th scope=col>&lt;chr&gt;</th></tr>\n",
       "</thead>\n",
       "<tbody>\n",
       "\t<tr><td>1</td><td>HAVANA</td><td>10370</td><td>13118</td><td>+</td><td>ENSG00000308415.1_1 </td><td>lncRNA                            </td><td>DDX11L2    </td></tr>\n",
       "\t<tr><td>1</td><td>HAVANA</td><td>11121</td><td>24894</td><td>+</td><td>ENSG00000290825.2_2 </td><td>lncRNA                            </td><td>DDX11L16   </td></tr>\n",
       "\t<tr><td>1</td><td>HAVANA</td><td>12010</td><td>13670</td><td>+</td><td>ENSG00000223972.6_6 </td><td>transcribed_unprocessed_pseudogene</td><td>DDX11L1    </td></tr>\n",
       "\t<tr><td>1</td><td>HAVANA</td><td>14356</td><td>30744</td><td>-</td><td>ENSG00000310526.1_1 </td><td>lncRNA                            </td><td>WASH7P     </td></tr>\n",
       "\t<tr><td>1</td><td>HAVANA</td><td>14696</td><td>24886</td><td>-</td><td>ENSG00000227232.6_7 </td><td>transcribed_unprocessed_pseudogene</td><td>WASH7P     </td></tr>\n",
       "\t<tr><td>1</td><td>HAVANA</td><td>28589</td><td>31109</td><td>+</td><td>ENSG00000243485.6_13</td><td>lncRNA                            </td><td>MIR1302-2HG</td></tr>\n",
       "</tbody>\n",
       "</table>\n"
      ],
      "text/latex": [
       "A tibble: 6 × 8\n",
       "\\begin{tabular}{llllllll}\n",
       " CHROM & source & start & end & strand & gene\\_id & gene\\_type & gene\\_name\\\\\n",
       " <chr> & <chr> & <dbl> & <dbl> & <chr> & <chr> & <chr> & <chr>\\\\\n",
       "\\hline\n",
       "\t 1 & HAVANA & 10370 & 13118 & + & ENSG00000308415.1\\_1  & lncRNA                             & DDX11L2    \\\\\n",
       "\t 1 & HAVANA & 11121 & 24894 & + & ENSG00000290825.2\\_2  & lncRNA                             & DDX11L16   \\\\\n",
       "\t 1 & HAVANA & 12010 & 13670 & + & ENSG00000223972.6\\_6  & transcribed\\_unprocessed\\_pseudogene & DDX11L1    \\\\\n",
       "\t 1 & HAVANA & 14356 & 30744 & - & ENSG00000310526.1\\_1  & lncRNA                             & WASH7P     \\\\\n",
       "\t 1 & HAVANA & 14696 & 24886 & - & ENSG00000227232.6\\_7  & transcribed\\_unprocessed\\_pseudogene & WASH7P     \\\\\n",
       "\t 1 & HAVANA & 28589 & 31109 & + & ENSG00000243485.6\\_13 & lncRNA                             & MIR1302-2HG\\\\\n",
       "\\end{tabular}\n"
      ],
      "text/markdown": [
       "\n",
       "A tibble: 6 × 8\n",
       "\n",
       "| CHROM &lt;chr&gt; | source &lt;chr&gt; | start &lt;dbl&gt; | end &lt;dbl&gt; | strand &lt;chr&gt; | gene_id &lt;chr&gt; | gene_type &lt;chr&gt; | gene_name &lt;chr&gt; |\n",
       "|---|---|---|---|---|---|---|---|\n",
       "| 1 | HAVANA | 10370 | 13118 | + | ENSG00000308415.1_1  | lncRNA                             | DDX11L2     |\n",
       "| 1 | HAVANA | 11121 | 24894 | + | ENSG00000290825.2_2  | lncRNA                             | DDX11L16    |\n",
       "| 1 | HAVANA | 12010 | 13670 | + | ENSG00000223972.6_6  | transcribed_unprocessed_pseudogene | DDX11L1     |\n",
       "| 1 | HAVANA | 14356 | 30744 | - | ENSG00000310526.1_1  | lncRNA                             | WASH7P      |\n",
       "| 1 | HAVANA | 14696 | 24886 | - | ENSG00000227232.6_7  | transcribed_unprocessed_pseudogene | WASH7P      |\n",
       "| 1 | HAVANA | 28589 | 31109 | + | ENSG00000243485.6_13 | lncRNA                             | MIR1302-2HG |\n",
       "\n"
      ],
      "text/plain": [
       "  CHROM source start end   strand gene_id             \n",
       "1 1     HAVANA 10370 13118 +      ENSG00000308415.1_1 \n",
       "2 1     HAVANA 11121 24894 +      ENSG00000290825.2_2 \n",
       "3 1     HAVANA 12010 13670 +      ENSG00000223972.6_6 \n",
       "4 1     HAVANA 14356 30744 -      ENSG00000310526.1_1 \n",
       "5 1     HAVANA 14696 24886 -      ENSG00000227232.6_7 \n",
       "6 1     HAVANA 28589 31109 +      ENSG00000243485.6_13\n",
       "  gene_type                          gene_name  \n",
       "1 lncRNA                             DDX11L2    \n",
       "2 lncRNA                             DDX11L16   \n",
       "3 transcribed_unprocessed_pseudogene DDX11L1    \n",
       "4 lncRNA                             WASH7P     \n",
       "5 transcribed_unprocessed_pseudogene WASH7P     \n",
       "6 lncRNA                             MIR1302-2HG"
      ]
     },
     "metadata": {},
     "output_type": "display_data"
    }
   ],
   "source": [
    "gencode <- read_tsv(\n",
    "  paste0(\n",
    "    '/Users/da1078co/Documents/Data/GENCODE/',\n",
    "    'gencode.v47lift37.basic.annotation.gtf.gz'\n",
    "  ),\n",
    "  comment = '#',\n",
    "  col_types = 'cccnn-c-c',\n",
    "  col_names = c(\n",
    "    'CHROM', 'source', 'gene_type',\n",
    "    'start', 'end', 'strand', 'addinfo'\n",
    "  )\n",
    ") |>\n",
    "  filter(gene_type == 'gene') |>\n",
    "  select(-gene_type) |>\n",
    "  mutate(\n",
    "    CHROM = gsub('chr', '', CHROM),\n",
    "    gene_id = gsub(\n",
    "      '^gene_id \\\"([^\\\"]+)\\\";.*',\n",
    "      '\\\\1',\n",
    "      addinfo\n",
    "    ),\n",
    "    gene_type = gsub(\n",
    "      '.*gene_type \\\"([^\\\"]+)\\\";.*',\n",
    "      '\\\\1',\n",
    "      addinfo\n",
    "    ),\n",
    "    gene_name = gsub(\n",
    "      '.*gene_name \\\"([^\\\"]+)\\\";.*',\n",
    "      '\\\\1',\n",
    "      addinfo\n",
    "    )\n",
    "  ) |>\n",
    "  select(-addinfo)\n",
    "head(gencode)"
   ]
  },
  {
   "cell_type": "markdown",
   "id": "de50916f-8d98-4607-beb8-bf57e40ea249",
   "metadata": {},
   "source": [
    "## Adding cis regions where needed"
   ]
  },
  {
   "cell_type": "code",
   "execution_count": 4,
   "id": "6dc71634-82fb-47e9-a7b1-a458e5e5f8c1",
   "metadata": {},
   "outputs": [
    {
     "data": {
      "text/html": [
       "<table class=\"dataframe\">\n",
       "<caption>A tibble: 6 × 6</caption>\n",
       "<thead>\n",
       "\t<tr><th scope=col>NODE1</th><th scope=col>CIS</th><th scope=col>NODE2</th><th scope=col>CHROM</th><th scope=col>start</th><th scope=col>end</th></tr>\n",
       "\t<tr><th scope=col>&lt;chr&gt;</th><th scope=col>&lt;lgl&gt;</th><th scope=col>&lt;chr&gt;</th><th scope=col>&lt;dbl&gt;</th><th scope=col>&lt;dbl&gt;</th><th scope=col>&lt;dbl&gt;</th></tr>\n",
       "</thead>\n",
       "<tbody>\n",
       "\t<tr><td>FG </td><td>FALSE</td><td>AGRP </td><td>NA</td><td>NA</td><td>NA</td></tr>\n",
       "\t<tr><td>IFC</td><td>FALSE</td><td>PON3 </td><td>NA</td><td>NA</td><td>NA</td></tr>\n",
       "\t<tr><td>HDL</td><td>FALSE</td><td>HMOX1</td><td>NA</td><td>NA</td><td>NA</td></tr>\n",
       "\t<tr><td>HDL</td><td>FALSE</td><td>APOM </td><td>NA</td><td>NA</td><td>NA</td></tr>\n",
       "\t<tr><td>TG </td><td>FALSE</td><td>APOM </td><td>NA</td><td>NA</td><td>NA</td></tr>\n",
       "\t<tr><td>TG </td><td>FALSE</td><td>LDLR </td><td>NA</td><td>NA</td><td>NA</td></tr>\n",
       "</tbody>\n",
       "</table>\n"
      ],
      "text/latex": [
       "A tibble: 6 × 6\n",
       "\\begin{tabular}{llllll}\n",
       " NODE1 & CIS & NODE2 & CHROM & start & end\\\\\n",
       " <chr> & <lgl> & <chr> & <dbl> & <dbl> & <dbl>\\\\\n",
       "\\hline\n",
       "\t FG  & FALSE & AGRP  & NA & NA & NA\\\\\n",
       "\t IFC & FALSE & PON3  & NA & NA & NA\\\\\n",
       "\t HDL & FALSE & HMOX1 & NA & NA & NA\\\\\n",
       "\t HDL & FALSE & APOM  & NA & NA & NA\\\\\n",
       "\t TG  & FALSE & APOM  & NA & NA & NA\\\\\n",
       "\t TG  & FALSE & LDLR  & NA & NA & NA\\\\\n",
       "\\end{tabular}\n"
      ],
      "text/markdown": [
       "\n",
       "A tibble: 6 × 6\n",
       "\n",
       "| NODE1 &lt;chr&gt; | CIS &lt;lgl&gt; | NODE2 &lt;chr&gt; | CHROM &lt;dbl&gt; | start &lt;dbl&gt; | end &lt;dbl&gt; |\n",
       "|---|---|---|---|---|---|\n",
       "| FG  | FALSE | AGRP  | NA | NA | NA |\n",
       "| IFC | FALSE | PON3  | NA | NA | NA |\n",
       "| HDL | FALSE | HMOX1 | NA | NA | NA |\n",
       "| HDL | FALSE | APOM  | NA | NA | NA |\n",
       "| TG  | FALSE | APOM  | NA | NA | NA |\n",
       "| TG  | FALSE | LDLR  | NA | NA | NA |\n",
       "\n"
      ],
      "text/plain": [
       "  NODE1 CIS   NODE2 CHROM start end\n",
       "1 FG    FALSE AGRP  NA    NA    NA \n",
       "2 IFC   FALSE PON3  NA    NA    NA \n",
       "3 HDL   FALSE HMOX1 NA    NA    NA \n",
       "4 HDL   FALSE APOM  NA    NA    NA \n",
       "5 TG    FALSE APOM  NA    NA    NA \n",
       "6 TG    FALSE LDLR  NA    NA    NA "
      ]
     },
     "metadata": {},
     "output_type": "display_data"
    },
    {
     "data": {
      "text/html": [
       "<table class=\"dataframe\">\n",
       "<caption>A tibble: 6 × 6</caption>\n",
       "<thead>\n",
       "\t<tr><th scope=col>NODE1</th><th scope=col>CIS</th><th scope=col>NODE2</th><th scope=col>CHROM</th><th scope=col>start</th><th scope=col>end</th></tr>\n",
       "\t<tr><th scope=col>&lt;chr&gt;</th><th scope=col>&lt;lgl&gt;</th><th scope=col>&lt;chr&gt;</th><th scope=col>&lt;dbl&gt;</th><th scope=col>&lt;dbl&gt;</th><th scope=col>&lt;dbl&gt;</th></tr>\n",
       "</thead>\n",
       "<tbody>\n",
       "\t<tr><td>IGFBP2</td><td>TRUE</td><td>LiverFat   </td><td> 2</td><td>217497551</td><td>217529159</td></tr>\n",
       "\t<tr><td>FAM3C </td><td>TRUE</td><td>HbA1c      </td><td> 7</td><td>120988932</td><td>121036418</td></tr>\n",
       "\t<tr><td>KITLG </td><td>TRUE</td><td>HDL        </td><td>12</td><td> 88886570</td><td> 88974628</td></tr>\n",
       "\t<tr><td>FGF21 </td><td>TRUE</td><td>LiverFat   </td><td>19</td><td> 49258781</td><td> 49261590</td></tr>\n",
       "\t<tr><td>TGM2  </td><td>TRUE</td><td>PancreasFat</td><td>20</td><td> 36755787</td><td> 36794980</td></tr>\n",
       "\t<tr><td>MATN2 </td><td>TRUE</td><td>xinsdG30   </td><td> 8</td><td> 98881068</td><td> 99048952</td></tr>\n",
       "</tbody>\n",
       "</table>\n"
      ],
      "text/latex": [
       "A tibble: 6 × 6\n",
       "\\begin{tabular}{llllll}\n",
       " NODE1 & CIS & NODE2 & CHROM & start & end\\\\\n",
       " <chr> & <lgl> & <chr> & <dbl> & <dbl> & <dbl>\\\\\n",
       "\\hline\n",
       "\t IGFBP2 & TRUE & LiverFat    &  2 & 217497551 & 217529159\\\\\n",
       "\t FAM3C  & TRUE & HbA1c       &  7 & 120988932 & 121036418\\\\\n",
       "\t KITLG  & TRUE & HDL         & 12 &  88886570 &  88974628\\\\\n",
       "\t FGF21  & TRUE & LiverFat    & 19 &  49258781 &  49261590\\\\\n",
       "\t TGM2   & TRUE & PancreasFat & 20 &  36755787 &  36794980\\\\\n",
       "\t MATN2  & TRUE & xinsdG30    &  8 &  98881068 &  99048952\\\\\n",
       "\\end{tabular}\n"
      ],
      "text/markdown": [
       "\n",
       "A tibble: 6 × 6\n",
       "\n",
       "| NODE1 &lt;chr&gt; | CIS &lt;lgl&gt; | NODE2 &lt;chr&gt; | CHROM &lt;dbl&gt; | start &lt;dbl&gt; | end &lt;dbl&gt; |\n",
       "|---|---|---|---|---|---|\n",
       "| IGFBP2 | TRUE | LiverFat    |  2 | 217497551 | 217529159 |\n",
       "| FAM3C  | TRUE | HbA1c       |  7 | 120988932 | 121036418 |\n",
       "| KITLG  | TRUE | HDL         | 12 |  88886570 |  88974628 |\n",
       "| FGF21  | TRUE | LiverFat    | 19 |  49258781 |  49261590 |\n",
       "| TGM2   | TRUE | PancreasFat | 20 |  36755787 |  36794980 |\n",
       "| MATN2  | TRUE | xinsdG30    |  8 |  98881068 |  99048952 |\n",
       "\n"
      ],
      "text/plain": [
       "  NODE1  CIS  NODE2       CHROM start     end      \n",
       "1 IGFBP2 TRUE LiverFat     2    217497551 217529159\n",
       "2 FAM3C  TRUE HbA1c        7    120988932 121036418\n",
       "3 KITLG  TRUE HDL         12     88886570  88974628\n",
       "4 FGF21  TRUE LiverFat    19     49258781  49261590\n",
       "5 TGM2   TRUE PancreasFat 20     36755787  36794980\n",
       "6 MATN2  TRUE xinsdG30     8     98881068  99048952"
      ]
     },
     "metadata": {},
     "output_type": "display_data"
    }
   ],
   "source": [
    "edge_table_totest <- edge_table_harmon |>\n",
    "  mutate(NODE1J = ifelse(CIS, NODE1, NA)) |>\n",
    "  left_join(gencode, by = join_by(NODE1J == gene_name)) |>\n",
    "  select(-c(NODE1J, source, strand, gene_id, gene_type)) |>\n",
    "  mutate(CHROM = as.numeric(CHROM))\n",
    "head(edge_table_totest)\n",
    "tail(edge_table_totest)"
   ]
  },
  {
   "cell_type": "markdown",
   "id": "d2e3ce59-4684-4f99-a552-0f8fb9cc0290",
   "metadata": {},
   "source": [
    "## Saving"
   ]
  },
  {
   "cell_type": "code",
   "execution_count": 5,
   "id": "5e24c953-3e73-4a02-8e74-b3531aeeb973",
   "metadata": {},
   "outputs": [],
   "source": [
    "write_tsv(edge_table_totest, here('data/edge_table_totest.tsv'))"
   ]
  }
 ],
 "metadata": {
  "kernelspec": {
   "display_name": "R",
   "language": "R",
   "name": "ir"
  },
  "language_info": {
   "codemirror_mode": "r",
   "file_extension": ".r",
   "mimetype": "text/x-r-source",
   "name": "R",
   "pygments_lexer": "r",
   "version": "4.4.2"
  }
 },
 "nbformat": 4,
 "nbformat_minor": 5
}
